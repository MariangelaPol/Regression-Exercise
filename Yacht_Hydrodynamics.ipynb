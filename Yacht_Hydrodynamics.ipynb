{
  "nbformat": 4,
  "nbformat_minor": 0,
  "metadata": {
    "colab": {
      "name": " Yacht_Hydrodynamics.ipynb",
      "provenance": [],
      "collapsed_sections": [],
      "toc_visible": true
    },
    "kernelspec": {
      "name": "python3",
      "display_name": "Python 3"
    },
    "accelerator": "GPU"
  },
  "cells": [
    {
      "cell_type": "markdown",
      "metadata": {
        "id": "OS5bYGYviSjP"
      },
      "source": [
        "# **Basic Info**"
      ]
    },
    {
      "cell_type": "markdown",
      "metadata": {
        "id": "5517KkLF_WBb"
      },
      "source": [
        "1. Prediction of residuary resistance of sailing yachts at the initial design stage is of a great value for evaluating the ships performance and for estimating the required propulsive power. Variations concern hull geometry coefficients and the Froude number:\n",
        " * Longitudinal position of the center of buoyancy, adimensional.\n",
        " * Prismatic coefficient, adimensional.\n",
        " * Length-displacement ratio, adimensional.\n",
        " * Beam-draught ratio, adimensional.\n",
        " * Length-beam ratio, adimensional.\n",
        " * Froude number, adimensional.\n",
        "\n",
        " The measured variable is the residuary resistance per unit weight of displacement:\n",
        "\n",
        " *  Residuary resistance per unit weight of   displacement, adimensional.\n",
        "\n",
        "\n",
        "\n",
        "2. Running the data.info () function we find that the number of samples is 308 and the number of attributes is 7. There are no ordered values. Running the data.dtypes function we see that the attributes of the whole dataset are real numbers\n",
        "\n",
        "\n",
        "3. No, running the data.head () function we can see that there is no numbering in the lines and there are no headings\n",
        "\n",
        "\n",
        "4. The 7th column is the target\n",
        "\n",
        "5. We converted the file from .data to .xlsx in order to load the dataset in the notebook\n",
        "\n",
        "\n",
        "6. Running the  data.isnull().values.any() function we can see that there are no missing values ​​in the dataset\n"
      ]
    },
    {
      "cell_type": "code",
      "metadata": {
        "id": "uBQwMrqs_RS2",
        "colab": {
          "base_uri": "https://localhost:8080/",
          "height": 1000
        },
        "outputId": "a70037b3-1182-45f9-948f-4fd94eb93095"
      },
      "source": [
        "!pip install --upgrade pip #upgrade pip package installer\n",
        "!pip install scikit-learn --upgrade #upgrade scikit-learn package\n",
        "!pip install numpy --upgrade #upgrade numpy package\n",
        "!pip install pandas --upgrade #--upgrade #upgrade pandas package"
      ],
      "execution_count": null,
      "outputs": [
        {
          "output_type": "stream",
          "text": [
            "Collecting pip\n",
            "\u001b[?25l  Downloading https://files.pythonhosted.org/packages/fe/ef/60d7ba03b5c442309ef42e7d69959f73aacccd0d86008362a681c4698e83/pip-21.0.1-py3-none-any.whl (1.5MB)\n",
            "\r\u001b[K     |▏                               | 10kB 18.6MB/s eta 0:00:01\r\u001b[K     |▍                               | 20kB 24.5MB/s eta 0:00:01\r\u001b[K     |▋                               | 30kB 28.3MB/s eta 0:00:01\r\u001b[K     |▉                               | 40kB 31.6MB/s eta 0:00:01\r\u001b[K     |█                               | 51kB 31.2MB/s eta 0:00:01\r\u001b[K     |█▎                              | 61kB 33.1MB/s eta 0:00:01\r\u001b[K     |█▌                              | 71kB 20.5MB/s eta 0:00:01\r\u001b[K     |█▊                              | 81kB 18.8MB/s eta 0:00:01\r\u001b[K     |██                              | 92kB 20.2MB/s eta 0:00:01\r\u001b[K     |██▏                             | 102kB 19.5MB/s eta 0:00:01\r\u001b[K     |██▍                             | 112kB 19.5MB/s eta 0:00:01\r\u001b[K     |██▌                             | 122kB 19.5MB/s eta 0:00:01\r\u001b[K     |██▊                             | 133kB 19.5MB/s eta 0:00:01\r\u001b[K     |███                             | 143kB 19.5MB/s eta 0:00:01\r\u001b[K     |███▏                            | 153kB 19.5MB/s eta 0:00:01\r\u001b[K     |███▍                            | 163kB 19.5MB/s eta 0:00:01\r\u001b[K     |███▋                            | 174kB 19.5MB/s eta 0:00:01\r\u001b[K     |███▉                            | 184kB 19.5MB/s eta 0:00:01\r\u001b[K     |████                            | 194kB 19.5MB/s eta 0:00:01\r\u001b[K     |████▎                           | 204kB 19.5MB/s eta 0:00:01\r\u001b[K     |████▌                           | 215kB 19.5MB/s eta 0:00:01\r\u001b[K     |████▊                           | 225kB 19.5MB/s eta 0:00:01\r\u001b[K     |█████                           | 235kB 19.5MB/s eta 0:00:01\r\u001b[K     |█████                           | 245kB 19.5MB/s eta 0:00:01\r\u001b[K     |█████▎                          | 256kB 19.5MB/s eta 0:00:01\r\u001b[K     |█████▌                          | 266kB 19.5MB/s eta 0:00:01\r\u001b[K     |█████▊                          | 276kB 19.5MB/s eta 0:00:01\r\u001b[K     |██████                          | 286kB 19.5MB/s eta 0:00:01\r\u001b[K     |██████▏                         | 296kB 19.5MB/s eta 0:00:01\r\u001b[K     |██████▍                         | 307kB 19.5MB/s eta 0:00:01\r\u001b[K     |██████▋                         | 317kB 19.5MB/s eta 0:00:01\r\u001b[K     |██████▉                         | 327kB 19.5MB/s eta 0:00:01\r\u001b[K     |███████                         | 337kB 19.5MB/s eta 0:00:01\r\u001b[K     |███████▎                        | 348kB 19.5MB/s eta 0:00:01\r\u001b[K     |███████▌                        | 358kB 19.5MB/s eta 0:00:01\r\u001b[K     |███████▋                        | 368kB 19.5MB/s eta 0:00:01\r\u001b[K     |███████▉                        | 378kB 19.5MB/s eta 0:00:01\r\u001b[K     |████████                        | 389kB 19.5MB/s eta 0:00:01\r\u001b[K     |████████▎                       | 399kB 19.5MB/s eta 0:00:01\r\u001b[K     |████████▌                       | 409kB 19.5MB/s eta 0:00:01\r\u001b[K     |████████▊                       | 419kB 19.5MB/s eta 0:00:01\r\u001b[K     |█████████                       | 430kB 19.5MB/s eta 0:00:01\r\u001b[K     |█████████▏                      | 440kB 19.5MB/s eta 0:00:01\r\u001b[K     |█████████▍                      | 450kB 19.5MB/s eta 0:00:01\r\u001b[K     |█████████▋                      | 460kB 19.5MB/s eta 0:00:01\r\u001b[K     |█████████▉                      | 471kB 19.5MB/s eta 0:00:01\r\u001b[K     |██████████                      | 481kB 19.5MB/s eta 0:00:01\r\u001b[K     |██████████▏                     | 491kB 19.5MB/s eta 0:00:01\r\u001b[K     |██████████▍                     | 501kB 19.5MB/s eta 0:00:01\r\u001b[K     |██████████▋                     | 512kB 19.5MB/s eta 0:00:01\r\u001b[K     |██████████▉                     | 522kB 19.5MB/s eta 0:00:01\r\u001b[K     |███████████                     | 532kB 19.5MB/s eta 0:00:01\r\u001b[K     |███████████▎                    | 542kB 19.5MB/s eta 0:00:01\r\u001b[K     |███████████▌                    | 552kB 19.5MB/s eta 0:00:01\r\u001b[K     |███████████▊                    | 563kB 19.5MB/s eta 0:00:01\r\u001b[K     |████████████                    | 573kB 19.5MB/s eta 0:00:01\r\u001b[K     |████████████▏                   | 583kB 19.5MB/s eta 0:00:01\r\u001b[K     |████████████▍                   | 593kB 19.5MB/s eta 0:00:01\r\u001b[K     |████████████▋                   | 604kB 19.5MB/s eta 0:00:01\r\u001b[K     |████████████▊                   | 614kB 19.5MB/s eta 0:00:01\r\u001b[K     |█████████████                   | 624kB 19.5MB/s eta 0:00:01\r\u001b[K     |█████████████▏                  | 634kB 19.5MB/s eta 0:00:01\r\u001b[K     |█████████████▍                  | 645kB 19.5MB/s eta 0:00:01\r\u001b[K     |█████████████▋                  | 655kB 19.5MB/s eta 0:00:01\r\u001b[K     |█████████████▉                  | 665kB 19.5MB/s eta 0:00:01\r\u001b[K     |██████████████                  | 675kB 19.5MB/s eta 0:00:01\r\u001b[K     |██████████████▎                 | 686kB 19.5MB/s eta 0:00:01\r\u001b[K     |██████████████▌                 | 696kB 19.5MB/s eta 0:00:01\r\u001b[K     |██████████████▊                 | 706kB 19.5MB/s eta 0:00:01\r\u001b[K     |███████████████                 | 716kB 19.5MB/s eta 0:00:01\r\u001b[K     |███████████████▏                | 727kB 19.5MB/s eta 0:00:01\r\u001b[K     |███████████████▎                | 737kB 19.5MB/s eta 0:00:01\r\u001b[K     |███████████████▌                | 747kB 19.5MB/s eta 0:00:01\r\u001b[K     |███████████████▊                | 757kB 19.5MB/s eta 0:00:01\r\u001b[K     |████████████████                | 768kB 19.5MB/s eta 0:00:01\r\u001b[K     |████████████████▏               | 778kB 19.5MB/s eta 0:00:01\r\u001b[K     |████████████████▍               | 788kB 19.5MB/s eta 0:00:01\r\u001b[K     |████████████████▋               | 798kB 19.5MB/s eta 0:00:01\r\u001b[K     |████████████████▉               | 808kB 19.5MB/s eta 0:00:01\r\u001b[K     |█████████████████               | 819kB 19.5MB/s eta 0:00:01\r\u001b[K     |█████████████████▎              | 829kB 19.5MB/s eta 0:00:01\r\u001b[K     |█████████████████▌              | 839kB 19.5MB/s eta 0:00:01\r\u001b[K     |█████████████████▊              | 849kB 19.5MB/s eta 0:00:01\r\u001b[K     |█████████████████▉              | 860kB 19.5MB/s eta 0:00:01\r\u001b[K     |██████████████████              | 870kB 19.5MB/s eta 0:00:01\r\u001b[K     |██████████████████▎             | 880kB 19.5MB/s eta 0:00:01\r\u001b[K     |██████████████████▌             | 890kB 19.5MB/s eta 0:00:01\r\u001b[K     |██████████████████▊             | 901kB 19.5MB/s eta 0:00:01\r\u001b[K     |███████████████████             | 911kB 19.5MB/s eta 0:00:01\r\u001b[K     |███████████████████▏            | 921kB 19.5MB/s eta 0:00:01\r\u001b[K     |███████████████████▍            | 931kB 19.5MB/s eta 0:00:01\r\u001b[K     |███████████████████▋            | 942kB 19.5MB/s eta 0:00:01\r\u001b[K     |███████████████████▉            | 952kB 19.5MB/s eta 0:00:01\r\u001b[K     |████████████████████            | 962kB 19.5MB/s eta 0:00:01\r\u001b[K     |████████████████████▎           | 972kB 19.5MB/s eta 0:00:01\r\u001b[K     |████████████████████▍           | 983kB 19.5MB/s eta 0:00:01\r\u001b[K     |████████████████████▋           | 993kB 19.5MB/s eta 0:00:01\r\u001b[K     |████████████████████▉           | 1.0MB 19.5MB/s eta 0:00:01\r\u001b[K     |█████████████████████           | 1.0MB 19.5MB/s eta 0:00:01\r\u001b[K     |█████████████████████▎          | 1.0MB 19.5MB/s eta 0:00:01\r\u001b[K     |█████████████████████▌          | 1.0MB 19.5MB/s eta 0:00:01\r\u001b[K     |█████████████████████▊          | 1.0MB 19.5MB/s eta 0:00:01\r\u001b[K     |██████████████████████          | 1.1MB 19.5MB/s eta 0:00:01\r\u001b[K     |██████████████████████▏         | 1.1MB 19.5MB/s eta 0:00:01\r\u001b[K     |██████████████████████▍         | 1.1MB 19.5MB/s eta 0:00:01\r\u001b[K     |██████████████████████▋         | 1.1MB 19.5MB/s eta 0:00:01\r\u001b[K     |██████████████████████▉         | 1.1MB 19.5MB/s eta 0:00:01\r\u001b[K     |███████████████████████         | 1.1MB 19.5MB/s eta 0:00:01\r\u001b[K     |███████████████████████▏        | 1.1MB 19.5MB/s eta 0:00:01\r\u001b[K     |███████████████████████▍        | 1.1MB 19.5MB/s eta 0:00:01\r\u001b[K     |███████████████████████▋        | 1.1MB 19.5MB/s eta 0:00:01\r\u001b[K     |███████████████████████▉        | 1.1MB 19.5MB/s eta 0:00:01\r\u001b[K     |████████████████████████        | 1.2MB 19.5MB/s eta 0:00:01\r\u001b[K     |████████████████████████▎       | 1.2MB 19.5MB/s eta 0:00:01\r\u001b[K     |████████████████████████▌       | 1.2MB 19.5MB/s eta 0:00:01\r\u001b[K     |████████████████████████▊       | 1.2MB 19.5MB/s eta 0:00:01\r\u001b[K     |█████████████████████████       | 1.2MB 19.5MB/s eta 0:00:01\r\u001b[K     |█████████████████████████▏      | 1.2MB 19.5MB/s eta 0:00:01\r\u001b[K     |█████████████████████████▍      | 1.2MB 19.5MB/s eta 0:00:01\r\u001b[K     |█████████████████████████▌      | 1.2MB 19.5MB/s eta 0:00:01\r\u001b[K     |█████████████████████████▊      | 1.2MB 19.5MB/s eta 0:00:01\r\u001b[K     |██████████████████████████      | 1.2MB 19.5MB/s eta 0:00:01\r\u001b[K     |██████████████████████████▏     | 1.3MB 19.5MB/s eta 0:00:01\r\u001b[K     |██████████████████████████▍     | 1.3MB 19.5MB/s eta 0:00:01\r\u001b[K     |██████████████████████████▋     | 1.3MB 19.5MB/s eta 0:00:01\r\u001b[K     |██████████████████████████▉     | 1.3MB 19.5MB/s eta 0:00:01\r\u001b[K     |███████████████████████████     | 1.3MB 19.5MB/s eta 0:00:01\r\u001b[K     |███████████████████████████▎    | 1.3MB 19.5MB/s eta 0:00:01\r\u001b[K     |███████████████████████████▌    | 1.3MB 19.5MB/s eta 0:00:01\r\u001b[K     |███████████████████████████▊    | 1.3MB 19.5MB/s eta 0:00:01\r\u001b[K     |███████████████████████████▉    | 1.3MB 19.5MB/s eta 0:00:01\r\u001b[K     |████████████████████████████    | 1.4MB 19.5MB/s eta 0:00:01\r\u001b[K     |████████████████████████████▎   | 1.4MB 19.5MB/s eta 0:00:01\r\u001b[K     |████████████████████████████▌   | 1.4MB 19.5MB/s eta 0:00:01\r\u001b[K     |████████████████████████████▊   | 1.4MB 19.5MB/s eta 0:00:01\r\u001b[K     |█████████████████████████████   | 1.4MB 19.5MB/s eta 0:00:01\r\u001b[K     |█████████████████████████████▏  | 1.4MB 19.5MB/s eta 0:00:01\r\u001b[K     |█████████████████████████████▍  | 1.4MB 19.5MB/s eta 0:00:01\r\u001b[K     |█████████████████████████████▋  | 1.4MB 19.5MB/s eta 0:00:01\r\u001b[K     |█████████████████████████████▉  | 1.4MB 19.5MB/s eta 0:00:01\r\u001b[K     |██████████████████████████████  | 1.4MB 19.5MB/s eta 0:00:01\r\u001b[K     |██████████████████████████████▎ | 1.5MB 19.5MB/s eta 0:00:01\r\u001b[K     |██████████████████████████████▍ | 1.5MB 19.5MB/s eta 0:00:01\r\u001b[K     |██████████████████████████████▋ | 1.5MB 19.5MB/s eta 0:00:01\r\u001b[K     |██████████████████████████████▉ | 1.5MB 19.5MB/s eta 0:00:01\r\u001b[K     |███████████████████████████████ | 1.5MB 19.5MB/s eta 0:00:01\r\u001b[K     |███████████████████████████████▎| 1.5MB 19.5MB/s eta 0:00:01\r\u001b[K     |███████████████████████████████▌| 1.5MB 19.5MB/s eta 0:00:01\r\u001b[K     |███████████████████████████████▊| 1.5MB 19.5MB/s eta 0:00:01\r\u001b[K     |████████████████████████████████| 1.5MB 19.5MB/s eta 0:00:01\r\u001b[K     |████████████████████████████████| 1.5MB 19.5MB/s \n",
            "\u001b[?25hInstalling collected packages: pip\n",
            "  Found existing installation: pip 19.3.1\n",
            "    Uninstalling pip-19.3.1:\n",
            "      Successfully uninstalled pip-19.3.1\n",
            "Successfully installed pip-21.0.1\n",
            "Requirement already satisfied: scikit-learn in /usr/local/lib/python3.7/dist-packages (0.22.2.post1)\n",
            "Collecting scikit-learn\n",
            "  Downloading scikit_learn-0.24.1-cp37-cp37m-manylinux2010_x86_64.whl (22.3 MB)\n",
            "\u001b[K     |████████████████████████████████| 22.3 MB 1.4 MB/s \n",
            "\u001b[?25hRequirement already satisfied: scipy>=0.19.1 in /usr/local/lib/python3.7/dist-packages (from scikit-learn) (1.4.1)\n",
            "Requirement already satisfied: joblib>=0.11 in /usr/local/lib/python3.7/dist-packages (from scikit-learn) (1.0.1)\n",
            "Collecting threadpoolctl>=2.0.0\n",
            "  Downloading threadpoolctl-2.1.0-py3-none-any.whl (12 kB)\n",
            "Requirement already satisfied: numpy>=1.13.3 in /usr/local/lib/python3.7/dist-packages (from scikit-learn) (1.19.5)\n",
            "Installing collected packages: threadpoolctl, scikit-learn\n",
            "  Attempting uninstall: scikit-learn\n",
            "    Found existing installation: scikit-learn 0.22.2.post1\n",
            "    Uninstalling scikit-learn-0.22.2.post1:\n",
            "      Successfully uninstalled scikit-learn-0.22.2.post1\n",
            "Successfully installed scikit-learn-0.24.1 threadpoolctl-2.1.0\n",
            "Requirement already satisfied: numpy in /usr/local/lib/python3.7/dist-packages (1.19.5)\n",
            "Collecting numpy\n",
            "  Downloading numpy-1.20.1-cp37-cp37m-manylinux2010_x86_64.whl (15.3 MB)\n",
            "\u001b[K     |████████████████████████████████| 15.3 MB 107 kB/s \n",
            "\u001b[?25hInstalling collected packages: numpy\n",
            "  Attempting uninstall: numpy\n",
            "    Found existing installation: numpy 1.19.5\n",
            "    Uninstalling numpy-1.19.5:\n",
            "      Successfully uninstalled numpy-1.19.5\n",
            "\u001b[31mERROR: pip's dependency resolver does not currently take into account all the packages that are installed. This behaviour is the source of the following dependency conflicts.\n",
            "tensorflow 2.4.1 requires numpy~=1.19.2, but you have numpy 1.20.1 which is incompatible.\n",
            "jaxlib 0.1.60+cuda101 requires numpy<1.20,>=1.12, but you have numpy 1.20.1 which is incompatible.\n",
            "datascience 0.10.6 requires folium==0.2.1, but you have folium 0.8.3 which is incompatible.\n",
            "albumentations 0.1.12 requires imgaug<0.2.7,>=0.2.5, but you have imgaug 0.2.9 which is incompatible.\u001b[0m\n",
            "Successfully installed numpy-1.20.1\n"
          ],
          "name": "stdout"
        },
        {
          "output_type": "display_data",
          "data": {
            "application/vnd.colab-display-data+json": {
              "pip_warning": {
                "packages": [
                  "numpy"
                ]
              }
            }
          },
          "metadata": {
            "tags": []
          }
        },
        {
          "output_type": "stream",
          "text": [
            "Requirement already satisfied: pandas in /usr/local/lib/python3.7/dist-packages (1.1.5)\n",
            "Collecting pandas\n",
            "  Downloading pandas-1.2.3-cp37-cp37m-manylinux1_x86_64.whl (9.9 MB)\n",
            "\u001b[K     |████████████████████████████████| 9.9 MB 19.1 MB/s \n",
            "\u001b[?25hRequirement already satisfied: numpy>=1.16.5 in /usr/local/lib/python3.7/dist-packages (from pandas) (1.20.1)\n",
            "Requirement already satisfied: pytz>=2017.3 in /usr/local/lib/python3.7/dist-packages (from pandas) (2018.9)\n",
            "Requirement already satisfied: python-dateutil>=2.7.3 in /usr/local/lib/python3.7/dist-packages (from pandas) (2.8.1)\n",
            "Requirement already satisfied: six>=1.5 in /usr/local/lib/python3.7/dist-packages (from python-dateutil>=2.7.3->pandas) (1.15.0)\n",
            "Installing collected packages: pandas\n",
            "  Attempting uninstall: pandas\n",
            "    Found existing installation: pandas 1.1.5\n",
            "    Uninstalling pandas-1.1.5:\n",
            "      Successfully uninstalled pandas-1.1.5\n",
            "\u001b[31mERROR: pip's dependency resolver does not currently take into account all the packages that are installed. This behaviour is the source of the following dependency conflicts.\n",
            "google-colab 1.0.0 requires pandas~=1.1.0; python_version >= \"3.0\", but you have pandas 1.2.3 which is incompatible.\u001b[0m\n",
            "Successfully installed pandas-1.2.3\n"
          ],
          "name": "stdout"
        },
        {
          "output_type": "display_data",
          "data": {
            "application/vnd.colab-display-data+json": {
              "pip_warning": {
                "packages": [
                  "pandas"
                ]
              }
            }
          },
          "metadata": {
            "tags": []
          }
        }
      ]
    },
    {
      "cell_type": "code",
      "metadata": {
        "id": "p0ofxps8_Bnw"
      },
      "source": [
        "import pandas as pd\n",
        "import numpy as np\n",
        "import matplotlib.pyplot as plt\n",
        "from sklearn.model_selection import GridSearchCV\n",
        "from sklearn.metrics import mean_squared_error as mse\n",
        "from sklearn.metrics import r2_score as r2\n",
        "from sklearn.metrics import median_absolute_error as mae\n",
        "import time\n",
        "\n",
        "\n",
        "#load time matrixes\n",
        "\n",
        "times_train_bef = {} \n",
        "\n",
        "times_test_bef = {}\n",
        "\n",
        "times_train_aft = {}\n",
        "\n",
        "times_test_aft = {}\n",
        "\n",
        "#load dataset\n",
        "data = pd.read_excel(\"S03.xlsx\",header=None)\n",
        "\n",
        "X = data.iloc[0:,:-1]\n",
        "y = data.iloc[:,6]"
      ],
      "execution_count": null,
      "outputs": []
    },
    {
      "cell_type": "markdown",
      "metadata": {
        "id": "rNihijmQRRU4"
      },
      "source": [
        "# **Train-Test Split**"
      ]
    },
    {
      "cell_type": "code",
      "metadata": {
        "id": "eApZFF-kAn-E",
        "colab": {
          "base_uri": "https://localhost:8080/"
        },
        "outputId": "b5c2e2c9-4ac9-434f-d09b-be0710fe1143"
      },
      "source": [
        "# Train-Test Split: 33% of our dataset->test data and the rest-> train data\n",
        "from sklearn.model_selection import train_test_split\n",
        "\n",
        "x_train, x_test, y_train, y_test = train_test_split(X,y,test_size=0.33)\n",
        "\n",
        "print(x_train)\n",
        "print(y_train)"
      ],
      "execution_count": null,
      "outputs": [
        {
          "output_type": "stream",
          "text": [
            "       0      1     2     3     4      5\n",
            "26  -2.3  0.569  4.78  3.04  3.64  0.425\n",
            "221 -2.3  0.530  4.34  2.81  3.15  0.400\n",
            "257  0.0  0.530  4.78  3.75  3.15  0.250\n",
            "38  -2.3  0.565  4.78  5.35  2.76  0.375\n",
            "107 -2.4  0.585  4.78  3.84  3.32  0.350\n",
            "..   ...    ...   ...   ...   ...    ...\n",
            "55  -2.3  0.564  5.10  3.95  3.53  0.450\n",
            "0   -2.3  0.568  4.78  3.99  3.17  0.125\n",
            "2   -2.3  0.568  4.78  3.99  3.17  0.175\n",
            "177 -5.0  0.565  5.10  3.94  3.51  0.350\n",
            "82  -2.4  0.568  4.34  2.98  3.15  0.425\n",
            "\n",
            "[206 rows x 6 columns]\n",
            "26     35.01\n",
            "221    25.18\n",
            "257     1.94\n",
            "38     13.08\n",
            "107     8.04\n",
            "       ...  \n",
            "55     50.36\n",
            "0       0.11\n",
            "2       0.47\n",
            "177     7.74\n",
            "82     34.50\n",
            "Name: 6, Length: 206, dtype: float64\n"
          ],
          "name": "stdout"
        }
      ]
    },
    {
      "cell_type": "markdown",
      "metadata": {
        "id": "BfLpfqsAgHP-"
      },
      "source": [
        "# **Baseline Regressors**"
      ]
    },
    {
      "cell_type": "markdown",
      "metadata": {
        "id": "ZkeDh1i6F4WU"
      },
      "source": [
        "**Generally Info for Regressors:**\n",
        "\n",
        "\n",
        "*   **Ordinary Least Squares Regressor**: LinearRegression fits a linear model with coefficients to minimize the residual sum of squares between the observed targets in the dataset, and the targets predicted by the linear approximation\n",
        "*  **Ridge Regressor**: Ridge regression addresses some of the problems of Ordinary Least Squares by imposing a penalty on the size of the coefficients. The ridge coefficients minimize a penalized residual sum of squares.\n",
        "\n",
        "*   **Polynomial Regressor**: Generate a new feature matrix consisting of all polynomial combinations of the features with degree less than or equal to the specified degree. \n",
        "* **MLP Regressor**: This model optimizes the squared-loss using LBFGS or stochastic gradient descent.\n",
        "* **Kernel ridge Regressor**: Combines ridge regression (linear least squares with l2-norm regularization) with the kernel trick. It thus learns a linear function in the space induced by the respective kernel and the data. For non-linear kernels, this corresponds to a non-linear function in the original spa.\n",
        "*   **Random Forest Regressor**: A random forest is a meta estimator that fits a number of classifying decision trees on various sub-samples of the dataset and uses averaging to improve the predictive accuracy and control over-fitting.\n",
        "* **Hist Gradient Boosting Regressor**: This estimator has native support for missing values (NaNs). During training, the tree grower learns at each split point whether samples with missing values should go to the left or right child, based on the potential gain. When predicting, samples with missing values are assigned to the left or right child consequently. If no missing values were encountered for a given feature during training, then samples with missing values are mapped to whichever child has the most samples.\n",
        "\n",
        "**Generally Info for Accuracy Metrics:**\n",
        "\n",
        "* **Mean Squared Error**: measures the average of the squares of the errors—that is, the average squared difference between the estimated values and the actual value. \n",
        "* **R-squared**:  is the proportion of the variance in the dependent variable that is predictable from the independent variable(s). The coefficient of determination normally ranges from 0 to 1. For instance, an R-squared equals to 1 means that all movements of dependent variable are completely explained by movements of independent variable(s). R-squared is negative only when the chosen model does not follow the trend of the data, so fits worse than a horizontal line.\n",
        "* **Mean absolute error**: is a measure of errors between paired observations expressing the same phenomenon.\n"
      ]
    },
    {
      "cell_type": "markdown",
      "metadata": {
        "id": "bg-eR2N0CdLs"
      },
      "source": [
        "\n",
        "\n",
        "## **Ordinary Least Squares Regressor**\n",
        "\n"
      ]
    },
    {
      "cell_type": "code",
      "metadata": {
        "id": "SdK_Ml_iCTiV"
      },
      "source": [
        "from sklearn import linear_model\n",
        "\n",
        "olsr = linear_model.LinearRegression()\n",
        "\n",
        "start_time = time.time()\n",
        "\n",
        "olsr.fit(x_train,y_train)\n",
        "\n",
        "times_train_bef['olsr'] = time.time() - start_time\n",
        "\n",
        "start_time = time.time()\n",
        "\n",
        "olsr_preds = olsr.predict(x_test)\n",
        "\n",
        "times_test_bef['olsr'] = time.time() - start_time\n",
        "\n",
        "olsr_mse_score = mse(y_test, olsr_preds)\n",
        "\n",
        "olsr_r2_score = r2(y_test, olsr_preds)\n",
        "\n",
        "olsr_mae_score = mae(y_test, olsr_preds)"
      ],
      "execution_count": null,
      "outputs": []
    },
    {
      "cell_type": "markdown",
      "metadata": {
        "id": "9vZ2_2-fWo33"
      },
      "source": [
        "\n",
        "\n",
        "## **Ridge Regressor**\n",
        "\n"
      ]
    },
    {
      "cell_type": "code",
      "metadata": {
        "id": "-hA0eWxOWoi5"
      },
      "source": [
        "from sklearn.linear_model import Ridge\n",
        "\n",
        "rr = Ridge()\n",
        "\n",
        "start_time = time.time()\n",
        "\n",
        "rr.fit(x_train, y_train)\n",
        "\n",
        "times_train_bef['rr'] = time.time() - start_time\n",
        "\n",
        "start_time = time.time()\n",
        "\n",
        "rr_preds = rr.predict(x_test)\n",
        "\n",
        "times_test_bef['rr'] = time.time() - start_time\n",
        "\n",
        "rr_mse_score = mse(y_test, rr_preds)\n",
        "\n",
        "rr_r2_score = r2(y_test, rr_preds)\n",
        "\n",
        "rr_mae_score = mae(y_test, rr_preds)"
      ],
      "execution_count": null,
      "outputs": []
    },
    {
      "cell_type": "markdown",
      "metadata": {
        "id": "5iUGZcm2lyGB"
      },
      "source": [
        "## **Polynomial Regressor**"
      ]
    },
    {
      "cell_type": "code",
      "metadata": {
        "id": "5VFaXWnjl-5F"
      },
      "source": [
        "from sklearn.preprocessing import PolynomialFeatures\n",
        "\n",
        "from sklearn.linear_model import LinearRegression\n",
        "\n",
        "pr = PolynomialFeatures()\n",
        "\n",
        "start_time = time.time()\n",
        "\n",
        "x_train_new = pr.fit_transform(x_train)\n",
        "\n",
        "times_train_bef['pr'] = time.time() - start_time\n",
        "\n",
        "start_time = time.time()\n",
        "\n",
        "x_test_new = pr.fit_transform(x_test)\n",
        "\n",
        "times_test_bef['pr'] = time.time() - start_time\n",
        "\n",
        "#linear regression for the prediction\n",
        "\n",
        "lre = LinearRegression()\n",
        "\n",
        "lre.fit(x_train_new, y_train)\n",
        "\n",
        "pr_preds = lre.predict(x_test_new)\n",
        "\n",
        "pr_mse_score = mse(y_test, pr_preds)\n",
        "\n",
        "pr_r2_score = r2(y_test, pr_preds)\n",
        "\n",
        "pr_mae_score = mae(y_test, pr_preds)"
      ],
      "execution_count": null,
      "outputs": []
    },
    {
      "cell_type": "markdown",
      "metadata": {
        "id": "75ygSfAcVink"
      },
      "source": [
        "\n",
        "\n",
        "## **MLP Regressor**\n",
        "\n"
      ]
    },
    {
      "cell_type": "code",
      "metadata": {
        "id": "dzcJZ8R-VtVV"
      },
      "source": [
        "from sklearn.neural_network import MLPRegressor\n",
        "\n",
        "mlpr = MLPRegressor()\n",
        "\n",
        "start_time = time.time()\n",
        "\n",
        "mlpr.fit(x_train, y_train)\n",
        "\n",
        "times_train_bef['mlpr'] = time.time() - start_time\n",
        "\n",
        "start_time = time.time()\n",
        "\n",
        "mlpr_preds = mlpr.predict(x_test)\n",
        "\n",
        "times_test_bef['mlpr'] = time.time() - start_time\n",
        "\n",
        "mlpr_mse_score = mse(y_test, mlpr_preds)\n",
        "\n",
        "mlpr_r2_score = r2(y_test, mlpr_preds)\n",
        "\n",
        "mlpr_mae_score = mae(y_test, mlpr_preds)"
      ],
      "execution_count": null,
      "outputs": []
    },
    {
      "cell_type": "markdown",
      "metadata": {
        "id": "o3VyMLmUWbYA"
      },
      "source": [
        "\n",
        "## **Kernel Ridge Regressor**\n",
        "\n"
      ]
    },
    {
      "cell_type": "code",
      "metadata": {
        "id": "NnUqSs9eWiq8"
      },
      "source": [
        "from sklearn.kernel_ridge import KernelRidge\n",
        "\n",
        "krr = KernelRidge()\n",
        "\n",
        "start_time = time.time()\n",
        "\n",
        "krr.fit(x_train, y_train)\n",
        "\n",
        "times_train_bef['krr'] = time.time() - start_time\n",
        "\n",
        "start_time = time.time()\n",
        "\n",
        "krr_preds = krr.predict(x_test)\n",
        "\n",
        "times_test_bef['krr'] = time.time() - start_time\n",
        "\n",
        "krr_mse_score = mse(y_test, krr_preds)\n",
        "\n",
        "krr_r2_score = r2(y_test, krr_preds)\n",
        "\n",
        "krr_mae_score = mae(y_test, krr_preds)"
      ],
      "execution_count": null,
      "outputs": []
    },
    {
      "cell_type": "markdown",
      "metadata": {
        "id": "46wCK61FXStE"
      },
      "source": [
        "\n",
        "\n",
        "## **Random Forest Regressor**\n",
        "\n"
      ]
    },
    {
      "cell_type": "code",
      "metadata": {
        "id": "QvjiklgVXmlH"
      },
      "source": [
        "from sklearn.ensemble import RandomForestRegressor\n",
        "\n",
        "rfr = RandomForestRegressor()\n",
        "\n",
        "start_time = time.time()\n",
        "\n",
        "rfr.fit(x_train, y_train)\n",
        "\n",
        "times_train_bef['rfr'] = time.time() - start_time\n",
        "\n",
        "start_time = time.time()\n",
        "\n",
        "rfr_preds = rfr.predict(x_test)\n",
        "\n",
        "times_test_bef['rfr'] = time.time() - start_time\n",
        "\n",
        "rfr_mse_score = mse(y_test, rfr_preds)\n",
        "\n",
        "rfr_r2_score = r2(y_test, rfr_preds)\n",
        "\n",
        "rfr_mae_score = mae(y_test, rfr_preds)"
      ],
      "execution_count": null,
      "outputs": []
    },
    {
      "cell_type": "markdown",
      "metadata": {
        "id": "RZigi0EAYH3V"
      },
      "source": [
        "\n",
        "\n",
        "## **Hist Gradient Boosting Regressor**\n",
        "\n"
      ]
    },
    {
      "cell_type": "code",
      "metadata": {
        "id": "Q_eLrQZgYX46"
      },
      "source": [
        "from sklearn.experimental import enable_hist_gradient_boosting  \n",
        "from sklearn.ensemble import HistGradientBoostingRegressor\n",
        "\n",
        "hgbr = HistGradientBoostingRegressor()\n",
        "\n",
        "start_time = time.time()\n",
        "\n",
        "hgbr.fit(x_train, y_train)\n",
        "\n",
        "times_train_bef['hgbr'] = time.time() - start_time\n",
        "\n",
        "start_time = time.time()\n",
        "\n",
        "hgbr_preds = hgbr.predict(x_test)\n",
        "\n",
        "times_test_bef['hgbr'] = time.time() - start_time\n",
        "\n",
        "hgbr_mse_score = mse(y_test, hgbr_preds)\n",
        "\n",
        "hgbr_r2_score = r2(y_test, hgbr_preds)\n",
        "\n",
        "hgbr_mae_score = mae(y_test, hgbr_preds)"
      ],
      "execution_count": null,
      "outputs": []
    },
    {
      "cell_type": "markdown",
      "metadata": {
        "id": "n2d6_4Q1k-fF"
      },
      "source": [
        "# **Bar Plot**"
      ]
    },
    {
      "cell_type": "markdown",
      "metadata": {
        "id": "KVFbdj0alBUm"
      },
      "source": [
        "\n",
        "\n",
        "## **Mean Square Error**\n",
        "\n"
      ]
    },
    {
      "cell_type": "code",
      "metadata": {
        "colab": {
          "base_uri": "https://localhost:8080/",
          "height": 295
        },
        "id": "cTFTa-w_k-Je",
        "outputId": "24adf62a-6c8b-4b29-ab29-f77536e6f92f"
      },
      "source": [
        "# Mean Square Error\n",
        "\n",
        "import matplotlib.pyplot as plt \n",
        "\n",
        "estimators = ('OLSR','RR','PR','MLPR','KRR','RFR','HGBR')\n",
        "\n",
        "mse_score1 = (olsr_mse_score, rr_mse_score, pr_mse_score, mlpr_mse_score, krr_mse_score, rfr_mse_score,hgbr_mse_score)\n",
        "\n",
        "plt.bar(estimators , mse_score1, color=(0.6, 0.6, 0.6, 0.6),  edgecolor='black')\n",
        "\n",
        "plt.ylabel('MSE')\n",
        "\n",
        "plt.xlabel('Classifier')\n",
        "\n",
        "plt.title('Mean Square Error')\n",
        "\n",
        "plt.show()"
      ],
      "execution_count": null,
      "outputs": [
        {
          "output_type": "display_data",
          "data": {
            "image/png": "[encoded data removed]",
            "text/plain": [
              "<Figure size 432x288 with 1 Axes>"
            ]
          },
          "metadata": {
            "tags": [],
            "needs_background": "light"
          }
        }
      ]
    },
    {
      "cell_type": "markdown",
      "metadata": {
        "id": "XbGVe5OOolXE"
      },
      "source": [
        "\n",
        "\n",
        "## **R² or Coefficient of Determination**\n",
        "\n"
      ]
    },
    {
      "cell_type": "code",
      "metadata": {
        "colab": {
          "base_uri": "https://localhost:8080/",
          "height": 295
        },
        "id": "aLR0S0woolE1",
        "outputId": "0f9a5f65-0b56-4b55-c587-a64bda5734fa"
      },
      "source": [
        "# R²\n",
        "\n",
        "import matplotlib.pyplot as plt \n",
        "\n",
        "estimators = ('OLSR','RR','PR','MLPR','KRR','RFR','HGBR')\n",
        "\n",
        "r2_score1 = (olsr_r2_score, rr_r2_score, pr_r2_score, mlpr_r2_score, krr_r2_score, rfr_r2_score,hgbr_r2_score)\n",
        "\n",
        "plt.bar(estimators, r2_score1,color=(0.6, 0.6, 0.6, 0.6),  edgecolor='grey')\n",
        "\n",
        "plt.ylabel('R²')\n",
        "\n",
        "plt.xlabel('Estimators')\n",
        "\n",
        "plt.title('R² or Coefficient of Determination')\n",
        "\n",
        "plt.show()"
      ],
      "execution_count": null,
      "outputs": [
        {
          "output_type": "display_data",
          "data": {
            "image/png": "[encoded data removed]",
            "text/plain": [
              "<Figure size 432x288 with 1 Axes>"
            ]
          },
          "metadata": {
            "tags": [],
            "needs_background": "light"
          }
        }
      ]
    },
    {
      "cell_type": "markdown",
      "metadata": {
        "id": "xjHp_8TXnZP8"
      },
      "source": [
        "\n",
        "\n",
        "## **Median Absolute Error**\n",
        "\n"
      ]
    },
    {
      "cell_type": "code",
      "metadata": {
        "colab": {
          "base_uri": "https://localhost:8080/",
          "height": 295
        },
        "id": "iTmCf7FnnYwE",
        "outputId": "7e2a54c2-2539-4bc1-b0db-d83ec99fa971"
      },
      "source": [
        "# Median Absolut Error\n",
        "\n",
        "import matplotlib.pyplot as plt \n",
        "\n",
        "estimators = ('OLSR','RR','PR','MLPR','KRR','RFR','HGBR')\n",
        "\n",
        "mae_score1 = (olsr_mae_score, rr_mae_score, pr_mae_score, mlpr_mae_score, krr_mae_score, rfr_mae_score,hgbr_mae_score)\n",
        "\n",
        "plt.bar(estimators, mae_score1,color=(0.6, 0.6, 0.6, 0.6),  edgecolor='purple')\n",
        "\n",
        "plt.ylabel('MAE')\n",
        "\n",
        "plt.xlabel('Estimators')\n",
        "\n",
        "plt.title('Median Absolute Error')\n",
        "\n",
        "plt.show()"
      ],
      "execution_count": null,
      "outputs": [
        {
          "output_type": "display_data",
          "data": {
            "image/png": "[encoded data removed]",
            "text/plain": [
              "<Figure size 432x288 with 1 Axes>"
            ]
          },
          "metadata": {
            "tags": [],
            "needs_background": "light"
          }
        }
      ]
    },
    {
      "cell_type": "markdown",
      "metadata": {
        "id": "m0G7Hc_tsNGD"
      },
      "source": [
        "# **Data Preprocessing**"
      ]
    },
    {
      "cell_type": "markdown",
      "metadata": {
        "id": "Id73tsCcaWcY"
      },
      "source": [
        "We will then do some pre-processing of the data to improve the performance of the classifiers.\n",
        "\n",
        "\n",
        "*   Initially, as mentioned above, there are no missing values and categorical values.\n",
        "*   A very important parameter for the performance of the classifiers is the dimensionality of the data, especially in relation to the available number of samples. As the dimensionality increases, the available data becomes sparse. However, in the compact dataset since it consists of relatively few features, there is no need to apply PCA.\n",
        "* Features with very large differences in their absolute values ​​can cause problems in education and give classifiers with non-optimal performance. Standard score conversion is necessary for many classifiers to behave properly. It is also more resistant than the min-max to outliers, ie sporadic values ​​that are far from the average value and the rest of the feature values ​​(the min-max will compress most values ​​in a short time).\n",
        "\n",
        "\n"
      ]
    },
    {
      "cell_type": "markdown",
      "metadata": {
        "id": "OEazeFz0sgrS"
      },
      "source": [
        "\n",
        "\n",
        "## **Standard Scaler**\n",
        "\n"
      ]
    },
    {
      "cell_type": "code",
      "metadata": {
        "id": "6wFVWRWosqsS"
      },
      "source": [
        "from sklearn import preprocessing\n",
        "\n",
        "x_train_scaled = preprocessing.scale(x_train)\n",
        "\n",
        "scaler = preprocessing.StandardScaler().fit(x_train)\n",
        "\n",
        "x_test_scaled = scaler.transform(x_test)"
      ],
      "execution_count": null,
      "outputs": []
    },
    {
      "cell_type": "markdown",
      "metadata": {
        "id": "HI0kPatTMzKf"
      },
      "source": [
        "\n",
        "\n",
        "# **Estimator Optimization**\n",
        "\n",
        "Below we will mention the selection of hyperparameters for each of our models. The selection of each hyperparameter for each model was made after a study of its \"offer\" in our model.\n",
        "\n"
      ]
    },
    {
      "cell_type": "code",
      "metadata": {
        "id": "-eB014U9VrF6"
      },
      "source": [
        "from sklearn.metrics import mean_squared_error as mse\n",
        "from sklearn.metrics import r2_score as r2\n",
        "from sklearn.metrics import median_absolute_error as mae"
      ],
      "execution_count": null,
      "outputs": []
    },
    {
      "cell_type": "markdown",
      "metadata": {
        "id": "RfcrCG8jYvhU"
      },
      "source": [
        "\n",
        "\n",
        "## **Ordinary Least Squares Regressor**\n",
        "\n",
        "We know that OLSR as a linear model has no hyperparameters. However, with the procedures we did in the pre processing, it makes sense to run the process again\n"
      ]
    },
    {
      "cell_type": "code",
      "metadata": {
        "id": "aqiHME_4UAh5"
      },
      "source": [
        "from sklearn import linear_model\n",
        "\n",
        "olsr = linear_model.LinearRegression()\n",
        "\n",
        "start_time = time.time()\n",
        "\n",
        "olsr = olsr.fit(x_train_scaled,y_train)\n",
        "\n",
        "times_train_aft['olsr_scaled'] = time.time() - start_time\n",
        "\n",
        "start_time = time.time()\n",
        "\n",
        "pred_olsr = olsr.predict(x_test_scaled)\n",
        "\n",
        "times_test_aft['olsr_scaled'] = time.time() - start_time\n",
        "\n",
        "olsr_mse = mse(y_test, pred_olsr)\n",
        "\n",
        "olsr_r2= r2(y_test, pred_olsr)\n",
        "\n",
        "olsr_mae = mae(y_test, pred_olsr)"
      ],
      "execution_count": null,
      "outputs": []
    },
    {
      "cell_type": "code",
      "metadata": {
        "id": "GNVXhso0EJsG",
        "colab": {
          "base_uri": "https://localhost:8080/"
        },
        "outputId": "fd49cb9b-10ee-45f2-a585-7d45a73adad8"
      },
      "source": [
        "print('Before:',olsr_mse_score,'After:',olsr_mse)\n",
        "\n",
        "print('Before:',olsr_r2_score,'After:',olsr_r2)\n",
        "\n",
        "print('Before:',olsr_mae_score,'After:',olsr_mae)"
      ],
      "execution_count": null,
      "outputs": [
        {
          "output_type": "stream",
          "text": [
            "Before: 94.88257928271022 After: 94.88257928271025\n",
            "Before: 0.6549520846785313 After: 0.654952084678531\n",
            "Before: 5.895931353635575 After: 5.895931353635559\n"
          ],
          "name": "stdout"
        }
      ]
    },
    {
      "cell_type": "markdown",
      "metadata": {
        "id": "4UxxZNUW89PR"
      },
      "source": [
        "## **Ridge Regressor**\n",
        "\n",
        "Selection of hyperparameters: \n",
        "* **alpha** :Regularization improves the conditioning of the problem and reduces the variance of the estimates. Larger values specify stronger regularization\n",
        "* **solver**: Solver to use in the computational routines. Contains: auto, svd, cholesky, sparse_cg, sag and lsqr\n"
      ]
    },
    {
      "cell_type": "markdown",
      "metadata": {
        "id": "ji5N18ap-CgV"
      },
      "source": [
        "### Scoring **Mean Squared Error**\n",
        "\n",
        "* For the hyperparameter alpha we initially chose a wide range of values ​​from 1 to 8. We noticed that the optimal value is in the range 3.7 to 6 so we chose the following values ​​for this parameter.\n",
        "* Regarding the hyperparameter solver, we have chosen all the possible options."
      ]
    },
    {
      "cell_type": "code",
      "metadata": {
        "colab": {
          "base_uri": "https://localhost:8080/"
        },
        "id": "v2BrljgGYOGy",
        "outputId": "99fbcffd-0197-4d84-e48b-79725f8349c5"
      },
      "source": [
        "# first gridsearch\n",
        "parameters_rr = { 'solver': ['auto', 'svd','cholesky','sparse_cg','sag','lsqr'],\n",
        "                  'alpha': [1,2,3,4,5,6,7,8]\n",
        "                }\n",
        "\n",
        "rr_mse_ = GridSearchCV(estimator=rr, param_grid = parameters_rr, cv = 10, scoring='neg_mean_squared_error', n_jobs=-1)\n",
        "\n",
        "rr_mse_.fit(x_train_scaled, y_train)\n",
        "\n",
        "rr_mse_.best_params_"
      ],
      "execution_count": null,
      "outputs": [
        {
          "output_type": "execute_result",
          "data": {
            "text/plain": [
              "{'alpha': 5, 'solver': 'sag'}"
            ]
          },
          "metadata": {
            "tags": []
          },
          "execution_count": 17
        }
      ]
    },
    {
      "cell_type": "code",
      "metadata": {
        "colab": {
          "base_uri": "https://localhost:8080/"
        },
        "id": "p8xcfggb8-Kd",
        "outputId": "92cfcb00-2f63-4340-829b-d0a45ad724a2"
      },
      "source": [
        "parameters_rr = { 'solver': ['auto', 'svd','cholesky','sparse_cg','sag','lsqr'],\n",
        "                  'alpha': [3.7,3.8,3.9,4,4.1,4.2,4.3,4.4,4.5,4.7,5,5.1,5.2,5.3,5.6,6]\n",
        "                }\n",
        "\n",
        "rr_mse_ = GridSearchCV(estimator=rr, param_grid = parameters_rr, cv = 10, scoring='neg_mean_squared_error', n_jobs=-1)\n",
        "\n",
        "rr_mse_.fit(x_train_scaled, y_train)\n",
        "\n",
        "rr_mse_.best_params_"
      ],
      "execution_count": null,
      "outputs": [
        {
          "output_type": "execute_result",
          "data": {
            "text/plain": [
              "{'alpha': 5.2, 'solver': 'lsqr'}"
            ]
          },
          "metadata": {
            "tags": []
          },
          "execution_count": 98
        }
      ]
    },
    {
      "cell_type": "code",
      "metadata": {
        "id": "jGGqlsvP_nWB"
      },
      "source": [
        "rr_mse_ = Ridge(solver='sag',alpha=5.2)\n",
        "\n",
        "start_time = time.time()\n",
        "\n",
        "rr_mse_.fit(x_train_scaled, y_train)\n",
        "\n",
        "times_train_aft['rr_mse'] = time.time() - start_time\n",
        "\n",
        "start_time = time.time()\n",
        "\n",
        "pred_rr_mse = rr_mse_.predict(x_test_scaled)\n",
        "\n",
        "times_test_aft['rr_mse'] = time.time() - start_time\n",
        "\n",
        "rr_mse = mse(y_test,pred_rr_mse)"
      ],
      "execution_count": null,
      "outputs": []
    },
    {
      "cell_type": "code",
      "metadata": {
        "id": "meZTWeLtEQ33",
        "colab": {
          "base_uri": "https://localhost:8080/"
        },
        "outputId": "03f325d8-c13c-4cbe-8a18-7fd1a0609af0"
      },
      "source": [
        "print('Before:',rr_mse_score,'After:',rr_mse)"
      ],
      "execution_count": null,
      "outputs": [
        {
          "output_type": "stream",
          "text": [
            "Before: 126.61797133798936 After: 96.08110122466788\n"
          ],
          "name": "stdout"
        }
      ]
    },
    {
      "cell_type": "markdown",
      "metadata": {
        "id": "rfuWPjVQCHFu"
      },
      "source": [
        "### Scoring **R² or Coefficient of Determination**\n",
        "  \n",
        "* For the alpha hyperparameter we initially chose a wide range of values ​​from 1 to 40. We noticed that the optimal value is in the range 25 to 39 so we chose the following values ​​for this parameter.\n",
        "* Regarding the hyperparameter solver, we have chosen all the possible options.\n"
      ]
    },
    {
      "cell_type": "code",
      "metadata": {
        "colab": {
          "base_uri": "https://localhost:8080/"
        },
        "id": "p6AWsAWLY1VG",
        "outputId": "e4669d89-fb06-4a7e-fe85-10b95c9176eb"
      },
      "source": [
        "# first gridsearch\n",
        "parameters_rr = { 'solver': ['auto', 'svd','cholesky','sparse_cg','sag','lsqr'],\n",
        "                  'alpha': [1,5,10,15,20,25,30,35,40]\n",
        "                }\n",
        "\n",
        "rr_mse_ = GridSearchCV(estimator=rr, param_grid = parameters_rr, cv = 10, scoring='neg_mean_squared_error', n_jobs=-1)\n",
        "\n",
        "rr_mse_.fit(x_train_scaled, y_train)\n",
        "\n",
        "rr_mse_.best_params_"
      ],
      "execution_count": null,
      "outputs": [
        {
          "output_type": "execute_result",
          "data": {
            "text/plain": [
              "{'alpha': 35, 'solver': 'lsqr'}"
            ]
          },
          "metadata": {
            "tags": []
          },
          "execution_count": 15
        }
      ]
    },
    {
      "cell_type": "code",
      "metadata": {
        "colab": {
          "base_uri": "https://localhost:8080/"
        },
        "id": "vOXZPHmmCIdE",
        "outputId": "c6b9170a-d185-4c37-bc22-901e7391ee0f"
      },
      "source": [
        "parameters_rr = { 'solver': ['auto', 'svd','cholesky','sparse_cg','sag','lsqr'],\n",
        "                  'alpha':[25,26,27,28,29,30,33,35,36,37,38,39]\n",
        "                }\n",
        "\n",
        "rr_r2_ = GridSearchCV(estimator=rr, param_grid = parameters_rr, cv = 10, scoring='r2', n_jobs=-1)\n",
        "\n",
        "rr_r2_.fit(x_train_scaled, y_train)\n",
        "\n",
        "rr_r2_.best_params_"
      ],
      "execution_count": null,
      "outputs": [
        {
          "output_type": "execute_result",
          "data": {
            "text/plain": [
              "{'alpha': 37, 'solver': 'lsqr'}"
            ]
          },
          "metadata": {
            "tags": []
          },
          "execution_count": 104
        }
      ]
    },
    {
      "cell_type": "code",
      "metadata": {
        "id": "5TlgqGqtCWc7"
      },
      "source": [
        "rr_r2_ = Ridge(solver='lsqr',alpha=37)\n",
        "\n",
        "start_time = time.time()\n",
        "\n",
        "rr_r2_.fit(x_train_scaled, y_train)\n",
        "\n",
        "times_train_aft['rr_r2'] = time.time() - start_time\n",
        "\n",
        "start_time = time.time()\n",
        "\n",
        "pred_rr_r2 = rr_r2_.predict(x_test_scaled)\n",
        "\n",
        "times_test_aft['rr_r2'] = time.time() - start_time\n",
        "\n",
        "rr_r2 = r2(y_test,pred_rr_r2)"
      ],
      "execution_count": null,
      "outputs": []
    },
    {
      "cell_type": "code",
      "metadata": {
        "id": "TGovaK-kEVPs",
        "colab": {
          "base_uri": "https://localhost:8080/"
        },
        "outputId": "d4e62579-f80d-43ac-8873-31860609c6ad"
      },
      "source": [
        "print('Before:',rr_r2_score,'After:',rr_r2)"
      ],
      "execution_count": null,
      "outputs": [
        {
          "output_type": "stream",
          "text": [
            "Before: 0.5395438511190653 After: 0.6172430343397566\n"
          ],
          "name": "stdout"
        }
      ]
    },
    {
      "cell_type": "markdown",
      "metadata": {
        "id": "Nqe_mHMgCrZC"
      },
      "source": [
        "### Scoring **Median Absolute Error**\n",
        "\n",
        "* For the alpha hyperparameter we initially chose a wide range of values ​​from 10 to 150. We noticed that the optimal value is in the range 83 to 102 so we chose the following values ​​for this parameter.\n",
        "* Regarding the hyperparameter solver, we have chosen all the possible options.\n",
        "\n",
        "\n",
        "\n"
      ]
    },
    {
      "cell_type": "code",
      "metadata": {
        "colab": {
          "base_uri": "https://localhost:8080/"
        },
        "id": "4LBM_1iAZAwW",
        "outputId": "7ec81402-927f-4345-ea1c-8fdb0ff548e0"
      },
      "source": [
        "# first gridsearch\n",
        "parameters_rr = { 'solver': ['auto', 'svd','cholesky','sparse_cg','sag','lsqr'],\n",
        "                  'alpha': [10,20,30,40,50,60,70,80,90,100,110,120,130,140,150]\n",
        "                }\n",
        "\n",
        "rr_mae_ = GridSearchCV(estimator=rr, param_grid = parameters_rr, cv = 10, scoring='neg_median_absolute_error', n_jobs=-1)\n",
        "\n",
        "rr_mae_.fit(x_train_scaled, y_train)\n",
        "\n",
        "rr_mae_.best_params_"
      ],
      "execution_count": null,
      "outputs": [
        {
          "output_type": "execute_result",
          "data": {
            "text/plain": [
              "{'alpha': 90, 'solver': 'auto'}"
            ]
          },
          "metadata": {
            "tags": []
          },
          "execution_count": 16
        }
      ]
    },
    {
      "cell_type": "code",
      "metadata": {
        "colab": {
          "base_uri": "https://localhost:8080/"
        },
        "id": "J9J20Zt2Cztu",
        "outputId": "0f748b6d-89b4-4fac-c6cd-eda963106987"
      },
      "source": [
        "parameters_rr = { 'solver': ['auto', 'svd','cholesky','sparse_cg','sag','lsqr'],\n",
        "                  'alpha': [83,85,87,89,90,91,93,94,95,96,97,99,100,101,102]\n",
        "                }\n",
        "\n",
        "rr_mae_ = GridSearchCV(estimator=rr, param_grid = parameters_rr, cv = 10, scoring='neg_median_absolute_error', n_jobs=-1)\n",
        "\n",
        "rr_mae_.fit(x_train_scaled, y_train)\n",
        "\n",
        "rr_mae_.best_params_"
      ],
      "execution_count": null,
      "outputs": [
        {
          "output_type": "execute_result",
          "data": {
            "text/plain": [
              "{'alpha': 95, 'solver': 'auto'}"
            ]
          },
          "metadata": {
            "tags": []
          },
          "execution_count": 117
        }
      ]
    },
    {
      "cell_type": "code",
      "metadata": {
        "id": "SmimOvn9C-wo"
      },
      "source": [
        "rr_mae_ = Ridge(solver='auto',alpha=95)\n",
        "\n",
        "start_time = time.time()\n",
        "\n",
        "rr_mae_.fit(x_train_scaled, y_train)\n",
        "\n",
        "times_train_aft['rr_mae'] = time.time() - start_time\n",
        "\n",
        "start_time = time.time()\n",
        "\n",
        "pred_rr_mae = rr_mae_.predict(x_test_scaled)\n",
        "\n",
        "times_test_aft['rr_mae'] = time.time() - start_time\n",
        "\n",
        "rr_mae = mae(y_test,pred_rr_mae)"
      ],
      "execution_count": null,
      "outputs": []
    },
    {
      "cell_type": "code",
      "metadata": {
        "id": "SIf7z_loEZkT",
        "colab": {
          "base_uri": "https://localhost:8080/"
        },
        "outputId": "6bb65ecc-6177-40a5-8be2-110a9511033f"
      },
      "source": [
        "print('Before:',rr_mae_score,'After:',rr_mae)"
      ],
      "execution_count": null,
      "outputs": [
        {
          "output_type": "stream",
          "text": [
            "Before: 4.855861167952874 After: 4.76768140592832\n"
          ],
          "name": "stdout"
        }
      ]
    },
    {
      "cell_type": "markdown",
      "metadata": {
        "id": "_s-8w0zdXQ62"
      },
      "source": [
        "## **Polynomial Regressor**"
      ]
    },
    {
      "cell_type": "markdown",
      "metadata": {
        "id": "os3AxUjMXQ62"
      },
      "source": [
        "Selection of hyperparameters: \n",
        "* **degree** :The degree of the polynomial features.\n"
      ]
    },
    {
      "cell_type": "markdown",
      "metadata": {
        "id": "3q_GXyEUXQ62"
      },
      "source": [
        "### Scoring **Mean Squared Error**\n",
        "\n",
        "* For the hyperparameter degree we initially chose a wide range of values ​​from 1 to 10. We noticed that the optimal value is 4.\n"
      ]
    },
    {
      "cell_type": "code",
      "metadata": {
        "colab": {
          "base_uri": "https://localhost:8080/"
        },
        "id": "0rKt6adzudEm",
        "outputId": "7145ec69-1036-436e-8748-380fb8de18b2"
      },
      "source": [
        "Train_acc = []\n",
        "Test_acc = []\n",
        "Train_mse = []\n",
        "Test_mse = []\n",
        "\n",
        "for i in range(10):\n",
        "  pr = PolynomialFeatures(degree=(i+1))\n",
        "\n",
        "  x_train_p = pr.fit_transform(x_train_scaled)\n",
        "  x_test_p = pr.fit_transform(x_test_scaled)\n",
        "\n",
        "  lr = LinearRegression()\n",
        "  lr.fit(x_train_p, y_train)\n",
        "  \n",
        "  Train_acc.append(lr.score(x_train_p, y_train))\n",
        "  Test_acc.append(lr.score(x_test_p, y_test))\n",
        "\n",
        "  Train_mse.append(mse(y_train, lr.predict(x_train_p)))\n",
        "  Test_mse.append(mse(y_test, lr.predict(x_test_p)))\n",
        "\n",
        "\n",
        "Test_min_degree = Test_mse.index(min(Test_mse)) + 1\n",
        "Train_min_degree = Train_mse.index(min(Train_mse)) + 1\n",
        "\n",
        "print('Best degree:', Test_min_degree)"
      ],
      "execution_count": null,
      "outputs": [
        {
          "output_type": "stream",
          "text": [
            "Best degree: 4\n"
          ],
          "name": "stdout"
        }
      ]
    },
    {
      "cell_type": "code",
      "metadata": {
        "id": "w89rcQi4XQ62"
      },
      "source": [
        "pr_mse_ = PolynomialFeatures(degree = 4)\n",
        "\n",
        "start_time = time.time()\n",
        "\n",
        "x_train_new = pr_mse_.fit_transform(x_train_scaled)\n",
        "\n",
        "times_train_aft['pr_mse'] = time.time() - start_time\n",
        "\n",
        "start_time = time.time()\n",
        "\n",
        "x_test_new = pr_mse_.fit_transform(x_test_scaled)\n",
        "\n",
        "times_test_aft['pr_mse'] = time.time() - start_time\n",
        "\n",
        "# linear regression for the prediction\n",
        "\n",
        "lre = LinearRegression()\n",
        "\n",
        "lre.fit(x_train_new, y_train)\n",
        "\n",
        "pr_preds_mse = lre.predict(x_test_new)\n",
        "\n",
        "pr_mse = mse(y_test, pr_preds_mse)"
      ],
      "execution_count": null,
      "outputs": []
    },
    {
      "cell_type": "code",
      "metadata": {
        "id": "jouT7FNiXQ63",
        "colab": {
          "base_uri": "https://localhost:8080/"
        },
        "outputId": "eaeb354a-cdaf-4f39-abb8-ffe6eba5f30c"
      },
      "source": [
        "print('Before:',pr_mse_score,'After:',pr_mse)"
      ],
      "execution_count": null,
      "outputs": [
        {
          "output_type": "stream",
          "text": [
            "Before: 22.360571260586905 After: 0.5714206307953481\n"
          ],
          "name": "stdout"
        }
      ]
    },
    {
      "cell_type": "markdown",
      "metadata": {
        "id": "Lvq2_rRX-IsA"
      },
      "source": [
        "### Scoring **R² or Coefficient of Determination**\n",
        "  \n",
        "* For the hyperparameter degree we initially chose a wide range of values ​​from 1 to 10. We noticed that the optimal value is 4.\n"
      ]
    },
    {
      "cell_type": "code",
      "metadata": {
        "colab": {
          "base_uri": "https://localhost:8080/"
        },
        "id": "F3Kjj8l1-Ln2",
        "outputId": "35ff2f96-77ed-4da0-976c-5eb1d52c8491"
      },
      "source": [
        "Train_acc = []\n",
        "Test_acc = []\n",
        "Train_r2 = []\n",
        "Test_r2 = []\n",
        "\n",
        "for i in range(10):\n",
        "  pr = PolynomialFeatures(degree=(i+1))\n",
        "\n",
        "  x_train_p = pr.fit_transform(x_train_scaled)\n",
        "  x_test_p = pr.fit_transform(x_test_scaled)\n",
        "\n",
        "  lr = LinearRegression()\n",
        "  lr.fit(x_train_p, y_train)\n",
        "  \n",
        "  Train_acc.append(lr.score(x_train_p, y_train))\n",
        "  Test_acc.append(lr.score(x_test_p, y_test))\n",
        "\n",
        "  Train_r2.append(r2(y_train, lr.predict(x_train_p)))\n",
        "  Test_r2.append(r2(y_test, lr.predict(x_test_p)))\n",
        "\n",
        "\n",
        "Test_min_degree = Test_r2.index(max(Test_r2)) + 1\n",
        "Train_min_degree = Train_r2.index(max(Train_r2)) + 1\n",
        "\n",
        "print('Best degree:', Test_min_degree)"
      ],
      "execution_count": null,
      "outputs": [
        {
          "output_type": "stream",
          "text": [
            "Best degree: 4\n"
          ],
          "name": "stdout"
        }
      ]
    },
    {
      "cell_type": "code",
      "metadata": {
        "id": "LpYTvB0N-Lgn"
      },
      "source": [
        "pr_r2_ = PolynomialFeatures(degree = 4)\n",
        "\n",
        "start_time = time.time()\n",
        "\n",
        "x_train_new = pr_r2_.fit_transform(x_train_scaled)\n",
        "\n",
        "times_train_aft['pr_r2'] = time.time() - start_time\n",
        "\n",
        "start_time = time.time()\n",
        "\n",
        "x_test_new = pr_r2_.fit_transform(x_test_scaled)\n",
        "\n",
        "times_test_aft['pr_r2'] = time.time() - start_time\n",
        "\n",
        "# linear regression for the prediction\n",
        "\n",
        "lre = LinearRegression()\n",
        "\n",
        "lre.fit(x_train_new, y_train)\n",
        "\n",
        "pr_preds_r2 = lre.predict(x_test_new)\n",
        "\n",
        "pr_r2 = r2(y_test, pr_preds_r2)"
      ],
      "execution_count": null,
      "outputs": []
    },
    {
      "cell_type": "code",
      "metadata": {
        "colab": {
          "base_uri": "https://localhost:8080/"
        },
        "id": "MJgs1PXK-U2O",
        "outputId": "4d68b7b7-2b85-4d31-9fbf-b8937c728a0a"
      },
      "source": [
        "print('Before:',pr_r2_score,'After:',pr_r2)"
      ],
      "execution_count": null,
      "outputs": [
        {
          "output_type": "stream",
          "text": [
            "Before: 0.9186840349704891 After: 0.9979219842154571\n"
          ],
          "name": "stdout"
        }
      ]
    },
    {
      "cell_type": "markdown",
      "metadata": {
        "id": "y1dmV3RA-n-y"
      },
      "source": [
        "### Scoring **Median Absolute Error**\n",
        "\n",
        "* For the hyperparameter degree we initially chose a wide range of values ​​from 1 to 10. We noticed that the optimal value is 4.\n"
      ]
    },
    {
      "cell_type": "code",
      "metadata": {
        "colab": {
          "base_uri": "https://localhost:8080/"
        },
        "id": "2VvhcP2C-55b",
        "outputId": "51d3bde8-e3f6-4773-947b-6688b91d72b6"
      },
      "source": [
        "Train_acc = []\n",
        "Test_acc = []\n",
        "Train_mae = []\n",
        "Test_mae = []\n",
        "\n",
        "for i in range(10):\n",
        "  pr = PolynomialFeatures(degree=(i+1))\n",
        "\n",
        "  x_train_p = pr.fit_transform(x_train_scaled)\n",
        "  x_test_p = pr.fit_transform(x_test_scaled)\n",
        "\n",
        "  lr = LinearRegression()\n",
        "  lr.fit(x_train_p, y_train)\n",
        "  \n",
        "  Train_acc.append(lr.score(x_train_p, y_train))\n",
        "  Test_acc.append(lr.score(x_test_p, y_test))\n",
        "\n",
        "  Train_mae.append(mse(y_train, lr.predict(x_train_p)))\n",
        "  Test_mae.append(mse(y_test, lr.predict(x_test_p)))\n",
        "\n",
        "\n",
        "Test_min_degree = Test_mae.index(min(Test_mae)) + 1\n",
        "Train_min_degree = Train_mae.index(min(Train_mae)) + 1\n",
        "\n",
        "print('Best degree:', Test_min_degree)"
      ],
      "execution_count": null,
      "outputs": [
        {
          "output_type": "stream",
          "text": [
            "Best degree: 4\n"
          ],
          "name": "stdout"
        }
      ]
    },
    {
      "cell_type": "code",
      "metadata": {
        "id": "Az6VY88Y-nwn"
      },
      "source": [
        "pr_mae_ = PolynomialFeatures(degree = 4)\n",
        "\n",
        "start_time = time.time()\n",
        "\n",
        "x_train_new = pr_mae_.fit_transform(x_train_scaled)\n",
        "\n",
        "times_train_aft['pr_mae'] = time.time() - start_time\n",
        "\n",
        "start_time = time.time()\n",
        "\n",
        "x_test_new = pr_mae_.fit_transform(x_test_scaled)\n",
        "\n",
        "times_test_aft['pr_mae'] = time.time() - start_time\n",
        "\n",
        "# linear regression for the prediction\n",
        "\n",
        "lre = LinearRegression()\n",
        "\n",
        "lre.fit(x_train_new, y_train)\n",
        "\n",
        "pr_preds_mae = lre.predict(x_test_new)\n",
        "\n",
        "pr_mae = mae(y_test, pr_preds_mae)"
      ],
      "execution_count": null,
      "outputs": []
    },
    {
      "cell_type": "code",
      "metadata": {
        "colab": {
          "base_uri": "https://localhost:8080/"
        },
        "id": "gc9x-CmY-nmt",
        "outputId": "e1c0bb7c-0c01-4b89-b0ec-bdc589e764c1"
      },
      "source": [
        "print('Before:',pr_mae_score,'After:',pr_mae)"
      ],
      "execution_count": null,
      "outputs": [
        {
          "output_type": "stream",
          "text": [
            "Before: 3.2757812499999996 After: 0.351474609375\n"
          ],
          "name": "stdout"
        }
      ]
    },
    {
      "cell_type": "markdown",
      "metadata": {
        "id": "QkcPy7JdP5NI"
      },
      "source": [
        "\n",
        "\n",
        "## **MLP Regressor**\n",
        "\n",
        "Selection of hyperparameters:\n",
        "\n",
        "* **alpha**: L2 penalty (regularization term) parameter.\n",
        "* **learning_rate_init** :It controls the step-size in updating the weights. Only used when solver=’sgd’ or ‘adam’.\n",
        "* **hidden_layers_sizes**: Represents the number of neurons in the ith hidden layer.\n",
        "* **activation**: Activation function for the hidden layer. It contains: tanh and relu.\n",
        "\n",
        "\n",
        "\n",
        "\n"
      ]
    },
    {
      "cell_type": "markdown",
      "metadata": {
        "id": "Gz4RRF1CUYpX"
      },
      "source": [
        "### Scoring **Mean Squared Error**\n",
        "\n",
        "* For the alpha hyperparameter we initially chose a wide range of values ​​from 0.01 to 1. We noticed that the optimal value is in the range 0.001 to 0.1 so we chose the following values ​​for this parameter.\n",
        "* For the hidden layers size hyperparameter we initially chose a wide range of values ​​from 5 to 55. We noticed that the optimal value is in the range 28 to 37 so we chose the following values ​​for this parameter.\n",
        "* Regarding the hyperparameter activation, we chose tanh and relu\n",
        "* For the learning rate init hyperparameter we initially chose a wide range of values ​​from 0.001 to 1. We noticed that the optimal value is in the range 0.19 to 0.27 so we chose the following values ​​for this parameter."
      ]
    },
    {
      "cell_type": "code",
      "metadata": {
        "colab": {
          "base_uri": "https://localhost:8080/"
        },
        "id": "kAxc8mRBZb-3",
        "outputId": "83cd454f-dcc7-4e73-f49f-e32eaa0b5f62"
      },
      "source": [
        "# first gridsearch\n",
        "parameters_mlpr = {'learning_rate_init': [0.001,0.01,0.1,1],\n",
        "                  'activation'    : ['tanh', 'relu'],\n",
        "                  'hidden_layer_sizes' : [(5,),(15,),(25,),(35,),(45,),(55,)],\n",
        "                  'alpha': [0.001,0.01,0.1,1]}\n",
        "\n",
        "mlpr_mse_ = GridSearchCV(estimator=mlpr, param_grid = parameters_mlpr, cv = 10, scoring='neg_mean_squared_error', n_jobs=-1)\n",
        "\n",
        "mlpr_mse_.fit(x_train_scaled, y_train)\n",
        "\n",
        "mlpr_mse_.best_params_"
      ],
      "execution_count": null,
      "outputs": [
        {
          "output_type": "execute_result",
          "data": {
            "text/plain": [
              "{'activation': 'relu',\n",
              " 'alpha': 0.01,\n",
              " 'hidden_layer_sizes': (35,),\n",
              " 'learning_rate_init': 0.1}"
            ]
          },
          "metadata": {
            "tags": []
          },
          "execution_count": 20
        }
      ]
    },
    {
      "cell_type": "code",
      "metadata": {
        "id": "NaS5s1POUYIt",
        "colab": {
          "base_uri": "https://localhost:8080/"
        },
        "outputId": "2aab94ad-1eea-4b88-8f01-7f0aa9967607"
      },
      "source": [
        "parameters_mlpr = {'learning_rate_init': [0.19,0.2,0.21,0.22,0.23,0.24,0.25,0.26,0.27],\n",
        "                  'activation'    : ['tanh', 'relu'],\n",
        "                  'hidden_layer_sizes' : [(28,),(29,),(30,),(31,),(32,),(33,),(34,),(35,),(36,),(37,)],\n",
        "                  'alpha': [0.01,0.1,1]}\n",
        "\n",
        "mlpr_mse_ = GridSearchCV(estimator=mlpr, param_grid = parameters_mlpr, cv = 10, scoring='neg_mean_squared_error', n_jobs=-1)\n",
        "\n",
        "mlpr_mse_.fit(x_train_scaled, y_train)\n",
        "\n",
        "mlpr_mse_.best_params_"
      ],
      "execution_count": null,
      "outputs": [
        {
          "output_type": "execute_result",
          "data": {
            "text/plain": [
              "{'activation': 'relu',\n",
              " 'alpha': 0.01,\n",
              " 'hidden_layer_sizes': (30,),\n",
              " 'learning_rate_init': 0.2}"
            ]
          },
          "metadata": {
            "tags": []
          },
          "execution_count": 149
        }
      ]
    },
    {
      "cell_type": "code",
      "metadata": {
        "id": "Taqdk09BVSib"
      },
      "source": [
        "mlpr_mse_ = MLPRegressor(hidden_layer_sizes=(30,),activation='relu',alpha=0.01,learning_rate_init=0.2)\n",
        "\n",
        "start_time = time.time()\n",
        "\n",
        "mlpr_mse_.fit(x_train_scaled, y_train)\n",
        "\n",
        "times_train_aft['mlpr_mse'] = time.time() - start_time\n",
        "\n",
        "start_time = time.time()\n",
        "\n",
        "pred_mlpr_mse = mlpr_mse_.predict(x_test_scaled)\n",
        "\n",
        "times_test_aft['mlpr_mse'] = time.time() - start_time\n",
        "\n",
        "mlpr_mse = mse(y_test,pred_mlpr_mse)"
      ],
      "execution_count": null,
      "outputs": []
    },
    {
      "cell_type": "code",
      "metadata": {
        "id": "Hi7TDdupEmPI",
        "colab": {
          "base_uri": "https://localhost:8080/"
        },
        "outputId": "2b79ccd0-52ba-4d48-d419-492cd8b488f4"
      },
      "source": [
        "print('Before:',mlpr_mse_score,'After:',mlpr_mse)"
      ],
      "execution_count": null,
      "outputs": [
        {
          "output_type": "stream",
          "text": [
            "Before: 281.4285904978375 After: 5.40882611843743\n"
          ],
          "name": "stdout"
        }
      ]
    },
    {
      "cell_type": "markdown",
      "metadata": {
        "id": "6A4S6ww3Q_Jl"
      },
      "source": [
        "### Scoring **R² or Coefficient of Determination**\n",
        "\n",
        "* For the alpha hyperparameter we initially chose a wide range of values ​​from 0.01 to 1. We noticed that the optimal value is in the range 0.001 to 0.1 so we chose the following values ​​for this parameter.\n",
        "* For the hidden layers size hyperparameter we initially chose a wide range of values ​​from 5 to 55. We noticed that the optimal value is in the range 13 to 20 so we chose the following values ​​for this parameter.\n",
        "* Regarding the hyperparameter activation, we chose tanh and relu\n",
        "* For the learning rate init hyperparameter we initially chose a wide range of values ​​from 0.001 to 1. We noticed that the optimal value is in the range 0.19 to 0.27 so we chose the following values ​​for this parameter.\n",
        "\n",
        "\n",
        "\n",
        "\n",
        "\n",
        "\n",
        "\n",
        "\n",
        "\n",
        "\n",
        "\n",
        "\n",
        "\n",
        "\n",
        "\n",
        "\n"
      ]
    },
    {
      "cell_type": "code",
      "metadata": {
        "colab": {
          "base_uri": "https://localhost:8080/"
        },
        "id": "eYEmEifBai8i",
        "outputId": "ca126fa8-3f0b-4049-e5fd-250af78b5c40"
      },
      "source": [
        "# first gridsearch\n",
        "parameters_mlpr = {'learning_rate_init': [0.001,0.01,0.1,1],\n",
        "                  'activation'    : ['tanh', 'relu'],\n",
        "                  'hidden_layer_sizes' : [(5,),(15,),(25,),(35,),(45,),(55,)],\n",
        "                  'alpha': [0.001,0.01,0.1,1]}\n",
        "\n",
        "mlpr_r2_ = GridSearchCV(estimator=mlpr, param_grid = parameters_mlpr, cv = 10, scoring='r2', n_jobs=-1)\n",
        "\n",
        "mlpr_r2_.fit(x_train_scaled, y_train)\n",
        "\n",
        "mlpr_r2_.best_params_"
      ],
      "execution_count": null,
      "outputs": [
        {
          "output_type": "execute_result",
          "data": {
            "text/plain": [
              "{'activation': 'relu',\n",
              " 'alpha': 0.01,\n",
              " 'hidden_layer_sizes': (25,),\n",
              " 'learning_rate_init': 0.1}"
            ]
          },
          "metadata": {
            "tags": []
          },
          "execution_count": 22
        }
      ]
    },
    {
      "cell_type": "code",
      "metadata": {
        "id": "-vLjioKj2TA-",
        "colab": {
          "base_uri": "https://localhost:8080/"
        },
        "outputId": "b6cce2e7-f6e7-43f2-df4b-899e4d10f826"
      },
      "source": [
        "parameters_mlpr = {'learning_rate_init': [0.19,0.2,0.21,0.22,0.23,0.24,0.25,0.26,0.27],\n",
        "                  'activation'    : ['tanh', 'relu'],\n",
        "                  'hidden_layer_sizes' : [(13,),(14,),(15,),(16,),(17,),(18,),(19,),(20,)],\n",
        "                  'alpha': [0.01,0.1,1]\n",
        "                  }\n",
        "\n",
        "mlpr_r2_ = GridSearchCV(estimator=mlpr, param_grid = parameters_mlpr, cv = 10, scoring='r2', n_jobs=-1)\n",
        "\n",
        "mlpr_r2_.fit(x_train_scaled, y_train)\n",
        "\n",
        "mlpr_r2_.best_params_"
      ],
      "execution_count": null,
      "outputs": [
        {
          "output_type": "execute_result",
          "data": {
            "text/plain": [
              "{'activation': 'relu',\n",
              " 'alpha': 0.01,\n",
              " 'hidden_layer_sizes': (18,),\n",
              " 'learning_rate_init': 0.23}"
            ]
          },
          "metadata": {
            "tags": []
          },
          "execution_count": 171
        }
      ]
    },
    {
      "cell_type": "code",
      "metadata": {
        "id": "nA_mffEu4qI0"
      },
      "source": [
        "mlpr_r2_ = MLPRegressor(hidden_layer_sizes=(18,),activation='relu',alpha=0.01,learning_rate_init=0.23)\n",
        "\n",
        "start_time = time.time()\n",
        "\n",
        "mlpr_r2_.fit(x_train_scaled, y_train)\n",
        "\n",
        "times_train_aft['mlpr_r2'] = time.time() - start_time\n",
        "\n",
        "start_time = time.time()\n",
        "\n",
        "pred_mlpr_r2 = mlpr_r2_.predict(x_test_scaled)\n",
        "\n",
        "times_test_aft['mlpr_r2'] = time.time() - start_time\n",
        "\n",
        "mlpr_r2 = r2(y_test,pred_mlpr_r2)"
      ],
      "execution_count": null,
      "outputs": []
    },
    {
      "cell_type": "code",
      "metadata": {
        "id": "pf6vSIp_EqEI",
        "colab": {
          "base_uri": "https://localhost:8080/"
        },
        "outputId": "3ec598da-370f-498a-df23-d0bf32e2cbc3"
      },
      "source": [
        "print('Before:',mlpr_r2_score,'After:',mlpr_r2)"
      ],
      "execution_count": null,
      "outputs": [
        {
          "output_type": "stream",
          "text": [
            "Before: -0.02343706502541454 After: 0.9786242568000572\n"
          ],
          "name": "stdout"
        }
      ]
    },
    {
      "cell_type": "markdown",
      "metadata": {
        "id": "0Y076dlRXCP_"
      },
      "source": [
        "### Scoring **Median Absolute Error**\n",
        "\n",
        "* For the alpha hyperparameter we initially chose a wide range of values ​​from 0.001 to 1. We noticed that the optimal value is in the range 0.01 to 1 so we chose the following values ​​for this parameter.\n",
        "* For the hidden layers size hyperparameter we initially chose a wide range of values ​​from 5 to 55. We noticed that the optimal value is in the range 25 to 33 so we chose the following values ​​for this parameter.\n",
        "* Regarding the hyperparameter activation, we chose tanh and relu\n",
        "* For the learning rate init hyperparameter we initially chose a wide range of values ​​from 0.001 to 1. We noticed that the optimal value is in the range 0.19 to 0.27 so we chose the following values ​​for this parameter."
      ]
    },
    {
      "cell_type": "code",
      "metadata": {
        "colab": {
          "base_uri": "https://localhost:8080/"
        },
        "id": "O7sVfqO7a2qi",
        "outputId": "eb11f71c-427e-41c2-df6d-b026d4d5f099"
      },
      "source": [
        "# first gridsearch\n",
        "parameters_mlpr = {'learning_rate_init': [0.001,0.01,0.1,1],\n",
        "                  'activation'    : ['tanh', 'relu'],\n",
        "                  'hidden_layer_sizes' : [(5,),(15,),(25,),(35,),(45,),(55,)],\n",
        "                  'alpha': [0.001,0.01,0.1,1]}\n",
        "\n",
        "mlpr_mae_ = GridSearchCV(estimator=mlpr, param_grid = parameters_mlpr, cv = 10, scoring='neg_median_absolute_error', n_jobs=-1)\n",
        "\n",
        "mlpr_mae_.fit(x_train_scaled, y_train)\n",
        "\n",
        "mlpr_mae_.best_params_"
      ],
      "execution_count": null,
      "outputs": [
        {
          "output_type": "execute_result",
          "data": {
            "text/plain": [
              "{'activation': 'relu',\n",
              " 'alpha': 0.01,\n",
              " 'hidden_layer_sizes': (35,),\n",
              " 'learning_rate_init': 0.1}"
            ]
          },
          "metadata": {
            "tags": []
          },
          "execution_count": 26
        }
      ]
    },
    {
      "cell_type": "code",
      "metadata": {
        "id": "H494QngdXIcr",
        "colab": {
          "base_uri": "https://localhost:8080/"
        },
        "outputId": "ec00e566-5be0-4215-b52c-8aa539370a32"
      },
      "source": [
        "parameters_mlpr = {'learning_rate_init': [0.19,0.2,0.21,0.22,0.23,0.24,0.25,0.26,0.27],\n",
        "                  'activation'    : ['tanh', 'relu'],\n",
        "                  'hidden_layer_sizes' : [(25,),(26,),(27,),(28,),(29,),(30,),(31,),(32,),(33,)],\n",
        "                  'alpha': [0.01,0.1,1]\n",
        "                  }\n",
        "\n",
        "mlpr_mae_ = GridSearchCV(estimator=mlpr, param_grid = parameters_mlpr, cv = 10, scoring='neg_median_absolute_error', n_jobs=-1)\n",
        "\n",
        "mlpr_mae_.fit(x_train_scaled, y_train)\n",
        "\n",
        "mlpr_mae_.best_params_"
      ],
      "execution_count": null,
      "outputs": [
        {
          "output_type": "execute_result",
          "data": {
            "text/plain": [
              "{'activation': 'relu',\n",
              " 'alpha': 0.01,\n",
              " 'hidden_layer_sizes': (29,),\n",
              " 'learning_rate_init': 0.2}"
            ]
          },
          "metadata": {
            "tags": []
          },
          "execution_count": 220
        }
      ]
    },
    {
      "cell_type": "code",
      "metadata": {
        "id": "BuSt_hTiXLht"
      },
      "source": [
        "mlpr_mae_ = MLPRegressor(hidden_layer_sizes=(29,),activation='relu',alpha=0.01,learning_rate_init=0.2)\n",
        "\n",
        "start_time = time.time()\n",
        "\n",
        "mlpr_mae_.fit(x_train_scaled, y_train)\n",
        "\n",
        "times_train_aft['mlpr_mae'] = time.time() - start_time\n",
        "\n",
        "start_time = time.time()\n",
        "\n",
        "pred_mlpr_mae = mlpr_mae_.predict(x_test)\n",
        "\n",
        "times_test_aft['mlpr_mae'] = time.time() - start_time\n",
        "\n",
        "mlpr_mae = mae(y_test,pred_mlpr_mae)"
      ],
      "execution_count": null,
      "outputs": []
    },
    {
      "cell_type": "code",
      "metadata": {
        "id": "T2Z2otqWEs41",
        "colab": {
          "base_uri": "https://localhost:8080/"
        },
        "outputId": "6e90aae4-b341-42a8-d9fe-c0439f416db0"
      },
      "source": [
        "print('Before:',mlpr_mae_score,'After:',mlpr_mae)"
      ],
      "execution_count": null,
      "outputs": [
        {
          "output_type": "stream",
          "text": [
            "Before: 7.780190696590958 After: 5.030549725369931\n"
          ],
          "name": "stdout"
        }
      ]
    },
    {
      "cell_type": "markdown",
      "metadata": {
        "id": "wQbUyru8EvLQ"
      },
      "source": [
        "## **Kernel Ridge Regressor**\n",
        "\n",
        "Selection of hyperparameters: \n",
        "* **alpha** :Regularization improves the conditioning of the problem and reduces the variance of the estimates. Larger values specify stronger regularization\n",
        "* **kernel**: Kernel mapping used internally. Kernel contains: linear, polynomial due to the simplicity of the problem. \n",
        "* **gama**: Gamma parameter for the RBF, laplacian, polynomial, exponential chi2 and sigmoid kernels.\n",
        "* **degree**: Degree of the polynomial kernel."
      ]
    },
    {
      "cell_type": "markdown",
      "metadata": {
        "id": "zcxr--cFEyGK"
      },
      "source": [
        "### Scoring **Mean Squared Error**\n",
        "* For the alpha hyperparameter we initially chose a wide range of values ​​from 0.001 to 1. We noticed that the optimal value is in the range 0.01 to 0.09 so we chose the following values ​​for this parameter.\n",
        "* For the degree hyperparameter we chose a wide range of values ​​from 1 to 8. We noticed that the optimal value is in the range 3 to 6 so we chose the following values ​​for this parameter.\n",
        "* Regarding the kernel hyperparameter we chose linear  and polynomial\n",
        "* For the gamma hyperparameter we chose a wide range of values ​​from 0.001 to 1. We noticed that the optimal value is in the range 0.1 to 1 so we chose the following values ​​for this parameter.\n"
      ]
    },
    {
      "cell_type": "code",
      "metadata": {
        "colab": {
          "base_uri": "https://localhost:8080/"
        },
        "id": "Q7C3OaYPbJ3N",
        "outputId": "8bb813ec-0204-4c9d-e48b-a14cb7a719db"
      },
      "source": [
        "#first gridsearch\n",
        "parameters_krr = {'alpha': [0.001,0.005,0.01,0.05,0.1,0.5,1],\n",
        "                   'degree': [1,2,3,4,5,6,7,8],\n",
        "                  'kernel': ['linear','polynomial'],\n",
        "                  'gamma': [0.001,0.005,0.01,0.05,0.1,0.5,1]\n",
        "                 }\n",
        "\n",
        "krr_mse_ = GridSearchCV(estimator=krr, param_grid = parameters_krr, cv = 10, scoring='neg_mean_squared_error', n_jobs=-1)\n",
        "\n",
        "krr_mse_.fit(x_train_scaled, y_train)\n",
        "\n",
        "krr_mse_.best_params_"
      ],
      "execution_count": null,
      "outputs": [
        {
          "output_type": "execute_result",
          "data": {
            "text/plain": [
              "{'alpha': 0.01, 'degree': 6, 'gamma': 0.1, 'kernel': 'polynomial'}"
            ]
          },
          "metadata": {
            "tags": []
          },
          "execution_count": 31
        }
      ]
    },
    {
      "cell_type": "code",
      "metadata": {
        "id": "AFxymhQEE1q7",
        "colab": {
          "base_uri": "https://localhost:8080/"
        },
        "outputId": "b59d7fb2-dbed-411e-c7ec-ec7d0c2c5df2"
      },
      "source": [
        "parameters_krr = {'alpha': [0.01,0.02,0.03,0.035,0.04,0.05,0.06,0.07,0.08,0.09],\n",
        "                   'degree': [3,4,5,6],\n",
        "                  'kernel': ['linear','polynomial'],\n",
        "                  'gamma': [0.1,0.15,0.2,0.25,0.3,0.35,0.4,0.5,0.6,0.7,0.8,0.9,1]\n",
        "                 }\n",
        "\n",
        "krr_mse_ = GridSearchCV(estimator=krr, param_grid = parameters_krr, cv = 10, scoring='neg_mean_squared_error', n_jobs=-1)\n",
        "\n",
        "krr_mse_.fit(x_train_scaled, y_train)\n",
        "\n",
        "krr_mse_.best_params_"
      ],
      "execution_count": null,
      "outputs": [
        {
          "output_type": "execute_result",
          "data": {
            "text/plain": [
              "{'alpha': 0.06, 'degree': 4, 'gamma': 0.3, 'kernel': 'polynomial'}"
            ]
          },
          "metadata": {
            "tags": []
          },
          "execution_count": 242
        }
      ]
    },
    {
      "cell_type": "code",
      "metadata": {
        "id": "DON5u8LqFNhJ"
      },
      "source": [
        "krr_mse_ = KernelRidge(alpha=0.06,degree=4,gamma=0.3,kernel='polynomial')\n",
        "\n",
        "start_time = time.time()\n",
        "\n",
        "krr_mse_.fit(x_train_scaled, y_train)\n",
        "\n",
        "times_train_aft['krr_mse'] = time.time() - start_time\n",
        "\n",
        "start_time = time.time()\n",
        "\n",
        "pred_krr_mse =krr_mse_.predict(x_test_scaled)\n",
        "\n",
        "times_test_aft['krr_mse'] = time.time() - start_time\n",
        "\n",
        "krr_mse = mse(y_test,pred_krr_mse)"
      ],
      "execution_count": null,
      "outputs": []
    },
    {
      "cell_type": "code",
      "metadata": {
        "id": "FepZdsz-EwHp",
        "colab": {
          "base_uri": "https://localhost:8080/"
        },
        "outputId": "4031064b-8487-4e49-d7fb-8ce9fb27e7cf"
      },
      "source": [
        "print('Before:',krr_mse_score,'After:',krr_mse)"
      ],
      "execution_count": null,
      "outputs": [
        {
          "output_type": "stream",
          "text": [
            "Before: 126.42629141320197 After: 0.5880472100803794\n"
          ],
          "name": "stdout"
        }
      ]
    },
    {
      "cell_type": "markdown",
      "metadata": {
        "id": "7SES7iHsGAmG"
      },
      "source": [
        "### Scoring **R² or Coefficient of Determination**\n",
        "\n",
        "* For the alpha hyperparameter we initially chose a wide range of values ​​from 0.001 to 1. We noticed that the optimal value is in the range 0.01 to 0.06 so we chose the following values ​​for this parameter.\n",
        "* For the degree hyperparameter we chose a wide range of values ​​from 1 to 6. We noticed that the optimal value is in the range 3 to 6 so we chose the following values ​​for this parameter.\n",
        "* Regarding the kernel hyperparameter we chose linear and polynomial\n",
        "* For the gamma hyperparameter we chose a wide range of values ​​from 0.001 to 1. We noticed that the optimal value is in the range 0.1 to 1 so we chose the following values ​​for this parameter."
      ]
    },
    {
      "cell_type": "code",
      "metadata": {
        "colab": {
          "base_uri": "https://localhost:8080/"
        },
        "id": "S16K1i6Ebhq2",
        "outputId": "b7cd0f56-17b3-4ad0-f864-c2c7c7f4e882"
      },
      "source": [
        "#first gridsearch\n",
        "parameters_krr = {'alpha': [0.001,0.005,0.01,0.05,0.1,0.5,1],\n",
        "                   'degree': [1,2,3,4,5,6,7,8],\n",
        "                  'kernel': ['linear','polynomial'],\n",
        "                  'gamma': [0.001,0.005,0.01,0.05,0.1,0.5,1]\n",
        "                 }\n",
        "\n",
        "krr_r2_ = GridSearchCV(estimator=krr, param_grid = parameters_krr, cv = 10, scoring='r2', n_jobs=-1)\n",
        "\n",
        "krr_r2_.fit(x_train_scaled, y_train)\n",
        "\n",
        "krr_r2_.best_params_"
      ],
      "execution_count": null,
      "outputs": [
        {
          "output_type": "execute_result",
          "data": {
            "text/plain": [
              "{'alpha': 0.05, 'degree': 5, 'gamma': 0.5, 'kernel': 'polynomial'}"
            ]
          },
          "metadata": {
            "tags": []
          },
          "execution_count": 30
        }
      ]
    },
    {
      "cell_type": "code",
      "metadata": {
        "id": "cX6OSAx7GCWP",
        "colab": {
          "base_uri": "https://localhost:8080/"
        },
        "outputId": "fbdfab9b-fa4b-4d45-f3d9-9c45b8468313"
      },
      "source": [
        "parameters_krr = {'alpha': [0.01,0.02,0.03,0.035,0.04,0.05,0.06,0.07,0.08,0.09],\n",
        "                   'degree': [3,4,5,6],\n",
        "                  'kernel': ['linear','polynomial'],\n",
        "                  'gamma': [0.1,0.15,0.2,0.25,0.3,0.35,0.4,0.5,0.6,0.7,0.8,0.9,1]\n",
        "\n",
        "                  }\n",
        "krr_r2_ = GridSearchCV(estimator=krr, param_grid = parameters_krr, cv = 10, scoring='r2', n_jobs=-1)\n",
        "\n",
        "krr_r2_.fit(x_train_scaled, y_train)\n",
        "\n",
        "krr_r2_.best_params_"
      ],
      "execution_count": null,
      "outputs": [
        {
          "output_type": "execute_result",
          "data": {
            "text/plain": [
              "{'alpha': 0.07, 'degree': 4, 'gamma': 0.3, 'kernel': 'polynomial'}"
            ]
          },
          "metadata": {
            "tags": []
          },
          "execution_count": 82
        }
      ]
    },
    {
      "cell_type": "code",
      "metadata": {
        "id": "dw0fjjMSGIH-"
      },
      "source": [
        "krr_r2_ = KernelRidge(alpha=0.07,degree=4,gamma=0.3,kernel='polynomial')\n",
        "\n",
        "start_time = time.time()\n",
        "\n",
        "krr_r2_.fit(x_train_scaled, y_train)\n",
        "\n",
        "times_train_aft['krr_r2'] = time.time() - start_time\n",
        "\n",
        "start_time = time.time()\n",
        "\n",
        "pred_krr_r2 =krr_r2_.predict(x_test_scaled)\n",
        "\n",
        "times_test_aft['krr_r2'] = time.time() - start_time\n",
        "\n",
        "krr_r2 = r2(y_test,pred_krr_r2)"
      ],
      "execution_count": null,
      "outputs": []
    },
    {
      "cell_type": "code",
      "metadata": {
        "id": "wqx6uZrTEzN6",
        "colab": {
          "base_uri": "https://localhost:8080/"
        },
        "outputId": "bb6799ca-06db-43fb-968e-cc3296d67886"
      },
      "source": [
        "print('Before:',krr_r2_score,'After:',krr_r2)"
      ],
      "execution_count": null,
      "outputs": [
        {
          "output_type": "stream",
          "text": [
            "Before: 0.5402409101467271 After: 0.9978235717457735\n"
          ],
          "name": "stdout"
        }
      ]
    },
    {
      "cell_type": "markdown",
      "metadata": {
        "id": "zp2CvTPpGaRw"
      },
      "source": [
        "### Scoring **Median Absolute Error**\n",
        "\n",
        "* For the alpha hyperparameter we initially chose a wide range of values ​​from 0.001 to 1. We noticed that the optimal value is in the range 0.01 to 0.06 so we chose the following values ​​for this parameter.\n",
        "* For the degree hyperparameter we chose a wide range of values ​​from 1 to 10. We noticed that the optimal value is in the range 5 to 8 so we chose the following values ​​for this parameter.\n",
        "* Regarding the kernel hyperparameter we chose linear and polynomial\n",
        "* For the gamma hyperparameter we chose a wide range of values ​​from 0.001 to 1. We noticed that the optimal value is in the range 0.1 to 1 so we chose the following values ​​for this parameter.\n"
      ]
    },
    {
      "cell_type": "code",
      "metadata": {
        "colab": {
          "base_uri": "https://localhost:8080/"
        },
        "id": "x6sKti78bmuq",
        "outputId": "1183b908-ee6a-4319-c681-7746ab638cef"
      },
      "source": [
        "#first gridsearch\n",
        "parameters_krr = {'alpha': [0.001,0.005,0.01,0.05,0.1,0.5,1],\n",
        "                   'degree': [1,2,3,4,5,6,7,8],\n",
        "                  'kernel': ['linear','polynomial'],\n",
        "                  'gamma': [0.001,0.005,0.01,0.05,0.1,0.5,1]\n",
        "                 }\n",
        "\n",
        "krr_mae_ = GridSearchCV(estimator=krr, param_grid = parameters_krr, cv = 10, scoring='neg_median_absolute_error', n_jobs=-1)\n",
        "\n",
        "krr_mae_.fit(x_train_scaled, y_train)\n",
        "\n",
        "krr_mae_.best_params_"
      ],
      "execution_count": null,
      "outputs": [
        {
          "output_type": "execute_result",
          "data": {
            "text/plain": [
              "{'alpha': 0.01, 'degree': 7, 'gamma': 0.5, 'kernel': 'polynomial'}"
            ]
          },
          "metadata": {
            "tags": []
          },
          "execution_count": 32
        }
      ]
    },
    {
      "cell_type": "code",
      "metadata": {
        "id": "GSlaNuQgGbma",
        "colab": {
          "base_uri": "https://localhost:8080/"
        },
        "outputId": "ba79739b-702e-43b6-f85b-d8ea014fe48b"
      },
      "source": [
        "parameters_krr = {'alpha': [0.01,0.02,0.03,0.035,0.04,0.05,0.06,0.07,0.08,0.09],\n",
        "                   'degree': [4,5,6,7],\n",
        "                  'kernel': ['linear','polynomial'],\n",
        "                  'gamma': [0.1,0.15,0.20,0.25,0.3,0.4,0.5,0.6,0.7,0.8,0.9,1]\n",
        "\n",
        "                  }\n",
        "\n",
        "krr_mae_ = GridSearchCV(estimator=krr, param_grid = parameters_krr, cv = 10, scoring='neg_median_absolute_error', n_jobs=-1)\n",
        "\n",
        "krr_mae_.fit(x_train_scaled, y_train)\n",
        "\n",
        "krr_mae_.best_params_"
      ],
      "execution_count": null,
      "outputs": [
        {
          "output_type": "execute_result",
          "data": {
            "text/plain": [
              "{'alpha': 0.02, 'degree': 6, 'gamma': 0.4, 'kernel': 'polynomial'}"
            ]
          },
          "metadata": {
            "tags": []
          },
          "execution_count": 257
        }
      ]
    },
    {
      "cell_type": "code",
      "metadata": {
        "id": "0LlNtyXuGjlR"
      },
      "source": [
        "krr_mae_ = KernelRidge(alpha=0.02,degree=6,kernel='polynomial',gamma=0.4)\n",
        "\n",
        "start_time = time.time()\n",
        "\n",
        "krr_mae_.fit(x_train_scaled, y_train)\n",
        "\n",
        "times_train_aft['krr_mae'] = time.time() - start_time\n",
        "\n",
        "start_time = time.time()\n",
        "\n",
        "pred_krr_mae =krr_mae_.predict(x_test_scaled)\n",
        "\n",
        "times_test_aft['krr_mae'] = time.time() - start_time\n",
        "\n",
        "krr_mae = mae(y_test,pred_krr_mae)"
      ],
      "execution_count": null,
      "outputs": []
    },
    {
      "cell_type": "code",
      "metadata": {
        "id": "EQzZza6kE1YG",
        "colab": {
          "base_uri": "https://localhost:8080/"
        },
        "outputId": "2b959087-b88c-42b0-a7cd-f22fc47128f1"
      },
      "source": [
        "print('Before:',krr_mae_score,'After:',krr_mae)"
      ],
      "execution_count": null,
      "outputs": [
        {
          "output_type": "stream",
          "text": [
            "Before: 4.7124803266284605 After: 0.2415609330362733\n"
          ],
          "name": "stdout"
        }
      ]
    },
    {
      "cell_type": "markdown",
      "metadata": {
        "id": "8whNC9y6G5GL"
      },
      "source": [
        "## **Random Forest Regressor**\n",
        "\n",
        "* **max_features**: The number of features to consider when looking for the best split.It contains: auto, sqrt,log2\n",
        "* **criterion**: The function to measure the quality of a split. Supported criteria are “mse” for the mean squared error, which is equal to variance reduction as feature selection criterion, and “mae” for the mean absolute error.\n",
        "* **n_estimators**: The number of trees in the forest.\n",
        "\n"
      ]
    },
    {
      "cell_type": "markdown",
      "metadata": {
        "id": "uq7ZINJsG9Tn"
      },
      "source": [
        "### Scoring **Mean Squared Error**\n",
        "\n",
        "* For the n_estimators hyperparameter we initially chose a wide range of values ​​from 5 to 300. We noticed that the optimal value is in the range 165 to 175 so we chose the following values ​​for this parameter.\n",
        "* For the max feautures hyperparameter we chose auto, sqrt, log2\n",
        "* For the criterion hyperparameter we chose mse"
      ]
    },
    {
      "cell_type": "code",
      "metadata": {
        "colab": {
          "base_uri": "https://localhost:8080/"
        },
        "id": "06xfffpDcaVn",
        "outputId": "a8330954-18f5-4854-ef06-a971b5a213df"
      },
      "source": [
        "#first gridsearch\n",
        "parameters_rfr = {'max_features': ['auto','sqrt','log2'],\n",
        "                  'criterion' : ['mse'],\n",
        "                  'n_estimators': [5,10,30,50,70,90,100,120,150,170,200,220,250,270,300]\n",
        "                  }\n",
        "\n",
        "rfr_mse_ = GridSearchCV(estimator=rfr, param_grid = parameters_rfr, cv = 10, scoring='neg_mean_squared_error', n_jobs=-1)\n",
        "\n",
        "rfr_mse_.fit(x_train_scaled, y_train)\n",
        "\n",
        "rfr_mse_.best_params_"
      ],
      "execution_count": null,
      "outputs": [
        {
          "output_type": "execute_result",
          "data": {
            "text/plain": [
              "{'criterion': 'mse', 'max_features': 'auto', 'n_estimators': 170}"
            ]
          },
          "metadata": {
            "tags": []
          },
          "execution_count": 23
        }
      ]
    },
    {
      "cell_type": "code",
      "metadata": {
        "id": "26GcgpqnHFWA",
        "colab": {
          "base_uri": "https://localhost:8080/"
        },
        "outputId": "1fef5e4b-76be-48da-e0f7-011842ab7d76"
      },
      "source": [
        "parameters_rfr = {'max_features': ['auto','sqrt','log2'],\n",
        "                  'criterion' : ['mse'],\n",
        "                  'n_estimators': [165,166,167,168,169,170,171,172,173,174,175]\n",
        "                  }\n",
        "\n",
        "rfr_mse_ = GridSearchCV(estimator=rfr, param_grid = parameters_rfr, cv = 10, scoring='neg_mean_squared_error', n_jobs=-1)\n",
        "\n",
        "rfr_mse_.fit(x_train_scaled, y_train)\n",
        "\n",
        "rfr_mse_.best_params_"
      ],
      "execution_count": null,
      "outputs": [
        {
          "output_type": "execute_result",
          "data": {
            "text/plain": [
              "{'criterion': 'mse', 'max_features': 'auto', 'n_estimators': 168}"
            ]
          },
          "metadata": {
            "tags": []
          },
          "execution_count": 265
        }
      ]
    },
    {
      "cell_type": "code",
      "metadata": {
        "id": "hcf58EvjIIcq"
      },
      "source": [
        "rfr_mse_ = RandomForestRegressor(criterion='mse',max_features='auto',n_estimators=168)\n",
        "\n",
        "start_time = time.time()\n",
        "\n",
        "rfr_mse_.fit(x_train_scaled, y_train)\n",
        "\n",
        "times_train_aft['rfr_mse'] = time.time() - start_time\n",
        "\n",
        "start_time = time.time()\n",
        "\n",
        "pred_rfr_mse =rfr_mse_.predict(x_test_scaled)\n",
        "\n",
        "times_test_aft['rfr_mse'] = time.time() - start_time\n",
        "\n",
        "rfr_mse = mse(y_test,pred_rfr_mse)"
      ],
      "execution_count": null,
      "outputs": []
    },
    {
      "cell_type": "code",
      "metadata": {
        "id": "E4X6SMkXE4HD",
        "colab": {
          "base_uri": "https://localhost:8080/"
        },
        "outputId": "53223c8f-da25-44d9-c0ca-331e654b0e27"
      },
      "source": [
        "print('Before:',rfr_mse_score,'After:',rfr_mse)"
      ],
      "execution_count": null,
      "outputs": [
        {
          "output_type": "stream",
          "text": [
            "Before: 2.4235411445098216 After: 2.3911595550720377\n"
          ],
          "name": "stdout"
        }
      ]
    },
    {
      "cell_type": "markdown",
      "metadata": {
        "id": "bdvCEQskG-UW"
      },
      "source": [
        "### Scoring **R² or Coefficient of Determination**\n",
        "\n",
        "* For the n_estimators hyperparameter we initially chose a wide range of values ​​from 5 to 300. We noticed that the optimal value is in the range 165 to 175so we chose the following values ​​for this parameter.\n",
        "* For the max feautures hyperparameter we chose auto, sqrt, log2\n",
        "* For the criterion hyperparameter we chose mse, mae"
      ]
    },
    {
      "cell_type": "code",
      "metadata": {
        "colab": {
          "base_uri": "https://localhost:8080/"
        },
        "id": "4MM9qeTIclkT",
        "outputId": "9ea57c99-c6b4-4dd0-e97b-960fb278e529"
      },
      "source": [
        "#first gridsearch\n",
        "parameters_rfr = {'max_features': ['auto'],\n",
        "                  'criterion' : ['mse'],\n",
        "                  'n_estimators': [5,10,30,50,70,90,100,120,150,170,200,220,250,270,300]\n",
        "                  }\n",
        "\n",
        "rfr_r2_ = GridSearchCV(estimator=rfr, param_grid = parameters_rfr, cv = 10, scoring='r2', n_jobs=-1)\n",
        "\n",
        "rfr_r2_.fit(x_train_scaled, y_train)\n",
        "\n",
        "rfr_r2_.best_params_"
      ],
      "execution_count": null,
      "outputs": [
        {
          "output_type": "execute_result",
          "data": {
            "text/plain": [
              "{'criterion': 'mse', 'max_features': 'auto', 'n_estimators': 170}"
            ]
          },
          "metadata": {
            "tags": []
          },
          "execution_count": 24
        }
      ]
    },
    {
      "cell_type": "code",
      "metadata": {
        "id": "CaVA04McIN31",
        "colab": {
          "base_uri": "https://localhost:8080/"
        },
        "outputId": "cc0c60cc-13f6-4cd3-c355-545c98ed9c8f"
      },
      "source": [
        "parameters_rfr = {'max_features': ['auto','sqrt','log2'],\n",
        "                  'criterion' : ['mse','mae'],\n",
        "                  'n_estimators': [140,150,160,167,168,169,170,171,172,173,210]\n",
        "                  }\n",
        "\n",
        "rfr_r2_ = GridSearchCV(estimator=rfr, param_grid = parameters_rfr, cv = 10, scoring='r2', n_jobs=-1)\n",
        "\n",
        "rfr_r2_.fit(x_train_scaled, y_train)\n",
        "\n",
        "rfr_r2_.best_params_"
      ],
      "execution_count": null,
      "outputs": [
        {
          "output_type": "execute_result",
          "data": {
            "text/plain": [
              "{'criterion': 'mae', 'max_features': 'auto', 'n_estimators': 170}"
            ]
          },
          "metadata": {
            "tags": []
          },
          "execution_count": 268
        }
      ]
    },
    {
      "cell_type": "code",
      "metadata": {
        "id": "JFJEwBmJJkT6"
      },
      "source": [
        "rfr_r2_ = RandomForestRegressor(criterion='mae',max_features='auto',n_estimators=170)\n",
        "\n",
        "start_time = time.time()\n",
        "\n",
        "rfr_r2_.fit(x_train_scaled, y_train)\n",
        "\n",
        "times_train_aft['rfr_r2'] = time.time() - start_time\n",
        "\n",
        "start_time = time.time()\n",
        "\n",
        "pred_rfr_r2 =rfr_r2_.predict(x_test_scaled)\n",
        "\n",
        "times_test_aft['rfr_r2'] = time.time() - start_time\n",
        "\n",
        "rfr_r2 = r2(y_test,pred_rfr_r2)"
      ],
      "execution_count": null,
      "outputs": []
    },
    {
      "cell_type": "code",
      "metadata": {
        "id": "qYWXrU4JE7gS",
        "colab": {
          "base_uri": "https://localhost:8080/"
        },
        "outputId": "4e860994-03ef-4baa-9f0a-7e5cbdc4ff8c"
      },
      "source": [
        "print('Before:',rfr_r2_score,'After:',rfr_r2)"
      ],
      "execution_count": null,
      "outputs": [
        {
          "output_type": "stream",
          "text": [
            "Before: 0.9911866032107192 After: 0.990838742724265\n"
          ],
          "name": "stdout"
        }
      ]
    },
    {
      "cell_type": "markdown",
      "metadata": {
        "id": "OHVBw8YNHCqI"
      },
      "source": [
        "### Scoring **Median Absolute Error**\n",
        "\n",
        "* For the n_estimators hyperparameter we initially chose a wide range of values ​​from 5 to 300. We noticed that the optimal value is in the range 165 to 175 so we chose the following values ​​for this parameter.\n",
        "* For the max feautures hyperparameter we chose auto, sqrt, log2\n",
        "* For the criterion hyperparameter we chose mae"
      ]
    },
    {
      "cell_type": "code",
      "metadata": {
        "colab": {
          "base_uri": "https://localhost:8080/"
        },
        "id": "AIii8Eerco-v",
        "outputId": "514d494f-199b-48f5-e31e-bfb9bc64fa2d"
      },
      "source": [
        "#first gridsearch\n",
        "parameters_rfr = {'max_features': ['auto','sqrt','log2'],\n",
        "                  'criterion' : ['mse'],\n",
        "                  'n_estimators': [5,10,30,50,70,90,100,120,150,170,200,220,250,270,300]\n",
        "                  }\n",
        "\n",
        "rfr_mae_ = GridSearchCV(estimator=rfr, param_grid = parameters_rfr, cv = 10, scoring='neg_median_absolute_error', n_jobs=-1)\n",
        "\n",
        "rfr_mae_.fit(x_train_scaled, y_train)\n",
        "\n",
        "rfr_mae_.best_params_"
      ],
      "execution_count": null,
      "outputs": [
        {
          "output_type": "execute_result",
          "data": {
            "text/plain": [
              "{'criterion': 'mse', 'max_features': 'auto', 'n_estimators': 170}"
            ]
          },
          "metadata": {
            "tags": []
          },
          "execution_count": 25
        }
      ]
    },
    {
      "cell_type": "code",
      "metadata": {
        "id": "m38LU5CqJj45",
        "colab": {
          "base_uri": "https://localhost:8080/"
        },
        "outputId": "a5b50d30-009d-4651-9767-8ef4d7404dc7"
      },
      "source": [
        "parameters_rfr = {'max_features': ['auto','sqrt','log2'],\n",
        "                  'criterion' : ['mae'],\n",
        "                  'n_estimators': [165,166,167,168,169,170,171,172,173,174,175]\n",
        "                  }\n",
        "\n",
        "rfr_mae_ = GridSearchCV(estimator=rfr, param_grid = parameters_rfr, cv = 10, scoring='neg_median_absolute_error', n_jobs=-1)\n",
        "\n",
        "rfr_mae_.fit(x_train_scaled, y_train)\n",
        "\n",
        "rfr_mae_.best_params_"
      ],
      "execution_count": null,
      "outputs": [
        {
          "output_type": "execute_result",
          "data": {
            "text/plain": [
              "{'criterion': 'mae', 'max_features': 'auto', 'n_estimators': 168}"
            ]
          },
          "metadata": {
            "tags": []
          },
          "execution_count": 286
        }
      ]
    },
    {
      "cell_type": "code",
      "metadata": {
        "id": "rzq9yk2ZKtVF"
      },
      "source": [
        "rfr_mae_ = RandomForestRegressor(criterion='mae',max_features='auto',n_estimators=168)\n",
        "\n",
        "start_time = time.time()\n",
        "\n",
        "rfr_mae_.fit(x_train_scaled, y_train)\n",
        "\n",
        "times_train_aft['rfr_mae'] = time.time() - start_time\n",
        "\n",
        "start_time = time.time()\n",
        "\n",
        "pred_rfr_mae =rfr_mae_.predict(x_test_scaled)\n",
        "\n",
        "times_test_aft['rfr_mae'] = time.time() - start_time\n",
        "\n",
        "rfr_mae = mae(y_test,pred_rfr_mae)"
      ],
      "execution_count": null,
      "outputs": []
    },
    {
      "cell_type": "code",
      "metadata": {
        "id": "bfU_C2rzE_xx",
        "colab": {
          "base_uri": "https://localhost:8080/"
        },
        "outputId": "7601dd3b-7e13-41b7-8a46-2c765e07d3ff"
      },
      "source": [
        "print('Before:',rfr_mae_score,'After:',rfr_mae)"
      ],
      "execution_count": null,
      "outputs": [
        {
          "output_type": "stream",
          "text": [
            "Before: 0.21839999999999932 After: 0.2108630952380982\n"
          ],
          "name": "stdout"
        }
      ]
    },
    {
      "cell_type": "markdown",
      "metadata": {
        "id": "Nw_7V8SNLF4e"
      },
      "source": [
        "## **Hist Gradient Boosting Regressor**\n",
        "\n",
        "* **max_iter**: The maximum number of iterations of the boosting process, i.e. the maximum number of trees.\n",
        "* **scoring**: Scoring parameter to use for early stopping. It can be a single string or a callable. It contains: r2,loss,neg median absolute error, negative mean squared error.\n",
        "* **learning_rate**: This is used as a multiplicative factor for the leaves values.\n",
        "* **l2_regulatization**: The L2 regularization parameter. Use 0 for no regularization.\n",
        "\n",
        "\n"
      ]
    },
    {
      "cell_type": "markdown",
      "metadata": {
        "id": "KkiAV6zBLMDS"
      },
      "source": [
        "### Scoring **Mean Squared Error**\n",
        "\n",
        "* For the max_iter hyperparameter we initially chose a wide range of values ​​from 25 to 105. We noticed that the optimal value is in the range 27 to 39 so we chose the following values ​​for this parameter.\n",
        "* For the max scoring hyperparameter we r2,loss, negative median absolute error, negative mean squared error\n",
        "* For the l2 regularization hyperparameter we  chose a range of values ​​from 0 to 1.\n",
        "* For the learning rate hyperparameter we initially chose a wide range of values ​​from 0.00001 to 2. We noticed that the optimal value is in the range 0.1 to 0.2 so we chose the following values ​​for this parameter."
      ]
    },
    {
      "cell_type": "code",
      "metadata": {
        "colab": {
          "base_uri": "https://localhost:8080/"
        },
        "id": "7RVlSnledbXh",
        "outputId": "c13138b9-a91b-46aa-e881-0f8c96949a2d"
      },
      "source": [
        "#first gridsearch\n",
        "parameters_hgbr = {'max_iter': [25,35,45,55,65,75,85,95,105],\n",
        "                  'scoring' : ['neg_mean_squared_error'],\n",
        "                  'learning_rate': [0.001,0.01,0.1,1,1.5,2],\n",
        "                   'l2_regularization' : [0,0.1,0.2,0.3,0.4,0.5,0.6,0.7,0.8,0.9,1]\n",
        "                  }\n",
        "\n",
        "hgbr_mse_ = GridSearchCV(estimator=hgbr, param_grid = parameters_hgbr, cv = 10, scoring='neg_mean_squared_error', n_jobs=-1)\n",
        "\n",
        "hgbr_mse_.fit(x_train_scaled, y_train)\n",
        "\n",
        "hgbr_mse_.best_params_"
      ],
      "execution_count": null,
      "outputs": [
        {
          "output_type": "execute_result",
          "data": {
            "text/plain": [
              "{'l2_regularization': 0,\n",
              " 'learning_rate': 0.1,\n",
              " 'max_iter': 35,\n",
              " 'scoring': 'neg_mean_squared_error'}"
            ]
          },
          "metadata": {
            "tags": []
          },
          "execution_count": 24
        }
      ]
    },
    {
      "cell_type": "code",
      "metadata": {
        "id": "ImuwUSF3LPBj",
        "colab": {
          "base_uri": "https://localhost:8080/"
        },
        "outputId": "16ffc4fd-efde-4985-f193-64dcd53f96b8"
      },
      "source": [
        "parameters_hgbr = {'max_iter': [27,28,29,30,31,32,33,34,35,36,37,38,39],\n",
        "                  'scoring' : ['neg_mean_squared_error'],\n",
        "                  'learning_rate': [0.1,0.11,0.12,0.13,0.15,0.17,0.19,0.2],\n",
        "                   'l2_regularization' : [0,0.1,0.2,0.3,0.4,0.5,0.6,0.7,0.8,0.9,1]\n",
        "                  }\n",
        "\n",
        "hgbr_mse_ = GridSearchCV(estimator=hgbr, param_grid = parameters_hgbr, cv = 10, scoring='neg_mean_squared_error', n_jobs=-1)\n",
        "\n",
        "hgbr_mse_.fit(x_train_scaled, y_train)\n",
        "\n",
        "hgbr_mse_.best_params_"
      ],
      "execution_count": null,
      "outputs": [
        {
          "output_type": "execute_result",
          "data": {
            "text/plain": [
              "{'l2_regularization': 0,\n",
              " 'learning_rate': 0.13,\n",
              " 'max_iter': 37,\n",
              " 'scoring': 'neg_mean_squared_error'}"
            ]
          },
          "metadata": {
            "tags": []
          },
          "execution_count": 14
        }
      ]
    },
    {
      "cell_type": "code",
      "metadata": {
        "id": "c4LbrAkALO1S"
      },
      "source": [
        "hgbr_mse_ = HistGradientBoostingRegressor(max_iter=30,l2_regularization=0.5,learning_rate=0.12,scoring='neg_mean_squared_error')\n",
        "\n",
        "start_time = time.time()\n",
        "\n",
        "hgbr_mse_.fit(x_train_scaled, y_train)\n",
        "\n",
        "times_train_aft['hgbr_mse'] = time.time() - start_time\n",
        "\n",
        "start_time = time.time()\n",
        "\n",
        "pred_hgbr_mse =hgbr_mse_.predict(x_test_scaled)\n",
        "\n",
        "times_test_aft['hgbr_mse'] = time.time() - start_time\n",
        "\n",
        "hgbr_mse = mse(y_test,pred_hgbr_mse)"
      ],
      "execution_count": null,
      "outputs": []
    },
    {
      "cell_type": "code",
      "metadata": {
        "id": "YlBWe_LfFC_0",
        "colab": {
          "base_uri": "https://localhost:8080/"
        },
        "outputId": "bb5b0684-9534-4c58-9826-981b8368a02c"
      },
      "source": [
        "print('Before:',hgbr_mse_score,'After:',hgbr_mse)"
      ],
      "execution_count": null,
      "outputs": [
        {
          "output_type": "stream",
          "text": [
            "Before: 20.17255684818316 After: 18.770094000177163\n"
          ],
          "name": "stdout"
        }
      ]
    },
    {
      "cell_type": "markdown",
      "metadata": {
        "id": "Jjy0CczCLLJ-"
      },
      "source": [
        "### Scoring **R² or Coefficient of Determination**\n",
        "\n",
        "* For the max_iter hyperparameter we initially chose a wide range of values ​​from 25 to 105. We noticed that the optimal value is in the range 27 to 39 so we chose the following values ​​for this parameter.\n",
        "* For the max scoring hyperparameter we r2,loss, negative median absolute error, negative mean squared error\n",
        "* For the l2 regularization hyperparameter we  chose a range of values ​​from 0 to 1.\n",
        "* For the learning rate hyperparameter we initially chose a wide range of values ​​from 0.001 to 2. We noticed that the optimal value is in the range 0.1 to 0.2 so we chose the following values ​​for this parameter."
      ]
    },
    {
      "cell_type": "code",
      "metadata": {
        "colab": {
          "base_uri": "https://localhost:8080/"
        },
        "id": "knJngFD1dzA_",
        "outputId": "345284d6-113e-4856-a616-8a8e6e9b18e2"
      },
      "source": [
        "#first gridsearch\n",
        "parameters_hgbr = {'max_iter': [25,35,45,55,65,75,85,95,105],\n",
        "                  'scoring' : ['r2'],\n",
        "                  'learning_rate': [0.001,0.01,0.1,1,1.5,2],\n",
        "                   'l2_regularization' : [0,0.1,0.2,0.3,0.4,0.5,0.6,0.7,0.8,0.9,1]\n",
        "                  }\n",
        "\n",
        "hgbr_r2_ = GridSearchCV(estimator=hgbr, param_grid = parameters_hgbr, cv = 10, scoring='r2', n_jobs=-1)\n",
        "\n",
        "hgbr_r2_.fit(x_train_scaled, y_train)\n",
        "\n",
        "hgbr_r2_.best_params_"
      ],
      "execution_count": null,
      "outputs": [
        {
          "output_type": "execute_result",
          "data": {
            "text/plain": [
              "{'l2_regularization': 0.4,\n",
              " 'learning_rate': 0.1,\n",
              " 'max_iter': 35,\n",
              " 'scoring': 'r2'}"
            ]
          },
          "metadata": {
            "tags": []
          },
          "execution_count": 25
        }
      ]
    },
    {
      "cell_type": "code",
      "metadata": {
        "id": "YoY-bDivLQRa",
        "colab": {
          "base_uri": "https://localhost:8080/"
        },
        "outputId": "89a0653a-bf2e-4430-ebf8-dfd61774497e"
      },
      "source": [
        "parameters_hgbr = {'max_iter': [27,28,29,30,31,32,33,34,35,36,37,38,39],\n",
        "                  'scoring' : ['r2'],\n",
        "                  'learning_rate': [0.1,0.11,0.12,0.13,0.15,0.17,0.19,0.2],\n",
        "                   'l2_regularization' : [0,0.1,0.2,0.3,0.4,0.5,0.6,0.7,0.8,0.9,1]\n",
        "                  }\n",
        "\n",
        "hgbr_r2_ = GridSearchCV(estimator=hgbr, param_grid = parameters_hgbr, cv = 10, scoring='r2', n_jobs=-1)\n",
        "\n",
        "hgbr_r2_.fit(x_train_scaled, y_train)\n",
        "\n",
        "hgbr_r2_.best_params_"
      ],
      "execution_count": null,
      "outputs": [
        {
          "output_type": "execute_result",
          "data": {
            "text/plain": [
              "{'l2_regularization': 0.7,\n",
              " 'learning_rate': 0.13,\n",
              " 'max_iter': 28,\n",
              " 'scoring': 'r2'}"
            ]
          },
          "metadata": {
            "tags": []
          },
          "execution_count": 323
        }
      ]
    },
    {
      "cell_type": "code",
      "metadata": {
        "id": "MFYvtHPVLQHc"
      },
      "source": [
        "hgbr_r2_ = HistGradientBoostingRegressor(max_iter=28,l2_regularization=0.7,learning_rate=0.13,scoring='r2')\n",
        "\n",
        "start_time = time.time()\n",
        "\n",
        "hgbr_r2_.fit(x_train_scaled, y_train)\n",
        "\n",
        "times_train_aft['hgbr_r2'] = time.time() - start_time\n",
        "\n",
        "start_time = time.time()\n",
        "\n",
        "pred_hgbr_r2 =hgbr_r2_.predict(x_test_scaled)\n",
        "\n",
        "times_test_aft['hgbr_r2'] = time.time() - start_time\n",
        "\n",
        "hgbr_r2 = r2(y_test,pred_hgbr_r2)"
      ],
      "execution_count": null,
      "outputs": []
    },
    {
      "cell_type": "code",
      "metadata": {
        "id": "SDcfPkUdFKdE",
        "colab": {
          "base_uri": "https://localhost:8080/"
        },
        "outputId": "30f9c991-5fab-4d3f-a755-a7b92e53c98b"
      },
      "source": [
        "print('Before:',hgbr_r2_score,'After:',hgbr_r2)"
      ],
      "execution_count": null,
      "outputs": [
        {
          "output_type": "stream",
          "text": [
            "Before: 0.9266409203903484 After: 0.9316981389597387\n"
          ],
          "name": "stdout"
        }
      ]
    },
    {
      "cell_type": "markdown",
      "metadata": {
        "id": "ttcnz8DCLHvm"
      },
      "source": [
        "### Scoring **Median Absolute Error**\n",
        "\n",
        "* For the max_iter hyperparameter we initially chose a wide range of values ​​from 20 to 105. We noticed that the optimal value is in the range 27 to 39 so we chose the following values ​​for this parameter.\n",
        "* For the max scoring hyperparameter we r2,loss, negative median absolute error, negative mean squared error\n",
        "* For the l2 regularization hyperparameter we  chose a range of values ​​from 0 to 1.\n",
        "* For the learning rate hyperparameter we initially chose a wide range of values ​​from 0.00001 to 2. We noticed that the optimal value is in the range 0.1 to 0.2 so we chose the following values ​​for this parameter."
      ]
    },
    {
      "cell_type": "code",
      "metadata": {
        "colab": {
          "base_uri": "https://localhost:8080/"
        },
        "id": "c281oWjNd_F4",
        "outputId": "bfe4cbde-51ae-4486-a57f-c0729c391ea7"
      },
      "source": [
        "#first gridsearch\n",
        "parameters_hgbr = {'max_iter': [25,35,45,55,65,75,85,95,105],\n",
        "                  'scoring' : ['neg_mean_squared_error'],\n",
        "                  'learning_rate': [0.001,0.01,0.1,1,1.5,2],\n",
        "                   'l2_regularization' : [0,0.1,0.2,0.3,0.4,0.5,0.6,0.7,0.8,0.9,1]\n",
        "                  }\n",
        "\n",
        "hgbr_mae_ = GridSearchCV(estimator=hgbr, param_grid = parameters_hgbr, cv = 10, scoring='neg_mean_squared_error', n_jobs=-1)\n",
        "\n",
        "hgbr_mae_.fit(x_train_scaled, y_train)\n",
        "\n",
        "hgbr_mae_.best_params_"
      ],
      "execution_count": null,
      "outputs": [
        {
          "output_type": "execute_result",
          "data": {
            "text/plain": [
              "{'l2_regularization': 0,\n",
              " 'learning_rate': 0.1,\n",
              " 'max_iter': 35,\n",
              " 'scoring': 'neg_median_absolute_error'}"
            ]
          },
          "metadata": {
            "tags": []
          },
          "execution_count": 28
        }
      ]
    },
    {
      "cell_type": "code",
      "metadata": {
        "id": "_U_secG7LQ1n",
        "colab": {
          "base_uri": "https://localhost:8080/"
        },
        "outputId": "ce228f77-da53-4e72-923f-fbaaf018ec6a"
      },
      "source": [
        "parameters_hgbr = { 'max_iter': [27,28,29,30,31,32,33,34,35,36,37,38,39],\n",
        "                    'scoring' : ['neg_median_absolute_error'],\n",
        "                    'learning_rate': [0.1,0.11,0.12,0.13,0.14,0.15,0.16,0.17,0.18,0.19,0.2],\n",
        "                   'l2_regularization' : [1,0.9,0.8,0.7,0.6,0.5,0.4,0.3,0.2,0.1,0]\n",
        "                  }\n",
        "\n",
        "hgbr_mae_ = GridSearchCV(estimator=hgbr, param_grid = parameters_hgbr, cv = 10, scoring='neg_mean_squared_error', n_jobs=-1)\n",
        "\n",
        "hgbr_mae_.fit(x_train_scaled, y_train)\n",
        "\n",
        "hgbr_mae_.best_params_"
      ],
      "execution_count": null,
      "outputs": [
        {
          "output_type": "execute_result",
          "data": {
            "text/plain": [
              "{'l2_regularization': 0,\n",
              " 'learning_rate': 0.13,\n",
              " 'max_iter': 37,\n",
              " 'scoring': 'neg_median_absolute_error'}"
            ]
          },
          "metadata": {
            "tags": []
          },
          "execution_count": 15
        }
      ]
    },
    {
      "cell_type": "code",
      "metadata": {
        "id": "N4yXdwnnLQsK"
      },
      "source": [
        "hgbr_mae_ = HistGradientBoostingRegressor(max_iter=37,l2_regularization=0,learning_rate=0.13,scoring='neg_mean_squared_error')\n",
        "\n",
        "start_time = time.time()\n",
        "\n",
        "hgbr_mae_.fit(x_train_scaled, y_train)\n",
        "\n",
        "times_train_aft['hgbr_mae'] = time.time() - start_time\n",
        "\n",
        "start_time = time.time()\n",
        "\n",
        "pred_hgbr_mae = hgbr_mae_.predict(x_test_scaled)\n",
        "\n",
        "times_test_aft['hgbr_mae'] = time.time() - start_time\n",
        "\n",
        "hgbr_mae = mae(y_test,pred_hgbr_mae)"
      ],
      "execution_count": null,
      "outputs": []
    },
    {
      "cell_type": "code",
      "metadata": {
        "id": "u1y29PuXFNmb",
        "colab": {
          "base_uri": "https://localhost:8080/"
        },
        "outputId": "afd6d734-7987-4469-9bcf-8b8415d16cc8"
      },
      "source": [
        "print('Before:',hgbr_mae_score,'After:',hgbr_mae)"
      ],
      "execution_count": null,
      "outputs": [
        {
          "output_type": "stream",
          "text": [
            "Before: 0.4027045464534327 After: 0.5067246675329684\n"
          ],
          "name": "stdout"
        }
      ]
    },
    {
      "cell_type": "markdown",
      "metadata": {
        "id": "2sLcZSgKTfQd"
      },
      "source": [
        "# **Bar Plot Before-After**"
      ]
    },
    {
      "cell_type": "markdown",
      "metadata": {
        "id": "LkAj7rXgTkRu"
      },
      "source": [
        "## **Mean Square Error**"
      ]
    },
    {
      "cell_type": "code",
      "metadata": {
        "id": "WG30pNTVTl0U",
        "colab": {
          "base_uri": "https://localhost:8080/",
          "height": 573
        },
        "outputId": "73a60d27-5517-4d39-81b2-2f00b775eb0c"
      },
      "source": [
        "# Mean Square Error\n",
        "\n",
        "import matplotlib.pyplot as plt \n",
        "\n",
        "mse_score=()\n",
        "\n",
        "estimators = ('OLSR','RR','PR','MLPR','KRR','RFR','HGBR')\n",
        "\n",
        "mse_score = (olsr_mse, rr_mse, pr_mse, mlpr_mse, krr_mse, rfr_mse,hgbr_mse)\n",
        "\n",
        "plt.bar(estimators , mse_score1,color=(0.6, 0.6, 0.6, 0.6),  edgecolor='black')\n",
        "\n",
        "plt.ylabel('MSE')\n",
        "\n",
        "plt.xlabel('Classifier')\n",
        "\n",
        "plt.title('Mean Squared Error before fine tuning')\n",
        "\n",
        "plt.show()\n",
        "\n",
        "plt.bar(estimators , mse_score,color=(0.6, 0.6, 0.6, 0.6),  edgecolor='blue')\n",
        "\n",
        "plt.ylabel('MSE')\n",
        "\n",
        "plt.xlabel('Classifier')\n",
        "\n",
        "plt.title('Mean Squared Error after fine tuning')\n",
        "\n",
        "plt.show()"
      ],
      "execution_count": null,
      "outputs": [
        {
          "output_type": "display_data",
          "data": {
            "image/png": "[encoded data removed]",
            "text/plain": [
              "<Figure size 432x288 with 1 Axes>"
            ]
          },
          "metadata": {
            "tags": [],
            "needs_background": "light"
          }
        },
        {
          "output_type": "display_data",
          "data": {
            "image/png": "[encoded data removed]",
            "text/plain": [
              "<Figure size 432x288 with 1 Axes>"
            ]
          },
          "metadata": {
            "tags": [],
            "needs_background": "light"
          }
        }
      ]
    },
    {
      "cell_type": "markdown",
      "metadata": {
        "id": "DUZjyoGbYapr"
      },
      "source": [
        "In general, we observe that after fine tuning all the results regarding the mean squared error metric improved. Specifically for the regressors selected:\n",
        "\n",
        "Ordinary Least Square Regressor: Initially, we noticed a stability: 94.88\n",
        "\n",
        "Ridge Regressor: Initially, we noticed an error value: 126.61 and finally reached out 96.08\n",
        "\n",
        "Polynomial Net Regressor: Initially, we noticed an error value: 22.36 and finally reached out 0.57\n",
        "\n",
        "Multi Layer Perceptron Regressor: Initially, we noticed an error value: 281.42 and finally reached out 5.40\n",
        "\n",
        "Kernel Ridge Regressor: Initially, we noticed an error value: 126.42 and finally reached out 0.58\n",
        "\n",
        "Random Forest Regressor: Initially, we noticed an error value: 2.42 and finally reached out 2.39\n",
        "\n",
        "Hist Gradient Boosting Regressor: Initially, we noticed an error value: 20.17 and finally reached out 18.77"
      ]
    },
    {
      "cell_type": "markdown",
      "metadata": {
        "id": "igDVcvCFVJeS"
      },
      "source": [
        "## **R² or Coefficient of Determination**"
      ]
    },
    {
      "cell_type": "code",
      "metadata": {
        "id": "vSoxJsvIUzEK",
        "colab": {
          "base_uri": "https://localhost:8080/",
          "height": 573
        },
        "outputId": "8dbf10cd-095c-4142-fe92-0c2b56662832"
      },
      "source": [
        "# R²\n",
        "\n",
        "import matplotlib.pyplot as plt \n",
        "\n",
        "r2_score=()\n",
        "\n",
        "estimators = ('OLSR','RR','PR','MLPR','KRR','RFR','HGBR')\n",
        "\n",
        "r2_score = (olsr_r2, rr_r2, pr_r2, mlpr_r2, krr_r2, rfr_r2,hgbr_r2)\n",
        "\n",
        "plt.bar(estimators, r2_score1,color=(0.6, 0.6, 0.6, 0.6),  edgecolor='grey')\n",
        "\n",
        "plt.ylabel('R²')\n",
        "\n",
        "plt.xlabel('Estimators')\n",
        "\n",
        "plt.title('R² or Coefficient of Determination before fine tuning')\n",
        "\n",
        "plt.show()\n",
        "\n",
        "plt.bar(estimators, r2_score,color=(0.6, 0.6, 0.6, 0.6),  edgecolor='olive')\n",
        "\n",
        "plt.ylabel('R²')\n",
        "\n",
        "plt.xlabel('Estimators')\n",
        "\n",
        "plt.title('R² or Coefficient of Determination after fine tuning')\n",
        "\n",
        "plt.show()\n",
        "\n",
        "\n"
      ],
      "execution_count": null,
      "outputs": [
        {
          "output_type": "display_data",
          "data": {
            "image/png": "[encoded data removed]",
            "text/plain": [
              "<Figure size 432x288 with 1 Axes>"
            ]
          },
          "metadata": {
            "tags": [],
            "needs_background": "light"
          }
        },
        {
          "output_type": "display_data",
          "data": {
            "image/png": "[encoded data removed]",
            "text/plain": [
              "<Figure size 432x288 with 1 Axes>"
            ]
          },
          "metadata": {
            "tags": [],
            "needs_background": "light"
          }
        }
      ]
    },
    {
      "cell_type": "markdown",
      "metadata": {
        "id": "G002-B1caJXk"
      },
      "source": [
        "In general, we observe that after fine tuning all results regarding R² metric improved or remained relatively constant. Specifically for the regressors selected:\n",
        "\n",
        "**Ordinary Least Square Regressor**: We observe a stability in the determination factor: 0.65\n",
        "\n",
        "**Ridge Regressor**: Initially, we observed a value of the coefficient of determination: 0.53 and we finally reached out 0.61\n",
        "\n",
        "**Polynomial Net Regressor**: Initially, we observed a value of the coefficient of determination: 0.91 and we finally reached out 0.99\n",
        "\n",
        "**Multi Layer Perceptron Regressor**: Initially, we noticed a negative value of coefficient of determination and we finally reached out 0.97\n",
        "\n",
        "**Kernel Ridge Regressor**: Initially, we observed a value of the coefficient of determination: 0.54 and we finally reached out 0.99\n",
        "\n",
        "**Random Forest Regressor**: In both ways we reached out a value of the coeffiecient of determination: 0.99\n",
        "\n",
        "**Hist Gradient Boosting Regressor**: Initially, we observed a value of the coefficient of determination: 0.92 and we finally reached out 0.93"
      ]
    },
    {
      "cell_type": "markdown",
      "metadata": {
        "id": "9evjMAKMVXHB"
      },
      "source": [
        "## **Median Absolute Error**"
      ]
    },
    {
      "cell_type": "code",
      "metadata": {
        "id": "vt0HQxKnVNMY",
        "colab": {
          "base_uri": "https://localhost:8080/",
          "height": 573
        },
        "outputId": "b8e2fbc8-683c-4d5f-f455-e82c1763983d"
      },
      "source": [
        "# Median Absolut Error\n",
        "\n",
        "import matplotlib.pyplot as plt \n",
        "\n",
        "mae_score=()\n",
        "\n",
        "estimators = ('OLSR','RR','PR','MLPR','KRR','RFR','HGBR')\n",
        "\n",
        "mae_score = (olsr_mae, rr_mae, pr_mae, mlpr_mae, krr_mae, rfr_mae,hgbr_mae)\n",
        "\n",
        "plt.bar(estimators, mae_score1,color=(0.6, 0.6, 0.6, 0.6),  edgecolor='purple')\n",
        "\n",
        "plt.ylabel('MAE')\n",
        "\n",
        "plt.xlabel('Estimators')\n",
        "\n",
        "plt.title('Median Absolute Error before fine tuning')\n",
        "\n",
        "plt.show()\n",
        "\n",
        "plt.bar(estimators, mae_score,color=(0.6, 0.6, 0.6, 0.6),  edgecolor='brown')\n",
        "\n",
        "plt.ylabel('MAE')\n",
        "\n",
        "plt.xlabel('Estimators')\n",
        "\n",
        "plt.title('Median Absolute Error after fine tuning')\n",
        "\n",
        "plt.show()"
      ],
      "execution_count": null,
      "outputs": [
        {
          "output_type": "display_data",
          "data": {
            "image/png": "[encoded data removed]",
            "text/plain": [
              "<Figure size 432x288 with 1 Axes>"
            ]
          },
          "metadata": {
            "tags": [],
            "needs_background": "light"
          }
        },
        {
          "output_type": "display_data",
          "data": {
            "image/png": "[encoded data removed]",
            "text/plain": [
              "<Figure size 432x288 with 1 Axes>"
            ]
          },
          "metadata": {
            "tags": [],
            "needs_background": "light"
          }
        }
      ]
    },
    {
      "cell_type": "markdown",
      "metadata": {
        "id": "TotFsbKLb1Ex"
      },
      "source": [
        "In general, we observe that after fine tuning all the results regarding the median absolute error metric improved. Specifically for the regressors selected:\n",
        "\n",
        "**Ordinary Least Square Regressor**: Initially, we noticed a stability: 5.89\n",
        "\n",
        "**Ridge Regressor**: Initially, we noticed an error value: 4.85 and finally we reached out 4.76\n",
        "\n",
        "**Polynomial Regressor**: Initially, we noticed an error value: 3.27 and finally we reached out 0.35\n",
        "\n",
        "**Multi Layer Perceptron Regressor**: Initially, we noticed an error value: 7.78 and finally we reached out 5.03\n",
        "\n",
        "**Kernel Ridge Regressor**: Initially, we noticed an error value: 4.71 and finally we reached out 0.24\n",
        "\n",
        "**Random Forest Regressor**: Initially, we noticed a stability: 0.21\n",
        "\n",
        "**Hist Gradient Boosting Regressor**: Initially, we noticed an error value: 0.2 and finally we reached out 0.013\n",
        "\n",
        "\n"
      ]
    },
    {
      "cell_type": "markdown",
      "metadata": {
        "id": "ildzbK1sEIq-"
      },
      "source": [
        "# **Aggregated Results for Accuracy Metrics**"
      ]
    },
    {
      "cell_type": "markdown",
      "metadata": {
        "id": "DZsJz0klBVBz"
      },
      "source": [
        "\n",
        "## **Aggregated Results for Mean Squared Error**\n"
      ]
    },
    {
      "cell_type": "code",
      "metadata": {
        "id": "IparTWUzwpFv",
        "colab": {
          "base_uri": "https://localhost:8080/"
        },
        "outputId": "6ee81278-0d13-497b-e092-e29dac535d9a"
      },
      "source": [
        "MSE_Final=pd.DataFrame()\n",
        "\n",
        "Estimators=pd.DataFrame(estimators)\n",
        "\n",
        "MSE_before=pd.DataFrame(mse_score1)\n",
        "\n",
        "MSE_after=pd.DataFrame(mse_score)\n",
        "\n",
        "diff=(MSE_before-MSE_after)*100\n",
        "\n",
        "final_mse=pd.concat([Estimators,MSE_before,MSE_after,diff], axis=1)\n",
        "\n",
        "final_mse.columns=['Estimators','Before','After','Diff%']\n",
        "\n",
        "final_mse.set_index('Estimators', inplace=True)\n",
        "\n",
        "print(final_mse)"
      ],
      "execution_count": null,
      "outputs": [
        {
          "output_type": "stream",
          "text": [
            "                Before      After         Diff%\n",
            "Estimators                                     \n",
            "OLSR         94.882579  94.882579 -2.842171e-12\n",
            "RR          126.617971  96.081101  3.053687e+03\n",
            "PR           22.360571   0.571421  2.178915e+03\n",
            "MLPR        281.428590   5.408826  2.760198e+04\n",
            "KRR         126.426291   0.588047  1.258382e+04\n",
            "RFR           2.423541   2.391160  3.238159e+00\n",
            "HGBR         20.172557  18.770094  1.402463e+02\n"
          ],
          "name": "stdout"
        }
      ]
    },
    {
      "cell_type": "markdown",
      "metadata": {
        "id": "WH7y5nVjBrS6"
      },
      "source": [
        "## **Aggregated Results for R²**"
      ]
    },
    {
      "cell_type": "code",
      "metadata": {
        "id": "COiUpKEGBvn1",
        "colab": {
          "base_uri": "https://localhost:8080/"
        },
        "outputId": "18daf5f6-c037-46a8-89bb-d59eb72e7970"
      },
      "source": [
        "R2_Final=pd.DataFrame()\n",
        "\n",
        "Estimators=pd.DataFrame(estimators)\n",
        "\n",
        "R2_before=pd.DataFrame(r2_score1)\n",
        "\n",
        "R2_after=pd.DataFrame(r2_score)\n",
        "\n",
        "diff=(R2_after-R2_before)*100\n",
        "\n",
        "final_r2=pd.concat([Estimators,R2_before,R2_after,diff], axis=1)\n",
        "\n",
        "final_r2.columns=['Estimators','Before','After','Diff%']\n",
        "\n",
        "final_r2.set_index('Estimators', inplace=True)\n",
        "\n",
        "print(final_r2)"
      ],
      "execution_count": null,
      "outputs": [
        {
          "output_type": "stream",
          "text": [
            "              Before     After         Diff%\n",
            "Estimators                                  \n",
            "OLSR        0.654952  0.654952 -2.220446e-14\n",
            "RR          0.539544  0.617243  7.769918e+00\n",
            "PR          0.918684  0.997922  7.923795e+00\n",
            "MLPR       -0.023437  0.978624  1.002061e+02\n",
            "KRR         0.540241  0.997824  4.575827e+01\n",
            "RFR         0.991187  0.990839 -3.478605e-02\n",
            "HGBR        0.926641  0.931698  5.057219e-01\n"
          ],
          "name": "stdout"
        }
      ]
    },
    {
      "cell_type": "markdown",
      "metadata": {
        "id": "d6weVIq2CRpg"
      },
      "source": [
        "## **Aggregated Results for Median Absolute Error**"
      ]
    },
    {
      "cell_type": "code",
      "metadata": {
        "id": "uMZnRZipCTLb",
        "colab": {
          "base_uri": "https://localhost:8080/"
        },
        "outputId": "e4ec298b-6e14-418c-d8be-7cf4eb50bffb"
      },
      "source": [
        "MAE_Final=pd.DataFrame()\n",
        "\n",
        "Estimators=pd.DataFrame(estimators)\n",
        "\n",
        "MAE_before=pd.DataFrame(mae_score1)\n",
        "\n",
        "MAE_after=pd.DataFrame(mae_score)\n",
        "\n",
        "diff=(MAE_before-MAE_after)*100\n",
        "\n",
        "final_mae=pd.concat([Estimators,MAE_before,MAE_after,diff], axis=1)\n",
        "\n",
        "final_mae.columns=['Estimators','Before','After','Diff%']\n",
        "\n",
        "final_mae.set_index('Estimators', inplace=True)\n",
        "\n",
        "print(final_mae)"
      ],
      "execution_count": null,
      "outputs": [
        {
          "output_type": "stream",
          "text": [
            "              Before     After         Diff%\n",
            "Estimators                                  \n",
            "OLSR        5.895931  5.895931  1.598721e-12\n",
            "RR          4.855861  4.767681  8.817976e+00\n",
            "PR          3.275781  0.351475  2.924307e+02\n",
            "MLPR        7.780191  5.030550  2.749641e+02\n",
            "KRR         4.712480  0.241561  4.470919e+02\n",
            "RFR         0.218400  0.210863  7.536905e-01\n",
            "HGBR        0.260299  0.420883 -1.605843e+01\n"
          ],
          "name": "stdout"
        }
      ]
    },
    {
      "cell_type": "markdown",
      "metadata": {
        "id": "ofbjNeSacxOY"
      },
      "source": [
        "# **Aggregated Results for Time**"
      ]
    },
    {
      "cell_type": "markdown",
      "metadata": {
        "id": "LREON-3Uc39u"
      },
      "source": [
        "## **Before Fine Tuning**\n",
        "\n",
        "\n",
        "\n",
        "\n"
      ]
    },
    {
      "cell_type": "code",
      "metadata": {
        "id": "GwXYpyEwW7kI",
        "colab": {
          "base_uri": "https://localhost:8080/"
        },
        "outputId": "66fed0ff-bad0-4507-8bbd-dcd7254242bc"
      },
      "source": [
        "times_train_before=pd.DataFrame([times_train_bef])\n",
        "times_test_before=pd.DataFrame([times_test_bef])\n",
        "\n",
        "times_test_before=times_test_before.T\n",
        "times_train_before=times_train_before.T\n",
        "\n",
        "final_times_before=pd.concat([times_train_before,times_test_before], axis=1)\n",
        "\n",
        "final_times_before.columns=['Train','Test']\n",
        "\n",
        "print(final_times_before)"
      ],
      "execution_count": null,
      "outputs": [
        {
          "output_type": "stream",
          "text": [
            "         Train      Test\n",
            "olsr  0.004654  0.001454\n",
            "rr    0.003373  0.002602\n",
            "pr    0.003439  0.003231\n",
            "mlpr  0.242181  0.002219\n",
            "krr   0.013557  0.002054\n",
            "rfr   0.157595  0.008438\n",
            "hgbr  0.075769  0.003544\n"
          ],
          "name": "stdout"
        }
      ]
    },
    {
      "cell_type": "markdown",
      "metadata": {
        "id": "LAS8UrSgdZJz"
      },
      "source": [
        "## **After Fine Tuning**\n",
        "\n"
      ]
    },
    {
      "cell_type": "code",
      "metadata": {
        "id": "KndGiAz_dqxd",
        "colab": {
          "base_uri": "https://localhost:8080/"
        },
        "outputId": "f44b0706-5f86-400e-f781-8a596471cd35"
      },
      "source": [
        "times_train_after=pd.DataFrame([times_train_aft])\n",
        "times_test_after=pd.DataFrame([times_test_aft])\n",
        "\n",
        "times_test_after=times_test_after.T\n",
        "times_train_after=times_train_after.T\n",
        "\n",
        "final_times_after=pd.concat([times_train_after,times_test_after], axis=1)\n",
        "\n",
        "final_times_after.columns=['Train','Test']\n",
        "\n",
        "print(final_times_after)"
      ],
      "execution_count": null,
      "outputs": [
        {
          "output_type": "stream",
          "text": [
            "                Train      Test\n",
            "olsr_scaled  0.000867  0.000163\n",
            "rr_mse       0.002091  0.000296\n",
            "rr_r2        0.001585  0.000198\n",
            "rr_mae       0.001088  0.000261\n",
            "pr_mse       0.001354  0.000709\n",
            "pr_r2        0.001480  0.001877\n",
            "pr_mae       0.002162  0.000816\n",
            "mlpr_mse     0.067657  0.000239\n",
            "mlpr_r2      0.052081  0.000202\n",
            "mlpr_mae     0.044178  0.001696\n",
            "krr_mse      0.008835  0.002624\n",
            "krr_r2       0.007034  0.002574\n",
            "krr_mae      0.014950  0.002570\n",
            "rfr_mse      0.225274  0.012236\n",
            "rfr_r2       0.462283  0.012939\n",
            "rfr_mae      0.458878  0.013492\n",
            "hgbr_mse     0.026187  0.000791\n",
            "hgbr_r2      0.028579  0.000835\n",
            "hgbr_mae     0.025894  0.000807\n"
          ],
          "name": "stdout"
        }
      ]
    },
    {
      "cell_type": "markdown",
      "metadata": {
        "id": "XQesxP1dM1Zu"
      },
      "source": [
        "Due to preprocessing time periods have been decreased in both Train and Test sets."
      ]
    }
  ]
}