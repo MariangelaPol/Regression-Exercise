{
  "nbformat": 4,
  "nbformat_minor": 0,
  "metadata": {
    "colab": {
      "name": "S03.ipynb",
      "provenance": [],
      "collapsed_sections": [],
      "toc_visible": true
    },
    "kernelspec": {
      "name": "python3",
      "display_name": "Python 3"
    },
    "accelerator": "GPU"
  },
  "cells": [
    {
      "cell_type": "markdown",
      "metadata": {
        "id": "-ViS-SaI_KSe"
      }
      
    {
      "cell_type": "markdown",
      "metadata": {
        "id": "OS5bYGYviSjP"
      },
      "source": [
        "# **Basic Info**"
      ]
    },
    {
      "cell_type": "markdown",
      "metadata": {
        "id": "5517KkLF_WBb"
      },
      "source": [
        "1. Prediction of residuary resistance of sailing yachts at the initial design stage is of a great value for evaluating the ships performance and for estimating the required propulsive power. Variations concern hull geometry coefficients and the Froude number:\r\n",
        " * Longitudinal position of the center of buoyancy, adimensional.\r\n",
        " * Prismatic coefficient, adimensional.\r\n",
        " * Length-displacement ratio, adimensional.\r\n",
        " * Beam-draught ratio, adimensional.\r\n",
        " * Length-beam ratio, adimensional.\r\n",
        " * Froude number, adimensional.\r\n",
        "\r\n",
        " The measured variable is the residuary resistance per unit weight of displacement:\r\n",
        "\r\n",
        " *  Residuary resistance per unit weight of   displacement, adimensional.\r\n",
        "\r\n",
        "\r\n",
        "\r\n",
        "2. Running the data.info () function we find that the number of samples is 308 and the number of attributes is 7. There are no ordered values. Running the data.dtypes function we see that the attributes of the whole dataset are real numbers\r\n",
        "\r\n",
        "\r\n",
        "3. No, running the data.head () function we can see that there is no numbering in the lines and there are no headings\r\n",
        "\r\n",
        "\r\n",
        "4. The 7th column is the target\r\n",
        "\r\n",
        "5. We converted the file from .data to .xlsx in order to load the dataset in the notebook\r\n",
        "\r\n",
        "\r\n",
        "6. Running the  data.isnull().values.any() function we can see that there are no missing values ​​in the dataset\r\n"
      ]
    },
    {
      "cell_type": "code",
      "metadata": {
        "id": "uBQwMrqs_RS2",
        "colab": {
          "base_uri": "https://localhost:8080/"
        },
        "outputId": "9b92844d-30de-40f8-b68b-95ebe62d8dcd"
      },
      "source": [
        "!pip install --upgrade pip #upgrade pip package installer\r\n",
        "!pip install scikit-learn --upgrade #upgrade scikit-learn package\r\n",
        "!pip install numpy --upgrade #upgrade numpy package\r\n",
        "!pip install pandas --upgrade #--upgrade #upgrade pandas package"
      ],
      "execution_count": null,
      "outputs": [
        {
          "output_type": "stream",
          "text": [
            "Requirement already satisfied: pip in /usr/local/lib/python3.7/dist-packages (21.0.1)\n",
            "Requirement already satisfied: scikit-learn in /usr/local/lib/python3.7/dist-packages (0.24.1)\n",
            "Requirement already satisfied: scipy>=0.19.1 in /usr/local/lib/python3.7/dist-packages (from scikit-learn) (1.4.1)\n",
            "Requirement already satisfied: joblib>=0.11 in /usr/local/lib/python3.7/dist-packages (from scikit-learn) (1.0.1)\n",
            "Requirement already satisfied: numpy>=1.13.3 in /usr/local/lib/python3.7/dist-packages (from scikit-learn) (1.20.1)\n",
            "Requirement already satisfied: threadpoolctl>=2.0.0 in /usr/local/lib/python3.7/dist-packages (from scikit-learn) (2.1.0)\n",
            "Requirement already satisfied: numpy in /usr/local/lib/python3.7/dist-packages (1.20.1)\n",
            "Requirement already satisfied: pandas in /usr/local/lib/python3.7/dist-packages (1.2.3)\n",
            "Requirement already satisfied: pytz>=2017.3 in /usr/local/lib/python3.7/dist-packages (from pandas) (2018.9)\n",
            "Requirement already satisfied: numpy>=1.16.5 in /usr/local/lib/python3.7/dist-packages (from pandas) (1.20.1)\n",
            "Requirement already satisfied: python-dateutil>=2.7.3 in /usr/local/lib/python3.7/dist-packages (from pandas) (2.8.1)\n",
            "Requirement already satisfied: six>=1.5 in /usr/local/lib/python3.7/dist-packages (from python-dateutil>=2.7.3->pandas) (1.15.0)\n"
          ],
          "name": "stdout"
        }
      ]
    },
    {
      "cell_type": "code",
      "metadata": {
        "id": "p0ofxps8_Bnw"
      },
      "source": [
        "import pandas as pd\r\n",
        "import numpy as np\r\n",
        "import matplotlib.pyplot as plt\r\n",
        "from sklearn.model_selection import GridSearchCV\r\n",
        "from sklearn.metrics import mean_squared_error as mse\r\n",
        "from sklearn.metrics import r2_score as r2\r\n",
        "from sklearn.metrics import median_absolute_error as mae\r\n",
        "import time\r\n",
        "\r\n",
        "\r\n",
        "#load time matrixes\r\n",
        "\r\n",
        "times_train_bef = {} \r\n",
        "\r\n",
        "times_test_bef = {}\r\n",
        "\r\n",
        "times_train_aft = {}\r\n",
        "\r\n",
        "times_test_aft = {}\r\n",
        "\r\n",
        "#load dataset\r\n",
        "data = pd.read_excel(\"S03.xlsx\",header=None)\r\n",
        "\r\n",
        "X = data.iloc[0:,:-1]\r\n",
        "y = data.iloc[:,6]"
      ],
      "execution_count": null,
      "outputs": []
    },
    {
      "cell_type": "markdown",
      "metadata": {
        "id": "rNihijmQRRU4"
      },
      "source": [
        "# **Train-Test Split**"
      ]
    },
    {
      "cell_type": "code",
      "metadata": {
        "id": "eApZFF-kAn-E",
        "colab": {
          "base_uri": "https://localhost:8080/"
        },
        "outputId": "10d59f5e-9eb9-4e11-a3ca-70cf3180275d"
      },
      "source": [
        "# Train-Test Split: 33% of our dataset->test data and the rest-> train data\r\n",
        "from sklearn.model_selection import train_test_split\r\n",
        "\r\n",
        "x_train, x_test, y_train, y_test = train_test_split(X,y,test_size=0.33)\r\n",
        "\r\n",
        "print(x_train)\r\n",
        "print(y_train)"
      ],
      "execution_count": null,
      "outputs": [
        {
          "output_type": "stream",
          "text": [
            "       0      1     2     3     4      5\n",
            "133  0.0  0.565  4.77  3.99  3.15  0.300\n",
            "165  0.0  0.565  5.10  3.94  3.51  0.400\n",
            "87  -2.3  0.562  5.14  4.95  3.17  0.200\n",
            "159  0.0  0.565  5.10  3.94  3.51  0.250\n",
            "0   -2.3  0.568  4.78  3.99  3.17  0.125\n",
            "..   ...    ...   ...   ...   ...    ...\n",
            "124 -2.2  0.546  4.78  4.13  3.07  0.425\n",
            "233  0.0  0.600  4.78  4.24  3.15  0.350\n",
            "184 -2.3  0.530  5.11  3.69  3.51  0.175\n",
            "13  -2.3  0.568  4.78  3.99  3.17  0.450\n",
            "242 -5.0  0.600  4.78  4.24  3.15  0.225\n",
            "\n",
            "[206 rows x 6 columns]\n",
            "133     4.14\n",
            "165    23.05\n",
            "87      1.07\n",
            "159     1.90\n",
            "0       0.11\n",
            "       ...  \n",
            "124    35.64\n",
            "233    10.36\n",
            "184     0.46\n",
            "13     49.49\n",
            "242     1.13\n",
            "Name: 6, Length: 206, dtype: float64\n"
          ],
          "name": "stdout"
        }
      ]
    },
    {
      "cell_type": "markdown",
      "metadata": {
        "id": "BfLpfqsAgHP-"
      },
      "source": [
        "# **Baseline Regressors**"
      ]
    },
    {
      "cell_type": "markdown",
      "metadata": {
        "id": "ZkeDh1i6F4WU"
      },
      "source": [
        "**Generally Info for Regressors:**\r\n",
        "\r\n",
        "\r\n",
        "*   **Ordinary Least Squares Regressor**: LinearRegression fits a linear model with coefficients to minimize the residual sum of squares between the observed targets in the dataset, and the targets predicted by the linear approximation\r\n",
        "*  **Ridge Regressor**:Ridge regression addresses some of the problems of Ordinary Least Squares by imposing a penalty on the size of the coefficients. The ridge coefficients minimize a penalized residual sum of squares.\r\n",
        "\r\n",
        "*   **Elastic Net Regressor**: ElasticNet is a linear regression model trained with both l_1 and l_2 norm regularization of the coefficients. This combination allows for learning a sparse model where few of the weights are non-zero , while still maintaining the regularization properties of Ridge. Elastic-net is useful when there are multiple features which are correlated with one another. \r\n",
        "* **MLP Regressor**: This model optimizes the squared-loss using LBFGS or stochastic gradient descent.\r\n",
        "* **Kernel ridge Regressor**: Combines ridge regression (linear least squares with l2-norm regularization) with the kernel trick. It thus learns a linear function in the space induced by the respective kernel and the data. For non-linear kernels, this corresponds to a non-linear function in the original spa\r\n",
        "*   **Random Forest Regressor**: A random forest is a meta estimator that fits a number of classifying decision trees on various sub-samples of the dataset and uses averaging to improve the predictive accuracy and control over-fitting\r\n",
        "* **Hist Gradient Boosting Regressor**: This estimator has native support for missing values (NaNs). During training, the tree grower learns at each split point whether samples with missing values should go to the left or right child, based on the potential gain. When predicting, samples with missing values are assigned to the left or right child consequently. If no missing values were encountered for a given feature during training, then samples with missing values are mapped to whichever child has the most samples.\r\n",
        "\r\n",
        "**Generally Info for Accuracy Metrics:**\r\n",
        "\r\n",
        "* **Mean Squared Error**: measures the average of the squares of the errors—that is, the average squared difference between the estimated values and the actual value. \r\n",
        "* **R-squared**:  is the proportion of the variance in the dependent variable that is predictable from the independent variable(s). The coefficient of determination normally ranges from 0 to 1. For instance, an R-squared equals to 1 means that all movements of dependent variable are completely explained by movements of independent variable(s). R-squared is negative only when the chosen model does not follow the trend of the data, so fits worse than a horizontal line.\r\n",
        "* **Mean absolute error**: is a measure of errors between paired observations expressing the same phenomenon.\r\n"
      ]
    },
    {
      "cell_type": "markdown",
      "metadata": {
        "id": "bg-eR2N0CdLs"
      },
      "source": [
        "\r\n",
        "\r\n",
        "## **Ordinary Least Squares Regressor**\r\n",
        "\r\n"
      ]
    },
    {
      "cell_type": "code",
      "metadata": {
        "id": "SdK_Ml_iCTiV"
      },
      "source": [
        "from sklearn import linear_model\r\n",
        "\r\n",
        "olsr = linear_model.LinearRegression()\r\n",
        "\r\n",
        "start_time = time.time()\r\n",
        "\r\n",
        "olsr.fit(x_train,y_train)\r\n",
        "\r\n",
        "times_train_bef['olsr'] = time.time() - start_time\r\n",
        "\r\n",
        "start_time = time.time()\r\n",
        "\r\n",
        "olsr_preds = olsr.predict(x_test)\r\n",
        "\r\n",
        "times_test_bef['olsr'] = time.time() - start_time\r\n",
        "\r\n",
        "olsr_mse_score = mse(y_test, olsr_preds)\r\n",
        "\r\n",
        "olsr_r2_score = r2(y_test, olsr_preds)\r\n",
        "\r\n",
        "olsr_mae_score = mae(y_test, olsr_preds)"
      ],
      "execution_count": null,
      "outputs": []
    },
    {
      "cell_type": "markdown",
      "metadata": {
        "id": "9vZ2_2-fWo33"
      },
      "source": [
        "\r\n",
        "\r\n",
        "## **Ridge Regressor**\r\n",
        "\r\n"
      ]
    },
    {
      "cell_type": "code",
      "metadata": {
        "id": "-hA0eWxOWoi5"
      },
      "source": [
        "from sklearn.linear_model import Ridge\r\n",
        "\r\n",
        "rr = Ridge()\r\n",
        "\r\n",
        "start_time = time.time()\r\n",
        "\r\n",
        "rr.fit(x_train, y_train)\r\n",
        "\r\n",
        "times_train_bef['rr'] = time.time() - start_time\r\n",
        "\r\n",
        "start_time = time.time()\r\n",
        "\r\n",
        "rr_preds = rr.predict(x_test)\r\n",
        "\r\n",
        "times_test_bef['rr'] = time.time() - start_time\r\n",
        "\r\n",
        "rr_mse_score = mse(y_test, rr_preds)\r\n",
        "\r\n",
        "rr_r2_score = r2(y_test, rr_preds)\r\n",
        "\r\n",
        "rr_mae_score = mae(y_test, rr_preds)"
      ],
      "execution_count": null,
      "outputs": []
    },
    {
      "cell_type": "markdown",
      "metadata": {
        "id": "5iUGZcm2lyGB"
      },
      "source": [
        "## **Polynomial Regressor**"
      ]
    },
    {
      "cell_type": "code",
      "metadata": {
        "id": "5VFaXWnjl-5F"
      },
      "source": [
        "from sklearn.preprocessing import PolynomialFeatures\n",
        "\n",
        "from sklearn.linear_model import LinearRegression\n",
        "\n",
        "pr = PolynomialFeatures()\n",
        "\n",
        "start_time = time.time()\n",
        "\n",
        "x_train_new = pr.fit_transform(x_train)\n",
        "\n",
        "times_train_bef['pr'] = time.time() - start_time\n",
        "\n",
        "start_time = time.time()\n",
        "\n",
        "x_test_new = pr.fit_transform(x_test)\n",
        "\n",
        "times_test_bef['pr'] = time.time() - start_time\n",
        "\n",
        "#linear regression for the prediction\n",
        "\n",
        "lre = LinearRegression()\n",
        "\n",
        "lre.fit(x_train_new, y_train)\n",
        "\n",
        "pr_preds = lre.predict(x_test_new)\n",
        "\n",
        "pr_mse_score = mse(y_test, pr_preds)\n",
        "\n",
        "pr_r2_score = r2(y_test, pr_preds)\n",
        "\n",
        "pr_mae_score = mae(y_test, pr_preds)"
      ],
      "execution_count": null,
      "outputs": []
    },
    {
      "cell_type": "markdown",
      "metadata": {
        "id": "75ygSfAcVink"
      },
      "source": [
        "\r\n",
        "\r\n",
        "## **MLP Regressor**\r\n",
        "\r\n"
      ]
    },
    {
      "cell_type": "code",
      "metadata": {
        "id": "dzcJZ8R-VtVV",
        "colab": {
          "base_uri": "https://localhost:8080/"
        },
        "outputId": "5083a9d9-7b73-48ce-eaab-3bf8a61c7130"
      },
      "source": [
        "from sklearn.neural_network import MLPRegressor\r\n",
        "\r\n",
        "mlpr = MLPRegressor()\r\n",
        "\r\n",
        "start_time = time.time()\r\n",
        "\r\n",
        "mlpr.fit(x_train, y_train)\r\n",
        "\r\n",
        "times_train_bef['mlpr'] = time.time() - start_time\r\n",
        "\r\n",
        "start_time = time.time()\r\n",
        "\r\n",
        "mlpr_preds = mlpr.predict(x_test)\r\n",
        "\r\n",
        "times_test_bef['mlpr'] = time.time() - start_time\r\n",
        "\r\n",
        "mlpr_mse_score = mse(y_test, mlpr_preds)\r\n",
        "\r\n",
        "mlpr_r2_score = r2(y_test, mlpr_preds)\r\n",
        "\r\n",
        "mlpr_mae_score = mae(y_test, mlpr_preds)"
      ],
      "execution_count": null,
      "outputs": [
        {
          "output_type": "stream",
          "text": [
            "/usr/local/lib/python3.7/dist-packages/sklearn/neural_network/_multilayer_perceptron.py:617: ConvergenceWarning: Stochastic Optimizer: Maximum iterations (200) reached and the optimization hasn't converged yet.\n",
            "  % self.max_iter, ConvergenceWarning)\n"
          ],
          "name": "stderr"
        }
      ]
    },
    {
      "cell_type": "markdown",
      "metadata": {
        "id": "o3VyMLmUWbYA"
      },
      "source": [
        "\r\n",
        "## **Kernel Ridge Regressor**\r\n",
        "\r\n"
      ]
    },
    {
      "cell_type": "code",
      "metadata": {
        "id": "NnUqSs9eWiq8"
      },
      "source": [
        "from sklearn.kernel_ridge import KernelRidge\r\n",
        "\r\n",
        "krr = KernelRidge()\r\n",
        "\r\n",
        "start_time = time.time()\r\n",
        "\r\n",
        "krr.fit(x_train, y_train)\r\n",
        "\r\n",
        "times_train_bef['krr'] = time.time() - start_time\r\n",
        "\r\n",
        "start_time = time.time()\r\n",
        "\r\n",
        "krr_preds = krr.predict(x_test)\r\n",
        "\r\n",
        "times_test_bef['krr'] = time.time() - start_time\r\n",
        "\r\n",
        "krr_mse_score = mse(y_test, krr_preds)\r\n",
        "\r\n",
        "krr_r2_score = r2(y_test, krr_preds)\r\n",
        "\r\n",
        "krr_mae_score = mae(y_test, krr_preds)"
      ],
      "execution_count": null,
      "outputs": []
    },
    {
      "cell_type": "markdown",
      "metadata": {
        "id": "46wCK61FXStE"
      },
      "source": [
        "\r\n",
        "\r\n",
        "## **Random Forest Regressor**\r\n",
        "\r\n"
      ]
    },
    {
      "cell_type": "code",
      "metadata": {
        "id": "QvjiklgVXmlH"
      },
      "source": [
        "from sklearn.ensemble import RandomForestRegressor\r\n",
        "\r\n",
        "rfr = RandomForestRegressor()\r\n",
        "\r\n",
        "start_time = time.time()\r\n",
        "\r\n",
        "rfr.fit(x_train, y_train)\r\n",
        "\r\n",
        "times_train_bef['rfr'] = time.time() - start_time\r\n",
        "\r\n",
        "start_time = time.time()\r\n",
        "\r\n",
        "rfr_preds = rfr.predict(x_test)\r\n",
        "\r\n",
        "times_test_bef['rfr'] = time.time() - start_time\r\n",
        "\r\n",
        "rfr_mse_score = mse(y_test, rfr_preds)\r\n",
        "\r\n",
        "rfr_r2_score = r2(y_test, rfr_preds)\r\n",
        "\r\n",
        "rfr_mae_score = mae(y_test, rfr_preds)"
      ],
      "execution_count": null,
      "outputs": []
    },
    {
      "cell_type": "markdown",
      "metadata": {
        "id": "RZigi0EAYH3V"
      },
      "source": [
        "\r\n",
        "\r\n",
        "## **Hist Gradient Boosting Regressor**\r\n",
        "\r\n"
      ]
    },
    {
      "cell_type": "code",
      "metadata": {
        "id": "Q_eLrQZgYX46"
      },
      "source": [
        "from sklearn.experimental import enable_hist_gradient_boosting  \r\n",
        "from sklearn.ensemble import HistGradientBoostingRegressor\r\n",
        "\r\n",
        "hgbr = HistGradientBoostingRegressor()\r\n",
        "\r\n",
        "start_time = time.time()\r\n",
        "\r\n",
        "hgbr.fit(x_train, y_train)\r\n",
        "\r\n",
        "times_train_bef['hgbr'] = time.time() - start_time\r\n",
        "\r\n",
        "start_time = time.time()\r\n",
        "\r\n",
        "hgbr_preds = hgbr.predict(x_test)\r\n",
        "\r\n",
        "times_test_bef['hgbr'] = time.time() - start_time\r\n",
        "\r\n",
        "hgbr_mse_score = mse(y_test, hgbr_preds)\r\n",
        "\r\n",
        "hgbr_r2_score = r2(y_test, hgbr_preds)\r\n",
        "\r\n",
        "hgbr_mae_score = mae(y_test, hgbr_preds)"
      ],
      "execution_count": null,
      "outputs": []
    },
    {
      "cell_type": "markdown",
      "metadata": {
        "id": "n2d6_4Q1k-fF"
      },
      "source": [
        "# **Bar Plot**"
      ]
    },
    {
      "cell_type": "markdown",
      "metadata": {
        "id": "KVFbdj0alBUm"
      },
      "source": [
        "\r\n",
        "\r\n",
        "## **Mean Square Error**\r\n",
        "\r\n"
      ]
    },
    {
      "cell_type": "code",
      "metadata": {
        "colab": {
          "base_uri": "https://localhost:8080/",
          "height": 295
        },
        "id": "cTFTa-w_k-Je",
        "outputId": "24adf62a-6c8b-4b29-ab29-f77536e6f92f"
      },
      "source": [
        "# Mean Square Error\r\n",
        "\r\n",
        "import matplotlib.pyplot as plt \r\n",
        "\r\n",
        "estimators = ('OLSR','RR','PR','MLPR','KRR','RFR','HGBR')\r\n",
        "\r\n",
        "mse_score1 = (olsr_mse_score, rr_mse_score, pr_mse_score, mlpr_mse_score, krr_mse_score, rfr_mse_score,hgbr_mse_score)\r\n",
        "\r\n",
        "plt.bar(estimators , mse_score1, color=(0.6, 0.6, 0.6, 0.6),  edgecolor='black')\r\n",
        "\r\n",
        "plt.ylabel('MSE')\r\n",
        "\r\n",
        "plt.xlabel('Classifier')\r\n",
        "\r\n",
        "plt.title('Mean Square Error')\r\n",
        "\r\n",
        "plt.show()"
      ],
      "execution_count": null,
      "outputs": [
        {
          "output_type": "display_data",
          "data": {
            "image/png": "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\n",
            "text/plain": [
              "<Figure size 432x288 with 1 Axes>"
            ]
          },
          "metadata": {
            "tags": [],
            "needs_background": "light"
          }
        }
      ]
    },
    {
      "cell_type": "markdown",
      "metadata": {
        "id": "XbGVe5OOolXE"
      },
      "source": [
        "\r\n",
        "\r\n",
        "## **R² or Coefficient of Determination**\r\n",
        "\r\n"
      ]
    },
    {
      "cell_type": "code",
      "metadata": {
        "colab": {
          "base_uri": "https://localhost:8080/",
          "height": 295
        },
        "id": "aLR0S0woolE1",
        "outputId": "0f9a5f65-0b56-4b55-c587-a64bda5734fa"
      },
      "source": [
        "# R²\r\n",
        "\r\n",
        "import matplotlib.pyplot as plt \r\n",
        "\r\n",
        "estimators = ('OLSR','RR','PR','MLPR','KRR','RFR','HGBR')\r\n",
        "\r\n",
        "r2_score1 = (olsr_r2_score, rr_r2_score, pr_r2_score, mlpr_r2_score, krr_r2_score, rfr_r2_score,hgbr_r2_score)\r\n",
        "\r\n",
        "plt.bar(estimators, r2_score1,color=(0.6, 0.6, 0.6, 0.6),  edgecolor='grey')\r\n",
        "\r\n",
        "plt.ylabel('R²')\r\n",
        "\r\n",
        "plt.xlabel('Estimators')\r\n",
        "\r\n",
        "plt.title('R² or Coefficient of Determination')\r\n",
        "\r\n",
        "plt.show()"
      ],
      "execution_count": null,
      "outputs": [
        {
          "output_type": "display_data",
          "data": {
            "image/png": "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\n",
            "text/plain": [
              "<Figure size 432x288 with 1 Axes>"
            ]
          },
          "metadata": {
            "tags": [],
            "needs_background": "light"
          }
        }
      ]
    },
    {
      "cell_type": "markdown",
      "metadata": {
        "id": "xjHp_8TXnZP8"
      },
      "source": [
        "\r\n",
        "\r\n",
        "## **Median Absolute Error**\r\n",
        "\r\n"
      ]
    },
    {
      "cell_type": "code",
      "metadata": {
        "colab": {
          "base_uri": "https://localhost:8080/",
          "height": 295
        },
        "id": "iTmCf7FnnYwE",
        "outputId": "7e2a54c2-2539-4bc1-b0db-d83ec99fa971"
      },
      "source": [
        "# Median Absolut Error\r\n",
        "\r\n",
        "import matplotlib.pyplot as plt \r\n",
        "\r\n",
        "estimators = ('OLSR','RR','PR','MLPR','KRR','RFR','HGBR')\r\n",
        "\r\n",
        "mae_score1 = (olsr_mae_score, rr_mae_score, pr_mae_score, mlpr_mae_score, krr_mae_score, rfr_mae_score,hgbr_mae_score)\r\n",
        "\r\n",
        "plt.bar(estimators, mae_score1,color=(0.6, 0.6, 0.6, 0.6),  edgecolor='purple')\r\n",
        "\r\n",
        "plt.ylabel('MAE')\r\n",
        "\r\n",
        "plt.xlabel('Estimators')\r\n",
        "\r\n",
        "plt.title('Median Absolute Error')\r\n",
        "\r\n",
        "plt.show()"
      ],
      "execution_count": null,
      "outputs": [
        {
          "output_type": "display_data",
          "data": {
            "image/png": "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\n",
            "text/plain": [
              "<Figure size 432x288 with 1 Axes>"
            ]
          },
          "metadata": {
            "tags": [],
            "needs_background": "light"
          }
        }
      ]
    },
    {
      "cell_type": "markdown",
      "metadata": {
        "id": "m0G7Hc_tsNGD"
      },
      "source": [
        "# **Data Preprocessing**"
      ]
    },
    {
      "cell_type": "markdown",
      "metadata": {
        "id": "Id73tsCcaWcY"
      },
      "source": [
        "We will then do some pre-processing of the data to improve the performance of the classifiers.\n",
        "\n",
        "\n",
        "*   Initially, as mentioned above, there are no missing values and categorical values.\n",
        "*   A very important parameter for the performance of the classifiers is the dimensionality of the data, especially in relation to the available number of samples. As the dimensionality increases, the available data becomes sparse. However, in the compact dataset since it consists of relatively few features, there is no need to apply PCA.\n",
        "* Features with very large differences in their absolute values ​​can cause problems in education and give classifiers with non-optimal performance. Standard score conversion is necessary for many classifiers to behave properly. It is also more resistant than the min-max to outliers, ie sporadic values ​​that are far from the average value and the rest of the feature values ​​(the min-max will compress most values ​​in a short time).\n",
        "\n",
        "\n"
      ]
    },
    {
      "cell_type": "markdown",
      "metadata": {
        "id": "OEazeFz0sgrS"
      },
      "source": [
        "\r\n",
        "\r\n",
        "## **Standard Scaler**\r\n",
        "\r\n"
      ]
    },
    {
      "cell_type": "code",
      "metadata": {
        "id": "6wFVWRWosqsS"
      },
      "source": [
        "from sklearn import preprocessing\r\n",
        "\r\n",
        "x_train_scaled = preprocessing.scale(x_train)\r\n",
        "\r\n",
        "scaler = preprocessing.StandardScaler().fit(x_train)\r\n",
        "\r\n",
        "x_test_scaled = scaler.transform(x_test)"
      ],
      "execution_count": null,
      "outputs": []
    },
    {
      "cell_type": "markdown",
      "metadata": {
        "id": "HI0kPatTMzKf"
      },
      "source": [
        "\r\n",
        "\r\n",
        "# **Estimator Optimization**\r\n",
        "\r\n",
        "Below we will mention the selection of hyperparameters for each of our models. The selection of each hyperparameter for each model was made after a study of its \"offer\" in our model.\r\n",
        "\r\n"
      ]
    },
    {
      "cell_type": "code",
      "metadata": {
        "id": "-eB014U9VrF6"
      },
      "source": [
        "from sklearn.metrics import mean_squared_error as mse\r\n",
        "from sklearn.metrics import r2_score as r2\r\n",
        "from sklearn.metrics import median_absolute_error as mae"
      ],
      "execution_count": null,
      "outputs": []
    },
    {
      "cell_type": "markdown",
      "metadata": {
        "id": "RfcrCG8jYvhU"
      },
      "source": [
        "\r\n",
        "\r\n",
        "## **Ordinary Least Squares Regressor**\r\n",
        "\r\n",
        "We know that OLSR as a linear model has no hyperparameters. However, with the procedures we did in the pre processing, it makes sense to run the process again\r\n"
      ]
    },
    {
      "cell_type": "code",
      "metadata": {
        "id": "aqiHME_4UAh5"
      },
      "source": [
        "from sklearn import linear_model\r\n",
        "\r\n",
        "olsr = linear_model.LinearRegression()\r\n",
        "\r\n",
        "start_time = time.time()\r\n",
        "\r\n",
        "olsr = olsr.fit(x_train_scaled,y_train)\r\n",
        "\r\n",
        "times_train_aft['olsr_scaled'] = time.time() - start_time\r\n",
        "\r\n",
        "start_time = time.time()\r\n",
        "\r\n",
        "pred_olsr = olsr.predict(x_test_scaled)\r\n",
        "\r\n",
        "times_test_aft['olsr_scaled'] = time.time() - start_time\r\n",
        "\r\n",
        "olsr_mse = mse(y_test, pred_olsr)\r\n",
        "\r\n",
        "olsr_r2= r2(y_test, pred_olsr)\r\n",
        "\r\n",
        "olsr_mae = mae(y_test, pred_olsr)"
      ],
      "execution_count": null,
      "outputs": []
    },
    {
      "cell_type": "code",
      "metadata": {
        "id": "GNVXhso0EJsG",
        "colab": {
          "base_uri": "https://localhost:8080/"
        },
        "outputId": "fd49cb9b-10ee-45f2-a585-7d45a73adad8"
      },
      "source": [
        "print('Before:',olsr_mse_score,'After:',olsr_mse)\r\n",
        "\r\n",
        "print('Before:',olsr_r2_score,'After:',olsr_r2)\r\n",
        "\r\n",
        "print('Before:',olsr_mae_score,'After:',olsr_mae)"
      ],
      "execution_count": null,
      "outputs": [
        {
          "output_type": "stream",
          "text": [
            "Before: 94.88257928271022 After: 94.88257928271025\n",
            "Before: 0.6549520846785313 After: 0.654952084678531\n",
            "Before: 5.895931353635575 After: 5.895931353635559\n"
          ],
          "name": "stdout"
        }
      ]
    },
    {
      "cell_type": "markdown",
      "metadata": {
        "id": "4UxxZNUW89PR"
      },
      "source": [
        "## **Ridge Regressor**\n",
        "\n",
        "Selection of hyperparameters: \n",
        "* **alpha** :Regularization improves the conditioning of the problem and reduces the variance of the estimates. Larger values specify stronger regularization\n",
        "* **solver**: Solver to use in the computational routines. Contains: auto, svd, cholesky, sparse_cg, sag and lsqr\n"
      ]
    },
    {
      "cell_type": "markdown",
      "metadata": {
        "id": "ji5N18ap-CgV"
      },
      "source": [
        "Scoring **Mean Squared Error**\n",
        "\n",
        "* For the hyperparameter alpha we initially chose a wide range of values ​​from 0.01 to 10. We noticed that the optimal value is in the range 3 to 5 so we chose the following values ​​for this parameter.\n",
        "* Regarding the hyperparameter solver, we have chosen all the possible options."
      ]
    },
    {
      "cell_type": "code",
      "metadata": {
        "colab": {
          "base_uri": "https://localhost:8080/"
        },
        "id": "p8xcfggb8-Kd",
        "outputId": "92cfcb00-2f63-4340-829b-d0a45ad724a2"
      },
      "source": [
        "parameters_rr = { 'solver': ['auto', 'svd','cholesky','sparse_cg','sag','lsqr'],\r\n",
        "                  'alpha': [3.7,3.8,3.9,4,4.1,4.2,4.3,4.4,4.5,4.7,5,5.1,5.2,5.3,5.6,6]\r\n",
        "                }\r\n",
        "\r\n",
        "rr_mse_ = GridSearchCV(estimator=rr, param_grid = parameters_rr, cv = 10, scoring='neg_mean_squared_error', n_jobs=-1)\r\n",
        "\r\n",
        "rr_mse_.fit(x_train_scaled, y_train)\r\n",
        "\r\n",
        "rr_mse_.best_params_"
      ],
      "execution_count": null,
      "outputs": [
        {
          "output_type": "execute_result",
          "data": {
            "text/plain": [
              "{'alpha': 5.2, 'solver': 'lsqr'}"
            ]
          },
          "metadata": {
            "tags": []
          },
          "execution_count": 98
        }
      ]
    },
    {
      "cell_type": "code",
      "metadata": {
        "id": "jGGqlsvP_nWB"
      },
      "source": [
        "rr_mse_ = Ridge(solver='sag',alpha=5.2)\r\n",
        "\r\n",
        "start_time = time.time()\r\n",
        "\r\n",
        "rr_mse_.fit(x_train_scaled, y_train)\r\n",
        "\r\n",
        "times_train_aft['rr_mse'] = time.time() - start_time\r\n",
        "\r\n",
        "start_time = time.time()\r\n",
        "\r\n",
        "pred_rr_mse = rr_mse_.predict(x_test_scaled)\r\n",
        "\r\n",
        "times_test_aft['rr_mse'] = time.time() - start_time\r\n",
        "\r\n",
        "rr_mse = mse(y_test,pred_rr_mse)"
      ],
      "execution_count": null,
      "outputs": []
    },
    {
      "cell_type": "code",
      "metadata": {
        "id": "meZTWeLtEQ33",
        "colab": {
          "base_uri": "https://localhost:8080/"
        },
        "outputId": "03f325d8-c13c-4cbe-8a18-7fd1a0609af0"
      },
      "source": [
        "print('Before:',rr_mse_score,'After:',rr_mse)"
      ],
      "execution_count": null,
      "outputs": [
        {
          "output_type": "stream",
          "text": [
            "Before: 126.61797133798936 After: 96.08110122466788\n"
          ],
          "name": "stdout"
        }
      ]
    },
    {
      "cell_type": "markdown",
      "metadata": {
        "id": "rfuWPjVQCHFu"
      },
      "source": [
        "Scoring **R² or Coefficient of Determination**\n",
        "  \n",
        "* For the alpha hyperparameter we initially chose a wide range of values ​​from 0.01 to 40. We noticed that the optimal value is in the range 13 to 15 so we chose the following values ​​for this parameter.\n",
        "* Regarding the hyperparameter solver, we have chosen all the possible options.\n"
      ]
    },
    {
      "cell_type": "code",
      "metadata": {
        "colab": {
          "base_uri": "https://localhost:8080/"
        },
        "id": "vOXZPHmmCIdE",
        "outputId": "c6b9170a-d185-4c37-bc22-901e7391ee0f"
      },
      "source": [
        "parameters_rr = { 'solver': ['auto', 'svd','cholesky','sparse_cg','sag','lsqr'],\r\n",
        "                  'alpha':[25,26,27,28,29,30,33,35,36,37,38,39]\r\n",
        "                }\r\n",
        "\r\n",
        "rr_r2_ = GridSearchCV(estimator=rr, param_grid = parameters_rr, cv = 10, scoring='r2', n_jobs=-1)\r\n",
        "\r\n",
        "rr_r2_.fit(x_train_scaled, y_train)\r\n",
        "\r\n",
        "rr_r2_.best_params_"
      ],
      "execution_count": null,
      "outputs": [
        {
          "output_type": "execute_result",
          "data": {
            "text/plain": [
              "{'alpha': 37, 'solver': 'lsqr'}"
            ]
          },
          "metadata": {
            "tags": []
          },
          "execution_count": 104
        }
      ]
    },
    {
      "cell_type": "code",
      "metadata": {
        "id": "5TlgqGqtCWc7"
      },
      "source": [
        "rr_r2_ = Ridge(solver='lsqr',alpha=37)\r\n",
        "\r\n",
        "start_time = time.time()\r\n",
        "\r\n",
        "rr_r2_.fit(x_train_scaled, y_train)\r\n",
        "\r\n",
        "times_train_aft['rr_r2'] = time.time() - start_time\r\n",
        "\r\n",
        "start_time = time.time()\r\n",
        "\r\n",
        "pred_rr_r2 = rr_r2_.predict(x_test_scaled)\r\n",
        "\r\n",
        "times_test_aft['rr_r2'] = time.time() - start_time\r\n",
        "\r\n",
        "rr_r2 = r2(y_test,pred_rr_r2)"
      ],
      "execution_count": null,
      "outputs": []
    },
    {
      "cell_type": "code",
      "metadata": {
        "id": "TGovaK-kEVPs",
        "colab": {
          "base_uri": "https://localhost:8080/"
        },
        "outputId": "d4e62579-f80d-43ac-8873-31860609c6ad"
      },
      "source": [
        "print('Before:',rr_r2_score,'After:',rr_r2)"
      ],
      "execution_count": null,
      "outputs": [
        {
          "output_type": "stream",
          "text": [
            "Before: 0.5395438511190653 After: 0.6172430343397566\n"
          ],
          "name": "stdout"
        }
      ]
    },
    {
      "cell_type": "markdown",
      "metadata": {
        "id": "Nqe_mHMgCrZC"
      },
      "source": [
        "Scoring **Median Absolute Error**\r\n",
        "\r\n",
        "* For the alpha hyperparameter we initially chose a wide range of values ​​from 0.01 to 150. We noticed that the optimal value is in the range 100 to 120 so we chose the following values ​​for this parameter.\r\n",
        "* Regarding the hyperparameter solver, we have chosen all the possible options.\r\n",
        "\r\n",
        "\r\n",
        "\r\n"
      ]
    },
    {
      "cell_type": "code",
      "metadata": {
        "colab": {
          "base_uri": "https://localhost:8080/"
        },
        "id": "J9J20Zt2Cztu",
        "outputId": "0f748b6d-89b4-4fac-c6cd-eda963106987"
      },
      "source": [
        "parameters_rr = { 'solver': ['auto', 'svd','cholesky','sparse_cg','sag','lsqr'],\r\n",
        "                  'alpha': [83,85,87,89,90,91,93,94,95,96,97,99,100,101,102]\r\n",
        "                }\r\n",
        "\r\n",
        "rr_mae_ = GridSearchCV(estimator=rr, param_grid = parameters_rr, cv = 10, scoring='neg_median_absolute_error', n_jobs=-1)\r\n",
        "\r\n",
        "rr_mae_.fit(x_train_scaled, y_train)\r\n",
        "\r\n",
        "rr_mae_.best_params_"
      ],
      "execution_count": null,
      "outputs": [
        {
          "output_type": "execute_result",
          "data": {
            "text/plain": [
              "{'alpha': 95, 'solver': 'auto'}"
            ]
          },
          "metadata": {
            "tags": []
          },
          "execution_count": 117
        }
      ]
    },
    {
      "cell_type": "code",
      "metadata": {
        "id": "SmimOvn9C-wo"
      },
      "source": [
        "rr_mae_ = Ridge(solver='auto',alpha=95)\r\n",
        "\r\n",
        "start_time = time.time()\r\n",
        "\r\n",
        "rr_mae_.fit(x_train_scaled, y_train)\r\n",
        "\r\n",
        "times_train_aft['rr_mae'] = time.time() - start_time\r\n",
        "\r\n",
        "start_time = time.time()\r\n",
        "\r\n",
        "pred_rr_mae = rr_mae_.predict(x_test_scaled)\r\n",
        "\r\n",
        "times_test_aft['rr_mae'] = time.time() - start_time\r\n",
        "\r\n",
        "rr_mae = mae(y_test,pred_rr_mae)"
      ],
      "execution_count": null,
      "outputs": []
    },
    {
      "cell_type": "code",
      "metadata": {
        "id": "SIf7z_loEZkT",
        "colab": {
          "base_uri": "https://localhost:8080/"
        },
        "outputId": "6bb65ecc-6177-40a5-8be2-110a9511033f"
      },
      "source": [
        "print('Before:',rr_mae_score,'After:',rr_mae)"
      ],
      "execution_count": null,
      "outputs": [
        {
          "output_type": "stream",
          "text": [
            "Before: 4.855861167952874 After: 4.76768140592832\n"
          ],
          "name": "stdout"
        }
      ]
    },
    {
      "cell_type": "markdown",
      "metadata": {
        "id": "_s-8w0zdXQ62"
      },
      "source": [
        "## **Polynomial Regressor**"
      ]
    },
    {
      "cell_type": "markdown",
      "metadata": {
        "id": "os3AxUjMXQ62"
      },
      "source": [
        "Selection of hyperparameters: \n",
        "* **alpha** :Regularization improves the conditioning of the problem and reduces the variance of the estimates. Larger values specify stronger regularization\n",
        "* **solver**: Solver to use in the computational routines. Contains: auto, svd, cholesky, sparse_cg, sag and lsqr"
      ]
    },
    {
      "cell_type": "markdown",
      "metadata": {
        "id": "3q_GXyEUXQ62"
      },
      "source": [
        "Scoring **Mean Squared Error**\n",
        "\n",
        "* For the hyperparameter alpha we initially chose a wide range of values ​​from 0.01 to 10. We noticed that the optimal value is in the range 3 to 5 so we chose the following values ​​for this parameter.\n",
        "* Regarding the hyperparameter solver, we have chosen all the possible options."
      ]
    },
    {
      "cell_type": "code",
      "metadata": {
        "colab": {
          "base_uri": "https://localhost:8080/"
        },
        "id": "0rKt6adzudEm",
        "outputId": "7145ec69-1036-436e-8748-380fb8de18b2"
      },
      "source": [
        "Train_acc = []\r\n",
        "Test_acc = []\r\n",
        "Train_mse = []\r\n",
        "Test_mse = []\r\n",
        "\r\n",
        "for i in range(10):\r\n",
        "  pr = PolynomialFeatures(degree=(i+1))\r\n",
        "\r\n",
        "  x_train_p = pr.fit_transform(x_train_scaled)\r\n",
        "  x_test_p = pr.fit_transform(x_test_scaled)\r\n",
        "\r\n",
        "  lr = LinearRegression()\r\n",
        "  lr.fit(x_train_p, y_train)\r\n",
        "  \r\n",
        "  Train_acc.append(lr.score(x_train_p, y_train))\r\n",
        "  Test_acc.append(lr.score(x_test_p, y_test))\r\n",
        "\r\n",
        "  Train_mse.append(mse(y_train, lr.predict(x_train_p)))\r\n",
        "  Test_mse.append(mse(y_test, lr.predict(x_test_p)))\r\n",
        "\r\n",
        "\r\n",
        "Test_min_degree = Test_mse.index(min(Test_mse)) + 1\r\n",
        "Train_min_degree = Train_mse.index(min(Train_mse)) + 1\r\n",
        "\r\n",
        "print('Best degree:', Test_min_degree)"
      ],
      "execution_count": null,
      "outputs": [
        {
          "output_type": "stream",
          "text": [
            "Best degree: 4\n"
          ],
          "name": "stdout"
        }
      ]
    },
    {
      "cell_type": "code",
      "metadata": {
        "id": "w89rcQi4XQ62"
      },
      "source": [
        "pr_mse_ = PolynomialFeatures(degree = 4)\n",
        "\n",
        "start_time = time.time()\n",
        "\n",
        "x_train_new = pr_mse_.fit_transform(x_train_scaled)\n",
        "\n",
        "times_train_aft['pr_mse'] = time.time() - start_time\n",
        "\n",
        "start_time = time.time()\n",
        "\n",
        "x_test_new = pr_mse_.fit_transform(x_test_scaled)\n",
        "\n",
        "times_test_aft['pr_mse'] = time.time() - start_time\n",
        "\n",
        "# linear regression for the prediction\n",
        "\n",
        "lre = LinearRegression()\n",
        "\n",
        "lre.fit(x_train_new, y_train)\n",
        "\n",
        "pr_preds_mse = lre.predict(x_test_new)\n",
        "\n",
        "pr_mse = mse(y_test, pr_preds_mse)"
      ],
      "execution_count": null,
      "outputs": []
    },
    {
      "cell_type": "code",
      "metadata": {
        "id": "jouT7FNiXQ63",
        "colab": {
          "base_uri": "https://localhost:8080/"
        },
        "outputId": "eaeb354a-cdaf-4f39-abb8-ffe6eba5f30c"
      },
      "source": [
        "print('Before:',pr_mse_score,'After:',pr_mse)"
      ],
      "execution_count": null,
      "outputs": [
        {
          "output_type": "stream",
          "text": [
            "Before: 22.360571260586905 After: 0.5714206307953481\n"
          ],
          "name": "stdout"
        }
      ]
    },
    {
      "cell_type": "markdown",
      "metadata": {
        "id": "Lvq2_rRX-IsA"
      },
      "source": [
        "Scoring **R² or Coefficient of Determination**\r\n",
        "  \r\n",
        "* For the alpha hyperparameter we initially chose a wide range of values ​​from 0.01 to 40. We noticed that the optimal value is in the range 13 to 15 so we chose the following values ​​for this parameter.\r\n",
        "* Regarding the hyperparameter solver, we have chosen all the possible options."
      ]
    },
    {
      "cell_type": "code",
      "metadata": {
        "colab": {
          "base_uri": "https://localhost:8080/"
        },
        "id": "F3Kjj8l1-Ln2",
        "outputId": "35ff2f96-77ed-4da0-976c-5eb1d52c8491"
      },
      "source": [
        "Train_acc = []\r\n",
        "Test_acc = []\r\n",
        "Train_r2 = []\r\n",
        "Test_r2 = []\r\n",
        "\r\n",
        "for i in range(10):\r\n",
        "  pr = PolynomialFeatures(degree=(i+1))\r\n",
        "\r\n",
        "  x_train_p = pr.fit_transform(x_train_scaled)\r\n",
        "  x_test_p = pr.fit_transform(x_test_scaled)\r\n",
        "\r\n",
        "  lr = LinearRegression()\r\n",
        "  lr.fit(x_train_p, y_train)\r\n",
        "  \r\n",
        "  Train_acc.append(lr.score(x_train_p, y_train))\r\n",
        "  Test_acc.append(lr.score(x_test_p, y_test))\r\n",
        "\r\n",
        "  Train_r2.append(r2(y_train, lr.predict(x_train_p)))\r\n",
        "  Test_r2.append(r2(y_test, lr.predict(x_test_p)))\r\n",
        "\r\n",
        "\r\n",
        "Test_min_degree = Test_r2.index(max(Test_r2)) + 1\r\n",
        "Train_min_degree = Train_r2.index(max(Train_r2)) + 1\r\n",
        "\r\n",
        "print('Best degree:', Test_min_degree)"
      ],
      "execution_count": null,
      "outputs": [
        {
          "output_type": "stream",
          "text": [
            "Best degree: 4\n"
          ],
          "name": "stdout"
        }
      ]
    },
    {
      "cell_type": "code",
      "metadata": {
        "id": "LpYTvB0N-Lgn"
      },
      "source": [
        "pr_r2_ = PolynomialFeatures(degree = 4)\r\n",
        "\r\n",
        "start_time = time.time()\r\n",
        "\r\n",
        "x_train_new = pr_r2_.fit_transform(x_train_scaled)\r\n",
        "\r\n",
        "times_train_aft['pr_r2'] = time.time() - start_time\r\n",
        "\r\n",
        "start_time = time.time()\r\n",
        "\r\n",
        "x_test_new = pr_r2_.fit_transform(x_test_scaled)\r\n",
        "\r\n",
        "times_test_aft['pr_r2'] = time.time() - start_time\r\n",
        "\r\n",
        "# linear regression for the prediction\r\n",
        "\r\n",
        "lre = LinearRegression()\r\n",
        "\r\n",
        "lre.fit(x_train_new, y_train)\r\n",
        "\r\n",
        "pr_preds_r2 = lre.predict(x_test_new)\r\n",
        "\r\n",
        "pr_r2 = r2(y_test, pr_preds_r2)"
      ],
      "execution_count": null,
      "outputs": []
    },
    {
      "cell_type": "code",
      "metadata": {
        "colab": {
          "base_uri": "https://localhost:8080/"
        },
        "id": "MJgs1PXK-U2O",
        "outputId": "4d68b7b7-2b85-4d31-9fbf-b8937c728a0a"
      },
      "source": [
        "print('Before:',pr_r2_score,'After:',pr_r2)"
      ],
      "execution_count": null,
      "outputs": [
        {
          "output_type": "stream",
          "text": [
            "Before: 0.9186840349704891 After: 0.9979219842154571\n"
          ],
          "name": "stdout"
        }
      ]
    },
    {
      "cell_type": "markdown",
      "metadata": {
        "id": "y1dmV3RA-n-y"
      },
      "source": [
        "Scoring **Median Absolute Error**\r\n",
        "\r\n",
        "* For the alpha hyperparameter we initially chose a wide range of values ​​from 0.01 to 150. We noticed that the optimal value is in the range 100 to 120 so we chose the following values ​​for this parameter.\r\n",
        "* Regarding the hyperparameter solver, we have chosen all the possible options."
      ]
    },
    {
      "cell_type": "code",
      "metadata": {
        "colab": {
          "base_uri": "https://localhost:8080/"
        },
        "id": "2VvhcP2C-55b",
        "outputId": "51d3bde8-e3f6-4773-947b-6688b91d72b6"
      },
      "source": [
        "Train_acc = []\r\n",
        "Test_acc = []\r\n",
        "Train_mae = []\r\n",
        "Test_mae = []\r\n",
        "\r\n",
        "for i in range(10):\r\n",
        "  pr = PolynomialFeatures(degree=(i+1))\r\n",
        "\r\n",
        "  x_train_p = pr.fit_transform(x_train_scaled)\r\n",
        "  x_test_p = pr.fit_transform(x_test_scaled)\r\n",
        "\r\n",
        "  lr = LinearRegression()\r\n",
        "  lr.fit(x_train_p, y_train)\r\n",
        "  \r\n",
        "  Train_acc.append(lr.score(x_train_p, y_train))\r\n",
        "  Test_acc.append(lr.score(x_test_p, y_test))\r\n",
        "\r\n",
        "  Train_mae.append(mse(y_train, lr.predict(x_train_p)))\r\n",
        "  Test_mae.append(mse(y_test, lr.predict(x_test_p)))\r\n",
        "\r\n",
        "\r\n",
        "Test_min_degree = Test_mae.index(min(Test_mae)) + 1\r\n",
        "Train_min_degree = Train_mae.index(min(Train_mae)) + 1\r\n",
        "\r\n",
        "print('Best degree:', Test_min_degree)"
      ],
      "execution_count": null,
      "outputs": [
        {
          "output_type": "stream",
          "text": [
            "Best degree: 4\n"
          ],
          "name": "stdout"
        }
      ]
    },
    {
      "cell_type": "code",
      "metadata": {
        "id": "Az6VY88Y-nwn"
      },
      "source": [
        "pr_mae_ = PolynomialFeatures(degree = 4)\r\n",
        "\r\n",
        "start_time = time.time()\r\n",
        "\r\n",
        "x_train_new = pr_mae_.fit_transform(x_train_scaled)\r\n",
        "\r\n",
        "times_train_aft['pr_mae'] = time.time() - start_time\r\n",
        "\r\n",
        "start_time = time.time()\r\n",
        "\r\n",
        "x_test_new = pr_mae_.fit_transform(x_test_scaled)\r\n",
        "\r\n",
        "times_test_aft['pr_mae'] = time.time() - start_time\r\n",
        "\r\n",
        "# linear regression for the prediction\r\n",
        "\r\n",
        "lre = LinearRegression()\r\n",
        "\r\n",
        "lre.fit(x_train_new, y_train)\r\n",
        "\r\n",
        "pr_preds_mae = lre.predict(x_test_new)\r\n",
        "\r\n",
        "pr_mae = mae(y_test, pr_preds_mae)"
      ],
      "execution_count": null,
      "outputs": []
    },
    {
      "cell_type": "code",
      "metadata": {
        "colab": {
          "base_uri": "https://localhost:8080/"
        },
        "id": "gc9x-CmY-nmt",
        "outputId": "e1c0bb7c-0c01-4b89-b0ec-bdc589e764c1"
      },
      "source": [
        "print('Before:',pr_mae_score,'After:',pr_mae)"
      ],
      "execution_count": null,
      "outputs": [
        {
          "output_type": "stream",
          "text": [
            "Before: 3.2757812499999996 After: 0.351474609375\n"
          ],
          "name": "stdout"
        }
      ]
    },
    {
      "cell_type": "markdown",
      "metadata": {
        "id": "QkcPy7JdP5NI"
      },
      "source": [
        "\r\n",
        "\r\n",
        "## **MLP Regressor**\r\n",
        "\r\n",
        "Selection of hyperparameters:\r\n",
        "\r\n",
        "* **alpha**: L2 penalty (regularization term) parameter.\r\n",
        "* **learning_rate_init** :It controls the step-size in updating the weights. Only used when solver=’sgd’ or ‘adam’.\r\n",
        "* **hidden_layers_sizes**: Represents the number of neurons in the ith hidden layer.\r\n",
        "* **activation**: Activation function for the hidden layer. It contains: tanh and relu.\r\n",
        "\r\n",
        "\r\n",
        "\r\n",
        "\r\n"
      ]
    },
    {
      "cell_type": "markdown",
      "metadata": {
        "id": "Gz4RRF1CUYpX"
      },
      "source": [
        "Scoring **Mean Squared Error**\n",
        "\n",
        "* For the alpha hyperparameter we initially chose a wide range of values ​​from 0.0001 to 1. We noticed that the optimal value is 0.001\n",
        "* For the hidden layers size hyperparameter we initially chose a wide range of values ​​from 2 to 10. We noticed that the optimal value is in the range 2 to 5 so we chose the following values ​​for this parameter.\n",
        "* Regarding the hyperparameter activation, we chose tanh and relu\n",
        "* For the learning rate init hyperparameter we initially chose a wide range of values ​​from 0.001 to 1. We noticed that the optimal value is in the range 0.01 to 0.07 so we chose the following values ​​for this parameter."
      ]
    },
    {
      "cell_type": "code",
      "metadata": {
        "id": "NaS5s1POUYIt",
        "colab": {
          "base_uri": "https://localhost:8080/"
        },
        "outputId": "2aab94ad-1eea-4b88-8f01-7f0aa9967607"
      },
      "source": [
        "parameters_mlpr = {'learning_rate_init': [0.19,0.2,0.21,0.22,0.23,0.24,0.25,0.26,0.27],\r\n",
        "                  'activation'    : ['tanh', 'relu'],\r\n",
        "                  'hidden_layer_sizes' : [(28,),(29,),(30,),(31,),(32,),(33,),(34,),(35,),(36,),(37,)],\r\n",
        "                  'alpha': [0.001,0.01]}\r\n",
        "\r\n",
        "mlpr_mse_ = GridSearchCV(estimator=mlpr, param_grid = parameters_mlpr, cv = 10, scoring='neg_mean_squared_error', n_jobs=-1)\r\n",
        "\r\n",
        "mlpr_mse_.fit(x_train_scaled, y_train)\r\n",
        "\r\n",
        "mlpr_mse_.best_params_"
      ],
      "execution_count": null,
      "outputs": [
        {
          "output_type": "execute_result",
          "data": {
            "text/plain": [
              "{'activation': 'relu',\n",
              " 'alpha': 0.01,\n",
              " 'hidden_layer_sizes': (30,),\n",
              " 'learning_rate_init': 0.2}"
            ]
          },
          "metadata": {
            "tags": []
          },
          "execution_count": 149
        }
      ]
    },
    {
      "cell_type": "code",
      "metadata": {
        "id": "Taqdk09BVSib"
      },
      "source": [
        "mlpr_mse_ = MLPRegressor(hidden_layer_sizes=(30,),activation='relu',alpha=0.01,learning_rate_init=0.2)\r\n",
        "\r\n",
        "start_time = time.time()\r\n",
        "\r\n",
        "mlpr_mse_.fit(x_train_scaled, y_train)\r\n",
        "\r\n",
        "times_train_aft['mlpr_mse'] = time.time() - start_time\r\n",
        "\r\n",
        "start_time = time.time()\r\n",
        "\r\n",
        "pred_mlpr_mse = mlpr_mse_.predict(x_test_scaled)\r\n",
        "\r\n",
        "times_test_aft['mlpr_mse'] = time.time() - start_time\r\n",
        "\r\n",
        "mlpr_mse = mse(y_test,pred_mlpr_mse)"
      ],
      "execution_count": null,
      "outputs": []
    },
    {
      "cell_type": "code",
      "metadata": {
        "id": "Hi7TDdupEmPI",
        "colab": {
          "base_uri": "https://localhost:8080/"
        },
        "outputId": "2b79ccd0-52ba-4d48-d419-492cd8b488f4"
      },
      "source": [
        "print('Before:',mlpr_mse_score,'After:',mlpr_mse)"
      ],
      "execution_count": null,
      "outputs": [
        {
          "output_type": "stream",
          "text": [
            "Before: 281.4285904978375 After: 5.40882611843743\n"
          ],
          "name": "stdout"
        }
      ]
    },
    {
      "cell_type": "markdown",
      "metadata": {
        "id": "6A4S6ww3Q_Jl"
      },
      "source": [
        "Scoring **R² or Coefficient of Determination**\r\n",
        "\r\n",
        "* For the alpha hyperparameter we initially chose a wide range of values ​​from 0.0001 to 1. We noticed that the optimal value is 0.001\r\n",
        "* For the hidden layers size hyperparameter we initially chose a wide range of values ​​from 2 to 10. We noticed that the optimal value is in the range 2 to 5 so we chose the following values ​​for this parameter.\r\n",
        "* Regarding the hyperparameter activation, we chose tanh and relu\r\n",
        "* For the learning rate init hyperparameter we initially chose a wide range of values ​​from 0.001 to 1. We noticed that the optimal value is in the range 0.01 to 0.05 so we chose the following values ​​for this parameter.\r\n",
        "\r\n",
        "\r\n",
        "\r\n",
        "\r\n",
        "\r\n",
        "\r\n",
        "\r\n",
        "\r\n",
        "\r\n",
        "\r\n",
        "\r\n",
        "\r\n",
        "\r\n",
        "\r\n",
        "\r\n",
        "\r\n"
      ]
    },
    {
      "cell_type": "code",
      "metadata": {
        "id": "-vLjioKj2TA-",
        "colab": {
          "base_uri": "https://localhost:8080/"
        },
        "outputId": "b6cce2e7-f6e7-43f2-df4b-899e4d10f826"
      },
      "source": [
        "parameters_mlpr = {'learning_rate_init': [0.19,0.2,0.21,0.22,0.23,0.24,0.25,0.26,0.27],\r\n",
        "                  'activation'    : ['tanh', 'relu'],\r\n",
        "                  'hidden_layer_sizes' : [(13,),(14,),(15,),(16,),(17,),(18,),(19,),(20,)],\r\n",
        "                  'alpha': [0.001,0.01]\r\n",
        "                  }\r\n",
        "\r\n",
        "mlpr_r2_ = GridSearchCV(estimator=mlpr, param_grid = parameters_mlpr, cv = 10, scoring='r2', n_jobs=-1)\r\n",
        "\r\n",
        "mlpr_r2_.fit(x_train_scaled, y_train)\r\n",
        "\r\n",
        "mlpr_r2_.best_params_"
      ],
      "execution_count": null,
      "outputs": [
        {
          "output_type": "execute_result",
          "data": {
            "text/plain": [
              "{'activation': 'relu',\n",
              " 'alpha': 0.01,\n",
              " 'hidden_layer_sizes': (18,),\n",
              " 'learning_rate_init': 0.23}"
            ]
          },
          "metadata": {
            "tags": []
          },
          "execution_count": 171
        }
      ]
    },
    {
      "cell_type": "code",
      "metadata": {
        "id": "nA_mffEu4qI0"
      },
      "source": [
        "mlpr_r2_ = MLPRegressor(hidden_layer_sizes=(18,),activation='relu',alpha=0.01,learning_rate_init=0.23)\r\n",
        "\r\n",
        "start_time = time.time()\r\n",
        "\r\n",
        "mlpr_r2_.fit(x_train_scaled, y_train)\r\n",
        "\r\n",
        "times_train_aft['mlpr_r2'] = time.time() - start_time\r\n",
        "\r\n",
        "start_time = time.time()\r\n",
        "\r\n",
        "pred_mlpr_r2 = mlpr_r2_.predict(x_test_scaled)\r\n",
        "\r\n",
        "times_test_aft['mlpr_r2'] = time.time() - start_time\r\n",
        "\r\n",
        "mlpr_r2 = r2(y_test,pred_mlpr_r2)"
      ],
      "execution_count": null,
      "outputs": []
    },
    {
      "cell_type": "code",
      "metadata": {
        "id": "pf6vSIp_EqEI",
        "colab": {
          "base_uri": "https://localhost:8080/"
        },
        "outputId": "3ec598da-370f-498a-df23-d0bf32e2cbc3"
      },
      "source": [
        "print('Before:',mlpr_r2_score,'After:',mlpr_r2)"
      ],
      "execution_count": null,
      "outputs": [
        {
          "output_type": "stream",
          "text": [
            "Before: -0.02343706502541454 After: 0.9786242568000572\n"
          ],
          "name": "stdout"
        }
      ]
    },
    {
      "cell_type": "markdown",
      "metadata": {
        "id": "0Y076dlRXCP_"
      },
      "source": [
        "Scoring **Median Absolute Error**\n",
        "\n",
        "* For the alpha hyperparameter we initially chose a wide range of values ​​from 0.0001 to 1. We noticed that the optimal value is 0.001\n",
        "* For the hidden layers size hyperparameter we initially chose a wide range of values ​​from 2 to 10. We noticed that the optimal value is in the range 2 to 5 so we chose the following values ​​for this parameter.\n",
        "* Regarding the hyperparameter activation, we chose tanh and relu\n",
        "* For the learning rate init hyperparameter we initially chose a wide range of values ​​from 0.001 to 1. We noticed that the optimal value is in the range 0.01 to 0.05 so we chose the following values ​​for this parameter"
      ]
    },
    {
      "cell_type": "code",
      "metadata": {
        "id": "H494QngdXIcr",
        "colab": {
          "base_uri": "https://localhost:8080/"
        },
        "outputId": "ec00e566-5be0-4215-b52c-8aa539370a32"
      },
      "source": [
        "parameters_mlpr = {'learning_rate_init': [0.19,0.2,0.21,0.22,0.23,0.24,0.25,0.26,0.27],\r\n",
        "                  'activation'    : ['tanh', 'relu'],\r\n",
        "                  'hidden_layer_sizes' : [(25,),(26,),(27,),(28,),(29,),(30,),(31,),(32,),(33,)],\r\n",
        "                  'alpha': [0.001,0.01]\r\n",
        "                  }\r\n",
        "\r\n",
        "mlpr_mae_ = GridSearchCV(estimator=mlpr, param_grid = parameters_mlpr, cv = 10, scoring='neg_median_absolute_error', n_jobs=-1)\r\n",
        "\r\n",
        "mlpr_mae_.fit(x_train_scaled, y_train)\r\n",
        "\r\n",
        "mlpr_mae_.best_params_"
      ],
      "execution_count": null,
      "outputs": [
        {
          "output_type": "execute_result",
          "data": {
            "text/plain": [
              "{'activation': 'relu',\n",
              " 'alpha': 0.01,\n",
              " 'hidden_layer_sizes': (29,),\n",
              " 'learning_rate_init': 0.2}"
            ]
          },
          "metadata": {
            "tags": []
          },
          "execution_count": 220
        }
      ]
    },
    {
      "cell_type": "code",
      "metadata": {
        "id": "BuSt_hTiXLht"
      },
      "source": [
        "mlpr_mae_ = MLPRegressor(hidden_layer_sizes=(29,),activation='relu',alpha=0.01,learning_rate_init=0.2)\r\n",
        "\r\n",
        "start_time = time.time()\r\n",
        "\r\n",
        "mlpr_mae_.fit(x_train_scaled, y_train)\r\n",
        "\r\n",
        "times_train_aft['mlpr_mae'] = time.time() - start_time\r\n",
        "\r\n",
        "start_time = time.time()\r\n",
        "\r\n",
        "pred_mlpr_mae = mlpr_mae_.predict(x_test)\r\n",
        "\r\n",
        "times_test_aft['mlpr_mae'] = time.time() - start_time\r\n",
        "\r\n",
        "mlpr_mae = mae(y_test,pred_mlpr_mae)"
      ],
      "execution_count": null,
      "outputs": []
    },
    {
      "cell_type": "code",
      "metadata": {
        "id": "T2Z2otqWEs41",
        "colab": {
          "base_uri": "https://localhost:8080/"
        },
        "outputId": "6e90aae4-b341-42a8-d9fe-c0439f416db0"
      },
      "source": [
        "print('Before:',mlpr_mae_score,'After:',mlpr_mae)"
      ],
      "execution_count": null,
      "outputs": [
        {
          "output_type": "stream",
          "text": [
            "Before: 7.780190696590958 After: 5.030549725369931\n"
          ],
          "name": "stdout"
        }
      ]
    },
    {
      "cell_type": "markdown",
      "metadata": {
        "id": "wQbUyru8EvLQ"
      },
      "source": [
        "## **Kernel Ridge Regressor**\n",
        "\n",
        "Selection of hyperparameters: \n",
        "* **alpha** :Regularization improves the conditioning of the problem and reduces the variance of the estimates. Larger values specify stronger regularization\n",
        "* **kernel**: Kernel mapping used internally. Kernel contains: linear, polynomial due to the simplicity of the problem. \n",
        "* **gama**: Gamma parameter for the RBF, laplacian, polynomial, exponential chi2 and sigmoid kernels.\n",
        "* **degree**: Degree of the polynomial kernel."
      ]
    },
    {
      "cell_type": "markdown",
      "metadata": {
        "id": "zcxr--cFEyGK"
      },
      "source": [
        "Scoring **Mean Squared Error**\n",
        "* For the alpha hyperparameter we initially chose a wide range of values ​​from 0.001 to 1. We noticed that the optimal value is in the range 0.01 to 0.06 so we chose the following values ​​for this parameter.\n",
        "* For the degree hyperparameter we chose a wide range of values ​​from 1 to 6. We noticed that the optimal value is in the range 3 to 6 so we chose the following values ​​for this parameter.\n",
        "* Regarding the kernel hyperparameter we chose linear  and polynomial\n",
        "* For the gamma hyperparameter we chose a wide range of values ​​from 0.001 to 1. We noticed that the optimal value is in the range 0.1 to 1 so we chose the following values ​​for this parameter.\n"
      ]
    },
    {
      "cell_type": "code",
      "metadata": {
        "id": "AFxymhQEE1q7",
        "colab": {
          "base_uri": "https://localhost:8080/"
        },
        "outputId": "b59d7fb2-dbed-411e-c7ec-ec7d0c2c5df2"
      },
      "source": [
        "parameters_krr = {'alpha': [0.01,0.02,0.03,0.035,0.04,0.05,0.06,0.07,0.08,0.09],\r\n",
        "                   'degree': [3,4,5,6],\r\n",
        "                  'kernel': ['linear','polynomial'],\r\n",
        "                  'gamma': [0.1,0.15,0.20,0.25,0.30,0.35,0.4,0.50,1]\r\n",
        "                 }\r\n",
        "\r\n",
        "krr_mse_ = GridSearchCV(estimator=krr, param_grid = parameters_krr, cv = 10, scoring='neg_mean_squared_error', n_jobs=-1)\r\n",
        "\r\n",
        "krr_mse_.fit(x_train_scaled, y_train)\r\n",
        "\r\n",
        "krr_mse_.best_params_"
      ],
      "execution_count": null,
      "outputs": [
        {
          "output_type": "execute_result",
          "data": {
            "text/plain": [
              "{'alpha': 0.06, 'degree': 4, 'gamma': 0.3, 'kernel': 'polynomial'}"
            ]
          },
          "metadata": {
            "tags": []
          },
          "execution_count": 242
        }
      ]
    },
    {
      "cell_type": "code",
      "metadata": {
        "id": "DON5u8LqFNhJ"
      },
      "source": [
        "krr_mse_ = KernelRidge(alpha=0.06,degree=4,gamma=0.3,kernel='polynomial')\r\n",
        "\r\n",
        "start_time = time.time()\r\n",
        "\r\n",
        "krr_mse_.fit(x_train_scaled, y_train)\r\n",
        "\r\n",
        "times_train_aft['krr_mse'] = time.time() - start_time\r\n",
        "\r\n",
        "start_time = time.time()\r\n",
        "\r\n",
        "pred_krr_mse =krr_mse_.predict(x_test_scaled)\r\n",
        "\r\n",
        "times_test_aft['krr_mse'] = time.time() - start_time\r\n",
        "\r\n",
        "krr_mse = mse(y_test,pred_krr_mse)"
      ],
      "execution_count": null,
      "outputs": []
    },
    {
      "cell_type": "code",
      "metadata": {
        "id": "FepZdsz-EwHp",
        "colab": {
          "base_uri": "https://localhost:8080/"
        },
        "outputId": "4031064b-8487-4e49-d7fb-8ce9fb27e7cf"
      },
      "source": [
        "print('Before:',krr_mse_score,'After:',krr_mse)"
      ],
      "execution_count": null,
      "outputs": [
        {
          "output_type": "stream",
          "text": [
            "Before: 126.42629141320197 After: 0.5880472100803794\n"
          ],
          "name": "stdout"
        }
      ]
    },
    {
      "cell_type": "markdown",
      "metadata": {
        "id": "7SES7iHsGAmG"
      },
      "source": [
        "Scoring **R² or Coefficient of Determination**\r\n",
        "\r\n",
        "* For the alpha hyperparameter we initially chose a wide range of values ​​from 0.001 to 1. We noticed that the optimal value is in the range 0.01 to 0.06 so we chose the following values ​​for this parameter.\r\n",
        "* For the degree hyperparameter we chose a wide range of values ​​from 1 to 6. We noticed that the optimal value is in the range 3 to 6 so we chose the following values ​​for this parameter.\r\n",
        "* Regarding the kernel hyperparameter we chose linear and polynomial\r\n",
        "* For the gamma hyperparameter we chose a wide range of values ​​from 0.001 to 1. We noticed that the optimal value is in the range 0.1 to 1 so we chose the following values ​​for this parameter."
      ]
    },
    {
      "cell_type": "code",
      "metadata": {
        "id": "cX6OSAx7GCWP",
        "colab": {
          "base_uri": "https://localhost:8080/"
        },
        "outputId": "fbdfab9b-fa4b-4d45-f3d9-9c45b8468313"
      },
      "source": [
        "parameters_krr = {'alpha': [0.01,0.02,0.03,0.035,0.04,0.05,0.06,0.07,0.08],\r\n",
        "                   'degree': [3,4,5,6],\r\n",
        "                  'kernel': ['linear','polynomial'],\r\n",
        "                  'gamma': [0.1,0.15,0.20,0.25,0.30,0.4,0.5,1]\r\n",
        "\r\n",
        "                  }\r\n",
        "krr_r2_ = GridSearchCV(estimator=krr, param_grid = parameters_krr, cv = 10, scoring='r2', n_jobs=-1)\r\n",
        "\r\n",
        "krr_r2_.fit(x_train_scaled, y_train)\r\n",
        "\r\n",
        "krr_r2_.best_params_"
      ],
      "execution_count": null,
      "outputs": [
        {
          "output_type": "execute_result",
          "data": {
            "text/plain": [
              "{'alpha': 0.07, 'degree': 4, 'gamma': 0.3, 'kernel': 'polynomial'}"
            ]
          },
          "metadata": {
            "tags": []
          },
          "execution_count": 82
        }
      ]
    },
    {
      "cell_type": "code",
      "metadata": {
        "id": "dw0fjjMSGIH-"
      },
      "source": [
        "krr_r2_ = KernelRidge(alpha=0.07,degree=4,gamma=0.3,kernel='polynomial')\r\n",
        "\r\n",
        "start_time = time.time()\r\n",
        "\r\n",
        "krr_r2_.fit(x_train_scaled, y_train)\r\n",
        "\r\n",
        "times_train_aft['krr_r2'] = time.time() - start_time\r\n",
        "\r\n",
        "start_time = time.time()\r\n",
        "\r\n",
        "pred_krr_r2 =krr_r2_.predict(x_test_scaled)\r\n",
        "\r\n",
        "times_test_aft['krr_r2'] = time.time() - start_time\r\n",
        "\r\n",
        "krr_r2 = r2(y_test,pred_krr_r2)"
      ],
      "execution_count": null,
      "outputs": []
    },
    {
      "cell_type": "code",
      "metadata": {
        "id": "wqx6uZrTEzN6",
        "colab": {
          "base_uri": "https://localhost:8080/"
        },
        "outputId": "bb6799ca-06db-43fb-968e-cc3296d67886"
      },
      "source": [
        "print('Before:',krr_r2_score,'After:',krr_r2)"
      ],
      "execution_count": null,
      "outputs": [
        {
          "output_type": "stream",
          "text": [
            "Before: 0.5402409101467271 After: 0.9978235717457735\n"
          ],
          "name": "stdout"
        }
      ]
    },
    {
      "cell_type": "markdown",
      "metadata": {
        "id": "zp2CvTPpGaRw"
      },
      "source": [
        "Scoring **Median Absolute Error**\n",
        "\n",
        "* For the alpha hyperparameter we initially chose a wide range of values ​​from 0.001 to 1. We noticed that the optimal value is in the range 0.01 to 0.06 so we chose the following values ​​for this parameter.\n",
        "* For the degree hyperparameter we chose a wide range of values ​​from 1 to 10. We noticed that the optimal value is in the range 5 to 8 so we chose the following values ​​for this parameter.\n",
        "* Regarding the kernel hyperparameter we chose linear and polynomial\n",
        "* For the gamma hyperparameter we chose a wide range of values ​​from 0.001 to 1. We noticed that the optimal value is in the range 0.1 to 1 so we chose the following values ​​for this parameter.\n"
      ]
    },
    {
      "cell_type": "code",
      "metadata": {
        "id": "GSlaNuQgGbma",
        "colab": {
          "base_uri": "https://localhost:8080/"
        },
        "outputId": "ba79739b-702e-43b6-f85b-d8ea014fe48b"
      },
      "source": [
        "parameters_krr = {'alpha': [0.01,0.02,0.03,0.035,0.04,0.05,0.06,0.07,0.08],\r\n",
        "                   'degree': [4,5,6,7],\r\n",
        "                  'kernel': ['linear','polynomial'],\r\n",
        "                  'gamma': [0.1,0.15,0.20,0.25,0.3,0.4,0.5,0.6,0.7,0.8,1]\r\n",
        "\r\n",
        "                  }\r\n",
        "\r\n",
        "krr_mae_ = GridSearchCV(estimator=krr, param_grid = parameters_krr, cv = 10, scoring='neg_median_absolute_error', n_jobs=-1)\r\n",
        "\r\n",
        "krr_mae_.fit(x_train_scaled, y_train)\r\n",
        "\r\n",
        "krr_mae_.best_params_"
      ],
      "execution_count": null,
      "outputs": [
        {
          "output_type": "execute_result",
          "data": {
            "text/plain": [
              "{'alpha': 0.02, 'degree': 6, 'gamma': 0.4, 'kernel': 'polynomial'}"
            ]
          },
          "metadata": {
            "tags": []
          },
          "execution_count": 257
        }
      ]
    },
    {
      "cell_type": "code",
      "metadata": {
        "id": "0LlNtyXuGjlR"
      },
      "source": [
        "krr_mae_ = KernelRidge(alpha=0.02,degree=6,kernel='polynomial',gamma=0.4)\r\n",
        "\r\n",
        "start_time = time.time()\r\n",
        "\r\n",
        "krr_mae_.fit(x_train_scaled, y_train)\r\n",
        "\r\n",
        "times_train_aft['krr_mae'] = time.time() - start_time\r\n",
        "\r\n",
        "start_time = time.time()\r\n",
        "\r\n",
        "pred_krr_mae =krr_mae_.predict(x_test_scaled)\r\n",
        "\r\n",
        "times_test_aft['krr_mae'] = time.time() - start_time\r\n",
        "\r\n",
        "krr_mae = mae(y_test,pred_krr_mae)"
      ],
      "execution_count": null,
      "outputs": []
    },
    {
      "cell_type": "code",
      "metadata": {
        "id": "EQzZza6kE1YG",
        "colab": {
          "base_uri": "https://localhost:8080/"
        },
        "outputId": "2b959087-b88c-42b0-a7cd-f22fc47128f1"
      },
      "source": [
        "print('Before:',krr_mae_score,'After:',krr_mae)"
      ],
      "execution_count": null,
      "outputs": [
        {
          "output_type": "stream",
          "text": [
            "Before: 4.7124803266284605 After: 0.2415609330362733\n"
          ],
          "name": "stdout"
        }
      ]
    },
    {
      "cell_type": "markdown",
      "metadata": {
        "id": "8whNC9y6G5GL"
      },
      "source": [
        "## **Random Forest Regressor**\n",
        "\n",
        "* **max_features**: The number of features to consider when looking for the best split.It contains: auto, sqrt,log2\n",
        "* **criterion**: The function to measure the quality of a split. Supported criteria are “mse” for the mean squared error, which is equal to variance reduction as feature selection criterion, and “mae” for the mean absolute error.\n",
        "* **n_estimators**: The number of trees in the forest.\n",
        "\n"
      ]
    },
    {
      "cell_type": "markdown",
      "metadata": {
        "id": "uq7ZINJsG9Tn"
      },
      "source": [
        "Scoring **Mean Squared Error**\n",
        "\n",
        "* For the n_estimators hyperparameter we initially chose a wide range of values ​​from 5 to 300. We noticed that the optimal value is in the range 10 to 200 so we chose the following values ​​for this parameter.\n",
        "* For the max feautures hyperparameter we chose auto, sqrt, log2\n",
        "* For the criterion hyperparameter we chose mse"
      ]
    },
    {
      "cell_type": "code",
      "metadata": {
        "id": "26GcgpqnHFWA",
        "colab": {
          "base_uri": "https://localhost:8080/"
        },
        "outputId": "1fef5e4b-76be-48da-e0f7-011842ab7d76"
      },
      "source": [
        "parameters_rfr = {'max_features': ['auto','sqrt','log2'],\r\n",
        "                  'criterion' : ['mse'],\r\n",
        "                  'n_estimators': [140,150,160,167,168,169,170,171,172,173,210]\r\n",
        "                  }\r\n",
        "\r\n",
        "rfr_mse_ = GridSearchCV(estimator=rfr, param_grid = parameters_rfr, cv = 10, scoring='neg_mean_squared_error', n_jobs=-1)\r\n",
        "\r\n",
        "rfr_mse_.fit(x_train_scaled, y_train)\r\n",
        "\r\n",
        "rfr_mse_.best_params_"
      ],
      "execution_count": null,
      "outputs": [
        {
          "output_type": "execute_result",
          "data": {
            "text/plain": [
              "{'criterion': 'mse', 'max_features': 'auto', 'n_estimators': 168}"
            ]
          },
          "metadata": {
            "tags": []
          },
          "execution_count": 265
        }
      ]
    },
    {
      "cell_type": "code",
      "metadata": {
        "id": "hcf58EvjIIcq"
      },
      "source": [
        "rfr_mse_ = RandomForestRegressor(criterion='mse',max_features='auto',n_estimators=168)\r\n",
        "\r\n",
        "start_time = time.time()\r\n",
        "\r\n",
        "rfr_mse_.fit(x_train_scaled, y_train)\r\n",
        "\r\n",
        "times_train_aft['rfr_mse'] = time.time() - start_time\r\n",
        "\r\n",
        "start_time = time.time()\r\n",
        "\r\n",
        "pred_rfr_mse =rfr_mse_.predict(x_test_scaled)\r\n",
        "\r\n",
        "times_test_aft['rfr_mse'] = time.time() - start_time\r\n",
        "\r\n",
        "rfr_mse = mse(y_test,pred_rfr_mse)"
      ],
      "execution_count": null,
      "outputs": []
    },
    {
      "cell_type": "code",
      "metadata": {
        "id": "E4X6SMkXE4HD",
        "colab": {
          "base_uri": "https://localhost:8080/"
        },
        "outputId": "53223c8f-da25-44d9-c0ca-331e654b0e27"
      },
      "source": [
        "print('Before:',rfr_mse_score,'After:',rfr_mse)"
      ],
      "execution_count": null,
      "outputs": [
        {
          "output_type": "stream",
          "text": [
            "Before: 2.4235411445098216 After: 2.3911595550720377\n"
          ],
          "name": "stdout"
        }
      ]
    },
    {
      "cell_type": "markdown",
      "metadata": {
        "id": "bdvCEQskG-UW"
      },
      "source": [
        "Scoring **R² or Coefficient of Determination**\n",
        "\n",
        "* For the n_estimators hyperparameter we initially chose a wide range of values ​​from 5 to 300. We noticed that the optimal value is in the range 10 to 200 so we chose the following values ​​for this parameter.\n",
        "* For the max feautures hyperparameter we chose auto, sqrt, log2\n",
        "* For the criterion hyperparameter we chose mse, mae"
      ]
    },
    {
      "cell_type": "code",
      "metadata": {
        "id": "CaVA04McIN31",
        "colab": {
          "base_uri": "https://localhost:8080/"
        },
        "outputId": "99ae73fe-9411-4855-9046-95a8458187fc"
      },
      "source": [
        "parameters_rfr = {'max_features': ['auto','sqrt','log2'],\r\n",
        "                  'criterion' : ['mse','mae'],\r\n",
        "                  'n_estimators': [10,20,80,100,150,200]\r\n",
        "                  }\r\n",
        "\r\n",
        "rfr_r2_ = GridSearchCV(estimator=rfr, param_grid = parameters_rfr, cv = 10, scoring='r2', n_jobs=-1)\r\n",
        "\r\n",
        "rfr_r2_.fit(x_train_scaled, y_train)\r\n",
        "\r\n",
        "rfr_r2_.best_params_"
      ],
      "execution_count": null,
      "outputs": [
        {
          "output_type": "execute_result",
          "data": {
            "text/plain": [
              "{'criterion': 'mae', 'max_features': 'auto', 'n_estimators': 100}"
            ]
          },
          "metadata": {
            "tags": []
          },
          "execution_count": 59
        }
      ]
    },
    {
      "cell_type": "code",
      "metadata": {
        "id": "JFJEwBmJJkT6"
      },
      "source": [
        "rfr_r2_ = RandomForestRegressor(criterion='mae',max_features='auto',n_estimators=20)\r\n",
        "\r\n",
        "start_time = time.time()\r\n",
        "\r\n",
        "rfr_r2_.fit(x_train_scaled, y_train)\r\n",
        "\r\n",
        "times_train_aft['rfr_r2'] = time.time() - start_time\r\n",
        "\r\n",
        "start_time = time.time()\r\n",
        "\r\n",
        "pred_rfr_r2 =rfr_r2_.predict(x_test_scaled)\r\n",
        "\r\n",
        "times_test_aft['rfr_r2'] = time.time() - start_time\r\n",
        "\r\n",
        "rfr_r2 = r2(y_test,pred_rfr_r2)"
      ],
      "execution_count": null,
      "outputs": []
    },
    {
      "cell_type": "code",
      "metadata": {
        "id": "qYWXrU4JE7gS",
        "colab": {
          "base_uri": "https://localhost:8080/"
        },
        "outputId": "6db219de-c3e2-4508-8d1c-5f2a1c38a998"
      },
      "source": [
        "print('Before:',rfr_r2_score,'After:',rfr_r2)"
      ],
      "execution_count": null,
      "outputs": [
        {
          "output_type": "stream",
          "text": [
            "Before: 0.9911866032107192 After: 0.9911072634944813\n"
          ],
          "name": "stdout"
        }
      ]
    },
    {
      "cell_type": "markdown",
      "metadata": {
        "id": "OHVBw8YNHCqI"
      },
      "source": [
        "Scoring **Median Absolute Error**\n",
        "\n",
        "* For the n_estimators hyperparameter we initially chose a wide range of values ​​from 5 to 350. We noticed that the optimal value is in the range 150 to 350 so we chose the following values ​​for this parameter.\n",
        "* For the max feautures hyperparameter we chose auto, sqrt, log2\n",
        "* For the criterion hyperparameter we chose mae"
      ]
    },
    {
      "cell_type": "code",
      "metadata": {
        "id": "m38LU5CqJj45",
        "colab": {
          "base_uri": "https://localhost:8080/"
        },
        "outputId": "ea10d1c4-a12c-4f24-ecab-772a0ddbc165"
      },
      "source": [
        "parameters_rfr = {'max_features': ['auto','sqrt','log2'],\r\n",
        "                  'criterion' : ['mae'],\r\n",
        "                  'n_estimators': [150,170,200,300,350]\r\n",
        "                  }\r\n",
        "\r\n",
        "rfr_mae_ = GridSearchCV(estimator=rfr, param_grid = parameters_rfr, cv = 10, scoring='neg_median_absolute_error', n_jobs=-1)\r\n",
        "\r\n",
        "rfr_mae_.fit(x_train_scaled, y_train)\r\n",
        "\r\n",
        "rfr_mae_.best_params_"
      ],
      "execution_count": null,
      "outputs": [
        {
          "output_type": "execute_result",
          "data": {
            "text/plain": [
              "{'criterion': 'mae', 'max_features': 'auto', 'n_estimators': 300}"
            ]
          },
          "metadata": {
            "tags": []
          },
          "execution_count": 62
        }
      ]
    },
    {
      "cell_type": "code",
      "metadata": {
        "id": "rzq9yk2ZKtVF"
      },
      "source": [
        "rfr_mae_ = RandomForestRegressor(criterion='mae',max_features='auto',n_estimators=170)\r\n",
        "\r\n",
        "start_time = time.time()\r\n",
        "\r\n",
        "rfr_mae_.fit(x_train_scaled, y_train)\r\n",
        "\r\n",
        "times_train_aft['rfr_mae'] = time.time() - start_time\r\n",
        "\r\n",
        "start_time = time.time()\r\n",
        "\r\n",
        "pred_rfr_mae =rfr_mae_.predict(x_test_scaled)\r\n",
        "\r\n",
        "times_test_aft['rfr_mae'] = time.time() - start_time\r\n",
        "\r\n",
        "rfr_mae = mae(y_test,pred_rfr_mae)"
      ],
      "execution_count": null,
      "outputs": []
    },
    {
      "cell_type": "code",
      "metadata": {
        "id": "bfU_C2rzE_xx",
        "colab": {
          "base_uri": "https://localhost:8080/"
        },
        "outputId": "ec1e758e-398c-40f5-9a63-b2637bb7304e"
      },
      "source": [
        "print('Before:',rfr_mae_score,'After:',rfr_mae)"
      ],
      "execution_count": null,
      "outputs": [
        {
          "output_type": "stream",
          "text": [
            "Before: 0.21839999999999932 After: 0.23273529411765348\n"
          ],
          "name": "stdout"
        }
      ]
    },
    {
      "cell_type": "markdown",
      "metadata": {
        "id": "Nw_7V8SNLF4e"
      },
      "source": [
        "## **Hist Gradient Boosting Regressor**\r\n",
        "\r\n",
        "* **max_iter**: The maximum number of iterations of the boosting process, i.e. the maximum number of trees.\r\n",
        "* **scoring**: Scoring parameter to use for early stopping. It can be a single string or a callable. It contains: r2,loss,neg median absolute error, negative mean squared error.\r\n",
        "* **learning_rate**: This is used as a multiplicative factor for the leaves values.\r\n",
        "* **l2_regulatization**: The L2 regularization parameter. Use 0 for no regularization.\r\n",
        "\r\n",
        "\r\n"
      ]
    },
    {
      "cell_type": "markdown",
      "metadata": {
        "id": "KkiAV6zBLMDS"
      },
      "source": [
        "Scoring **Mean Squared Error**\n",
        "\n",
        "* For the max_iter hyperparameter we initially chose a wide range of values ​​from 50 to 500. We noticed that the optimal value is in the range 80 to 300 so we chose the following values ​​for this parameter.\n",
        "* For the max scoring hyperparameter we r2,loss, negative median absolute error, negative mean squared error\n",
        "* For the l2 regularization hyperparameter we  chose a range of values ​​from 0 to 1.\n",
        "* For the learning rate hyperparameter we initially chose a wide range of values ​​from 0.00001 to 2. We noticed that the optimal value is in the range 0.0001 to 1 so we chose the following values ​​for this parameter."
      ]
    },
    {
      "cell_type": "code",
      "metadata": {
        "id": "ImuwUSF3LPBj",
        "colab": {
          "base_uri": "https://localhost:8080/"
        },
        "outputId": "dff0a92a-9171-4a5c-f0d6-c28fdf56fe1f"
      },
      "source": [
        "parameters_hgbr = {'max_iter': [10,20,30,40,50,60],\r\n",
        "                  'scoring' : ['neg_mean_squared_error'],\r\n",
        "                  'learning_rate': [1,0.5,0.1,0.001,0.0001],\r\n",
        "                   'l2_regularization' : [1,0.5,0]\r\n",
        "                  }\r\n",
        "\r\n",
        "hgbr_mse_ = GridSearchCV(estimator=hgbr, param_grid = parameters_hgbr, cv = 10, scoring='neg_mean_squared_error', n_jobs=-1)\r\n",
        "\r\n",
        "hgbr_mse_.fit(x_train_scaled, y_train)\r\n",
        "\r\n",
        "hgbr_mse_.best_params_"
      ],
      "execution_count": null,
      "outputs": [
        {
          "output_type": "execute_result",
          "data": {
            "text/plain": [
              "{'l2_regularization': 1,\n",
              " 'learning_rate': 0.1,\n",
              " 'max_iter': 40,\n",
              " 'scoring': 'neg_mean_squared_error'}"
            ]
          },
          "metadata": {
            "tags": []
          },
          "execution_count": 65
        }
      ]
    },
    {
      "cell_type": "code",
      "metadata": {
        "id": "c4LbrAkALO1S"
      },
      "source": [
        "hgbr_mse_ = HistGradientBoostingRegressor(max_iter=30,l2_regularization=0,learning_rate=0.1,scoring='neg_mean_squared_error')\r\n",
        "\r\n",
        "start_time = time.time()\r\n",
        "\r\n",
        "hgbr_mse_.fit(x_train_scaled, y_train)\r\n",
        "\r\n",
        "times_train_aft['hgbr_mse'] = time.time() - start_time\r\n",
        "\r\n",
        "start_time = time.time()\r\n",
        "\r\n",
        "pred_hgbr_mse =hgbr_mse_.predict(x_test_scaled)\r\n",
        "\r\n",
        "times_test_aft['hgbr_mse'] = time.time() - start_time\r\n",
        "\r\n",
        "hgbr_mse = mse(y_test,pred_hgbr_mse)"
      ],
      "execution_count": null,
      "outputs": []
    },
    {
      "cell_type": "code",
      "metadata": {
        "id": "YlBWe_LfFC_0",
        "colab": {
          "base_uri": "https://localhost:8080/"
        },
        "outputId": "2b1ebc76-61dd-48f9-a7ed-d6f64e855648"
      },
      "source": [
        "print('Before:',hgbr_mse_score,'After:',hgbr_mse)"
      ],
      "execution_count": null,
      "outputs": [
        {
          "output_type": "stream",
          "text": [
            "Before: 20.17255684818316 After: 19.43934595536904\n"
          ],
          "name": "stdout"
        }
      ]
    },
    {
      "cell_type": "markdown",
      "metadata": {
        "id": "Jjy0CczCLLJ-"
      },
      "source": [
        "Scoring **R² or Coefficient of Determination**\n",
        "\n",
        "* For the max_iter hyperparameter we initially chose a wide range of values ​​from 50 to 500. We noticed that the optimal value is in the range 80 to 300 so we chose the following values ​​for this parameter.\n",
        "* For the max scoring hyperparameter we r2,loss, negative median absolute error, negative mean squared error\n",
        "* For the l2 regularization hyperparameter we  chose a range of values ​​from 0 to 1.\n",
        "* For the learning rate hyperparameter we initially chose a wide range of values ​​from 0.00001 to 2. We noticed that the optimal value is in the range 0.0001 to 1 so we chose the following values ​​for this parameter."
      ]
    },
    {
      "cell_type": "code",
      "metadata": {
        "id": "YoY-bDivLQRa",
        "colab": {
          "base_uri": "https://localhost:8080/"
        },
        "outputId": "285a166f-d6eb-4880-94a6-4cc43c56af4e"
      },
      "source": [
        "parameters_hgbr = {'max_iter': [100,200,300],\r\n",
        "                  'scoring' : ['r2'],\r\n",
        "                  'learning_rate': [1,0.5,0.1,0.001,0.0001],\r\n",
        "                   'l2_regularization' : [1,0.5,0]\r\n",
        "                  }\r\n",
        "\r\n",
        "hgbr_r2_ = GridSearchCV(estimator=hgbr, param_grid = parameters_hgbr, cv = 10, scoring='r2', n_jobs=-1)\r\n",
        "\r\n",
        "hgbr_r2_.fit(x_train_scaled, y_train)\r\n",
        "\r\n",
        "hgbr_r2_.best_params_"
      ],
      "execution_count": null,
      "outputs": [
        {
          "output_type": "execute_result",
          "data": {
            "text/plain": [
              "{'l2_regularization': 1,\n",
              " 'learning_rate': 0.1,\n",
              " 'max_iter': 100,\n",
              " 'scoring': 'r2'}"
            ]
          },
          "metadata": {
            "tags": []
          },
          "execution_count": 68
        }
      ]
    },
    {
      "cell_type": "code",
      "metadata": {
        "id": "MFYvtHPVLQHc"
      },
      "source": [
        "hgbr_r2_ = HistGradientBoostingRegressor(max_iter=100,l2_regularization=1,learning_rate=0.1,scoring='r2')\r\n",
        "\r\n",
        "start_time = time.time()\r\n",
        "\r\n",
        "hgbr_r2_.fit(x_train_scaled, y_train)\r\n",
        "\r\n",
        "times_train_aft['hgbr_r2'] = time.time() - start_time\r\n",
        "\r\n",
        "start_time = time.time()\r\n",
        "\r\n",
        "pred_hgbr_r2 =hgbr_r2_.predict(x_test_scaled)\r\n",
        "\r\n",
        "times_test_aft['hgbr_r2'] = time.time() - start_time\r\n",
        "\r\n",
        "hgbr_r2 = r2(y_test,pred_hgbr_r2)"
      ],
      "execution_count": null,
      "outputs": []
    },
    {
      "cell_type": "code",
      "metadata": {
        "id": "SDcfPkUdFKdE",
        "colab": {
          "base_uri": "https://localhost:8080/"
        },
        "outputId": "16493c3f-e7b6-43f0-badc-7a5d9197281f"
      },
      "source": [
        "print('Before:',hgbr_r2_score,'After:',hgbr_r2)"
      ],
      "execution_count": null,
      "outputs": [
        {
          "output_type": "stream",
          "text": [
            "Before: 0.9266409203903484 After: 0.9278544139624503\n"
          ],
          "name": "stdout"
        }
      ]
    },
    {
      "cell_type": "markdown",
      "metadata": {
        "id": "ttcnz8DCLHvm"
      },
      "source": [
        "Scoring **Median Absolute Error**\n",
        "\n",
        "* For the max_iter hyperparameter we initially chose a wide range of values ​​from 50 to 500. We noticed that the optimal value is in the range 80 to 300 so we chose the following values ​​for this parameter.\n",
        "* For the max scoring hyperparameter we r2,loss, negative median absolute error, negative mean squared error\n",
        "* For the l2 regularization hyperparameter we  chose a range of values ​​from 0 to 1.\n",
        "* For the learning rate hyperparameter we initially chose a wide range of values ​​from 0.00001 to 2. We noticed that the optimal value is in the range 0.0001 to 1 so we chose the following values ​​for this parameter."
      ]
    },
    {
      "cell_type": "code",
      "metadata": {
        "id": "_U_secG7LQ1n",
        "colab": {
          "base_uri": "https://localhost:8080/"
        },
        "outputId": "9a5b2d98-94f1-482a-ffee-27d1ce6c5e6b"
      },
      "source": [
        "parameters_hgbr = {'max_iter': [50,56,57,58,59,60,61,100],\r\n",
        "                  'scoring' : ['least_squares','neg_median_absolute_error'],\r\n",
        "                  'learning_rate': [0.06,0.07,0.08,0.1,0.13,0.15],\r\n",
        "                   'l2_regularization' : [1,0.5,0]\r\n",
        "                  }\r\n",
        "\r\n",
        "hgbr_mae_ = GridSearchCV(estimator=hgbr, param_grid = parameters_hgbr, cv = 10, scoring='neg_mean_squared_error', n_jobs=-1)\r\n",
        "\r\n",
        "hgbr_mae_.fit(x_train_scaled, y_train)\r\n",
        "\r\n",
        "hgbr_mae_.best_params_"
      ],
      "execution_count": null,
      "outputs": [
        {
          "output_type": "execute_result",
          "data": {
            "text/plain": [
              "{'l2_regularization': 1,\n",
              " 'learning_rate': 0.07,\n",
              " 'max_iter': 50,\n",
              " 'scoring': 'least_squares'}"
            ]
          },
          "metadata": {
            "tags": []
          },
          "execution_count": 71
        }
      ]
    },
    {
      "cell_type": "code",
      "metadata": {
        "id": "N4yXdwnnLQsK"
      },
      "source": [
        "hgbr_mae_ = HistGradientBoostingRegressor(max_iter=100,l2_regularization=0,learning_rate=0.15,scoring='least_squares')\r\n",
        "\r\n",
        "start_time = time.time()\r\n",
        "\r\n",
        "hgbr_mae_.fit(x_train_scaled, y_train)\r\n",
        "\r\n",
        "times_train_aft['hgbr_mae'] = time.time() - start_time\r\n",
        "\r\n",
        "start_time = time.time()\r\n",
        "\r\n",
        "pred_hgbr_mae = hgbr_mae_.predict(x_test_scaled)\r\n",
        "\r\n",
        "times_test_aft['hgbr_mae'] = time.time() - start_time\r\n",
        "\r\n",
        "hgbr_mae = mae(y_test,pred_hgbr_mae)"
      ],
      "execution_count": null,
      "outputs": []
    },
    {
      "cell_type": "code",
      "metadata": {
        "id": "u1y29PuXFNmb",
        "colab": {
          "base_uri": "https://localhost:8080/"
        },
        "outputId": "31f5252f-0a4f-41f2-e2cd-0139985a1475"
      },
      "source": [
        "print('Before:',hgbr_mae_score,'After:',hgbr_mae)"
      ],
      "execution_count": null,
      "outputs": [
        {
          "output_type": "stream",
          "text": [
            "Before: 0.26029875174769346 After: 0.322386546327074\n"
          ],
          "name": "stdout"
        }
      ]
    },
    {
      "cell_type": "markdown",
      "metadata": {
        "id": "2sLcZSgKTfQd"
      },
      "source": [
        "# **Bar Plot Before-After**"
      ]
    },
    {
      "cell_type": "markdown",
      "metadata": {
        "id": "LkAj7rXgTkRu"
      },
      "source": [
        "## **Mean Square Error**"
      ]
    },
    {
      "cell_type": "code",
      "metadata": {
        "id": "WG30pNTVTl0U",
        "colab": {
          "base_uri": "https://localhost:8080/",
          "height": 573
        },
        "outputId": "ab5f55c4-d6a3-436d-9d52-773a5da2acb2"
      },
      "source": [
        "# Mean Square Error\r\n",
        "\r\n",
        "import matplotlib.pyplot as plt \r\n",
        "\r\n",
        "mse_score=()\r\n",
        "\r\n",
        "estimators = ('OLSR','RR','PR','MLPR','KRR','RFR','HGBR')\r\n",
        "\r\n",
        "mse_score = (olsr_mse, rr_mse, pr_mse, mlpr_mse, krr_mse, rfr_mse,hgbr_mse)\r\n",
        "\r\n",
        "plt.bar(estimators , mse_score1,color=(0.6, 0.6, 0.6, 0.6),  edgecolor='black')\r\n",
        "\r\n",
        "plt.ylabel('MSE')\r\n",
        "\r\n",
        "plt.xlabel('Classifier')\r\n",
        "\r\n",
        "plt.title('Mean Squared Error before fine tuning')\r\n",
        "\r\n",
        "plt.show()\r\n",
        "\r\n",
        "plt.bar(estimators , mse_score,color=(0.6, 0.6, 0.6, 0.6),  edgecolor='blue')\r\n",
        "\r\n",
        "plt.ylabel('MSE')\r\n",
        "\r\n",
        "plt.xlabel('Classifier')\r\n",
        "\r\n",
        "plt.title('Mean Squared Error after fine tuning')\r\n",
        "\r\n",
        "plt.show()"
      ],
      "execution_count": null,
      "outputs": [
        {
          "output_type": "display_data",
          "data": {
            "image/png": "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\n",
            "text/plain": [
              "<Figure size 432x288 with 1 Axes>"
            ]
          },
          "metadata": {
            "tags": [],
            "needs_background": "light"
          }
        },
        {
          "output_type": "display_data",
          "data": {
            "image/png": "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\n",
            "text/plain": [
              "<Figure size 432x288 with 1 Axes>"
            ]
          },
          "metadata": {
            "tags": [],
            "needs_background": "light"
          }
        }
      ]
    },
    {
      "cell_type": "markdown",
      "metadata": {
        "id": "DUZjyoGbYapr"
      },
      "source": [
        "In general, we observe that after fine tuning all the results regarding the mean squared error metric improved. Specifically for the regressors selected:\n",
        "\n",
        "**Ordinary Least Square Regressor**: Initially, we noticed an error value: 76 and finally reached out 0.29\n",
        "\n",
        "**Ridge Regressor**: Initially, we noticed an error value: 72 and finally reached out 0.29\n",
        "\n",
        "**Elastic Net Regressor**: Initially, we noticed an error value: 174 and finally reached out 0.29\n",
        "\n",
        "**Multi Layer Perceptron Regressor**: Initially, we noticed an error value: 262 and finally reached out 0.025\n",
        "\n",
        "**Kernel Ridge Regressor**: Initially, we noticed an error value: 73 and finally reached out 0.001\n",
        "\n",
        "**Random Forest Regressor**: Initially, we noticed an error value: 2.11 and finally reached out 0.09\n",
        "\n",
        "**Hist Gradient Boosting Regressor**: Initially, we noticed an error value: 21.44 and finally reached out 0.09"
      ]
    },
    {
      "cell_type": "markdown",
      "metadata": {
        "id": "igDVcvCFVJeS"
      },
      "source": [
        "## **R² or Coefficient of Determination**"
      ]
    },
    {
      "cell_type": "code",
      "metadata": {
        "id": "vSoxJsvIUzEK",
        "colab": {
          "base_uri": "https://localhost:8080/",
          "height": 573
        },
        "outputId": "a5036d67-9a7e-431e-eb44-912a1680ae57"
      },
      "source": [
        "# R²\r\n",
        "\r\n",
        "import matplotlib.pyplot as plt \r\n",
        "\r\n",
        "r2_score=()\r\n",
        "\r\n",
        "estimators = ('OLSR','RR','PR','MLPR','KRR','RFR','HGBR')\r\n",
        "\r\n",
        "r2_score = (olsr_r2, rr_r2, pr_r2, mlpr_r2, krr_r2, rfr_r2,hgbr_r2)\r\n",
        "\r\n",
        "plt.bar(estimators, r2_score1,color=(0.6, 0.6, 0.6, 0.6),  edgecolor='grey')\r\n",
        "\r\n",
        "plt.ylabel('R²')\r\n",
        "\r\n",
        "plt.xlabel('Estimators')\r\n",
        "\r\n",
        "plt.title('R² or Coefficient of Determination before fine tuning')\r\n",
        "\r\n",
        "plt.show()\r\n",
        "\r\n",
        "plt.bar(estimators, r2_score,color=(0.6, 0.6, 0.6, 0.6),  edgecolor='olive')\r\n",
        "\r\n",
        "plt.ylabel('R²')\r\n",
        "\r\n",
        "plt.xlabel('Estimators')\r\n",
        "\r\n",
        "plt.title('R² or Coefficient of Determination after fine tuning')\r\n",
        "\r\n",
        "plt.show()\r\n",
        "\r\n",
        "\r\n"
      ],
      "execution_count": null,
      "outputs": [
        {
          "output_type": "display_data",
          "data": {
            "image/png": "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\n",
            "text/plain": [
              "<Figure size 432x288 with 1 Axes>"
            ]
          },
          "metadata": {
            "tags": [],
            "needs_background": "light"
          }
        },
        {
          "output_type": "display_data",
          "data": {
            "image/png": "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\n",
            "text/plain": [
              "<Figure size 432x288 with 1 Axes>"
            ]
          },
          "metadata": {
            "tags": [],
            "needs_background": "light"
          }
        }
      ]
    },
    {
      "cell_type": "markdown",
      "metadata": {
        "id": "G002-B1caJXk"
      },
      "source": [
        "n general, we observe that after fine tuning all results regarding R² metric improved or remained relatively constant. Specifically for the regressors selected:\n",
        "\n",
        "**Ordinary Least Square Regressor**: We observe a stability in the determination factor: 0.5\n",
        "\n",
        "**Ridge Regressor**: We observe a stability in the determination coefficient: 0.57\n",
        "\n",
        "**Elastic Net Regressor**: Initially, we noticed a negative value of coefficient of determination and we finally reached out 0.6\n",
        "\n",
        "**Multi Layer Perceptron Regressor**: Initially, we noticed a negative value of coefficient of determination and we finally reached out 0.97\n",
        "\n",
        "**Kernel Ridge Regressor**: Initially, we observed a value of the coefficient of determination: 0.57 and we finally reached out 0.99\n",
        "\n",
        "**Random Forest Regressor**: In both ways we reached out a value of the coeffiecient of determination: 0.99\n",
        "\n",
        "**Hist Gradient Boosting Regressor**: In both ways we reached out a value of the coeffiecient of determination: 0.91\n"
      ]
    },
    {
      "cell_type": "markdown",
      "metadata": {
        "id": "9evjMAKMVXHB"
      },
      "source": [
        "## **Median Absolute Error**"
      ]
    },
    {
      "cell_type": "code",
      "metadata": {
        "id": "vt0HQxKnVNMY",
        "colab": {
          "base_uri": "https://localhost:8080/",
          "height": 573
        },
        "outputId": "1c3989a0-bc23-444d-ca50-7f2f8ecdafe1"
      },
      "source": [
        "# Median Absolut Error\r\n",
        "\r\n",
        "import matplotlib.pyplot as plt \r\n",
        "\r\n",
        "mae_score=()\r\n",
        "\r\n",
        "estimators = ('OLSR','RR','PR','MLPR','KRR','RFR','HGBR')\r\n",
        "\r\n",
        "mae_score = (olsr_mae, rr_mae, pr_mae, mlpr_mae, krr_mae, rfr_mae,hgbr_mae)\r\n",
        "\r\n",
        "plt.bar(estimators, mae_score1,color=(0.6, 0.6, 0.6, 0.6),  edgecolor='purple')\r\n",
        "\r\n",
        "plt.ylabel('MAE')\r\n",
        "\r\n",
        "plt.xlabel('Estimators')\r\n",
        "\r\n",
        "plt.title('Median Absolute Error before fine tuning')\r\n",
        "\r\n",
        "plt.show()\r\n",
        "\r\n",
        "plt.bar(estimators, mae_score,color=(0.6, 0.6, 0.6, 0.6),  edgecolor='brown')\r\n",
        "\r\n",
        "plt.ylabel('MAE')\r\n",
        "\r\n",
        "plt.xlabel('Estimators')\r\n",
        "\r\n",
        "plt.title('Median Absolute Error after fine tuning')\r\n",
        "\r\n",
        "plt.show()"
      ],
      "execution_count": null,
      "outputs": [
        {
          "output_type": "display_data",
          "data": {
            "image/png": "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\n",
            "text/plain": [
              "<Figure size 432x288 with 1 Axes>"
            ]
          },
          "metadata": {
            "tags": [],
            "needs_background": "light"
          }
        },
        {
          "output_type": "display_data",
          "data": {
            "image/png": "iVBORw0KGgoAAAANSUhEUgAAAXgAAAEWCAYAAABsY4yMAAAABHNCSVQICAgIfAhkiAAAAAlwSFlzAAALEgAACxIB0t1+/AAAADh0RVh0U29mdHdhcmUAbWF0cGxvdGxpYiB2ZXJzaW9uMy4yLjIsIGh0dHA6Ly9tYXRwbG90bGliLm9yZy+WH4yJAAAcUUlEQVR4nO3deZwcdZ3/8dfbcCUkEJCRbAhJXFBcDgk4gILLT4nsci3HggqigrobZWVBRBGPXQEP5AcuwuLihnMVDLIIyC0YjaCcEwhHuG8CDAyXBAj3Z/+obyc1nZ6ezGSqZ+Y77+fj0Y9MV1XX91PdlXdXf6v624oIzMwsP+8Y7ALMzKwaDngzs0w54M3MMuWANzPLlAPezCxTDngzs0w54IcZSSFp/fT3zyT922DXMYDrnCPpnwZyncOZpD0kPSbpJUmbtaINSfMlfaSKtgbSYO77w4kDviKSHpb0uqS16qbfksJx6vK2ERFfiojvLe96eiLp3ZLelnRyVW301/K+GaTHv5qCrXa7eCBrHADHAQdGxFjg+bTfrFBVGxFxS0RsFBFzBrgNJJ0p6fsDtb6q9/1cOOCr9RCwT+2OpE2AMYNXTp99Fnge+KSklQe7mArUgq12+4dGCzUK1b4GbT+DeQowvx+P60v7A9aGDT0O+Gr9giIka/YDfl5eQNLKko6T9Kikp9JHz9Gl+V+X9KSkJyR9vu6xi4+KJK0h6RJJXZKeT39PKi07R9L3JP1Z0kJJV9Z/uqhbt1Lt3wHeABqF306SHpT0jKRjJb0jPXZ9SX+U9Jc071el9W4t6aY07yZJW/fQ/hGSzirdn1o7gpX0A+BvgZPSkfdJaZn3SbpK0nOS7pH0iZ62rxlJH5G0QNI3JHUCZ6R6zpN0lqQXgf0lTZR0UWrvfkn/XFd/t+UbtLNz+kT3YuomOSJNX1nSS8Ao4FZJDwBXp4e9kLb5Q2nZz0u6K73mv5U0pbT+kPRlSfcB99W13aiN2ifPj5W24VxJP0/7zHxJ7aV1TJT067TPPSTpoB6ezxnAvsBh5U9Kquvmq9ufa6/BoZKeTv8HPtfPZd8p6eL0PN8k6fuS/tSo1tw44Kt1PbCapL+RNArYGzirbpkfAe8FpgHrA+sA/w4gaQfga8D2wHuAjzVp6x3AGRRHZJOBRcBJdct8Cvgc8C5gpbTunnwYmAScA5xL8eZUbw+gHdgc2A2ovQF9D7gSWCOt4z/T9qwJXAqcCLwT+A/gUknvbFLHUiLi28A1LDkCP1DSqsBVwC/T9u0N/JekDfuy7pIJwJoUz+eMNG034DxgPHA2xXOzAJgI7AX8UNJ2pXXUL1/vZYo30fHAzsABknaPiNdStwzAphGxHrBtuj8+bfN1knYDvgX8I9CWnpNZdW3sDmwFdHseemijkV3Tdo4HLiLtU+nN/GLgVop9djrwFUl/X7+CiJiZtv//N/uk1MAEYPW0/i8AP5W0Rj+W/SnFcz2BYj9utC9nyQFfvdpR/PbAXcDjtRnpKHkGcEhEPBcRC4EfUoQTwCeAMyLijoh4GTiip0Yi4tmI+HVEvJLW8wPg/9UtdkZE3BsRiyhCe1qTuvcDLo+I5ylCcwdJ76pb5phU96PAT1jSHfUGRTBOjIhXI6J2tLQzcF9E/CIi3oyIWcDdNP500Fe7AA9HxBlp3bcAvwY+3uQxJ0p6oXQr9+m+DXw3BeGiNO26iLgwIt4G1gK2Ab6RtnEecCrdP7EtXr60jsUiYk5E3J7m30YRzvWvWTNfAo6OiLsi4k2KfWda+Sg+zX+uUfvL6E8RcVlEvEWxL2+apm8BtEXEURHxekQ8CJzCkn13ILwBHBURb0TEZcBLwAZ9WTYdWO1J8Vq+EhF3Av8zgDUOaQ746v2C4sh5f+q6ZyiOusYAc2shA1yRpkNxZPhYaflHempE0hhJ/y3pkdQlcDUwPu3gNZ2lv18BxtKAii6ij5OOOiPiOuDRtB1l9bVNTH8fBgi4MX2srx3ZT2ywDY9QHHUtrynAVuXApugWmNDkMQdFxPjSrXxVRldEvFq3fHl7JwK1N+Wa+m0pL78USVtJ+kPq4vgLRWD32G3WwBTghNL2PkfxvC9zDcugfp9ZRUV//hRgYt3z/S1g7eVsr+zZ9MZVbr/hPttk2TZgBbo/D8v7nAwbDviKRcQjFCdbdwLOr5v9DEVXykalkFm99NH5SWDd0vKTmzR1KMXRzVYRsRpLPtKrH2XvAaxG0cXRmfqh12Hpj7b1tT0BEBGdEfHPETER+GJaz/pp/pS6dUym9Kmm5GW6n5CuD+r6YVAfA/5YF9hjI+KAplvas0bDrJanPQGsKWlcaVr9tvQ2VOsvKbo91o2I1YGf0fPr1WhdjwFfrNvm0RFxbR9q6K/HgIfq2h4XETv1sHyjOl6h+Ws8ELqANym6CmvW7WHZ7DjgW+MLwHapm2Wx9FH/FOD4WveHpHVK/ZjnUpzM21DSGOC7TdoYR/Fm8ULq6262bG/2A04HNqHoxplG0R2xqYorgWq+ruLk7rrAwcCv0jZ8XEtO8D5P8Z/7beAy4L2SPqXiZOknKfqGL2lQwzxgW0mTJa0OfLNu/lPAX5fuX5LW/RlJK6bbFpL+pt/PQhMR8RhwLXC0pFUkvZ/ida4/x9LMOIpPAa9K2pKlPyGVdVE8h+Vt/hnwTUkbAUhaXVKzLqmBdCOwUMWJ6NGSRknaWNIWPSxf/3pB8Rp/Kj12B/rWPbVMUtfS+cAR6VPu++jejZY1B3wLRMQDEdHRw+xvAPcD16euld+R+hkj4nKKvu3fp2V+36SZnwCjKT4VXE/R1dNnkmonzH6SjsRrt7lpneWj+N8Acyn+o14KnJambwHcoOIqjYuAgyPiwYh4lqKv/FDgWYqunF0i4pn6OiLiKoo3jNtSG/VvAicAe6m4euTE1FXydxR9wE9QdC0cAzS7vLN2FU7tNneZnqQl9gGmpvYuoOjn/V0fHv8vwFGSFlKcWD+3pwUj4hWK8yp/Tl0iH4yICyi28Zy079wB7NjHbeiXFJy7ULz5P0Sx351KcaKzkdOADVPtF6ZpB1Ocf6l1p13Yw2OX14Gprk6KLtNZwGsVtTWkKPyDH2Y2gkg6BpgQEdlfTeMjeDPLmorvR7xfhS0putIuGOy6WmGgv/ZsZjbUjKPolplIcS7gxxTdi9lzF42ZWabcRWNmlqkh1UWz1lprxdSpUwe7DDOzYWPu3LnPRERbo3lDKuCnTp1KR0dPVxOamVk9ST1+w91dNGZmmXLAm5llygFvZpYpB7yZWaYc8GZmmXLAm5llygFvZpYpB7yZWaYc8GZmmRpS32Q1G2gXTJ/Oos7O3hdskdETJrDH7NmDXYaNEA54y9qizk4mnXzyYJex2IID+vsTsWZ95y4aM7NMOeDNzDLlgDczy5QD3swsUw54M7NMOeDNzDLlgDczy1SlAS/pEEnzJd0haZakVapsz8zMlqgs4CWtAxwEtEfExsAoYO+q2jMzs+6q7qJZARgtaQVgDPBExe2ZmVlSWcBHxOPAccCjwJPAXyLiyvrlJM2Q1CGpo6urq6pyzMxGnCq7aNYAdgPeDUwEVpX06frlImJmRLRHRHtbW1tV5ZiZjThVdtF8DHgoIroi4g3gfGDrCtszM7OSKgP+UeCDksZIEjAduKvC9szMrKTKPvgbgPOAm4HbU1szq2rPzMy6q3Q8+Ij4LvDdKtswM7PG/E1WM7NMOeDNzDLlgDczy5QD3swsUw54M7NMOeDNzDLlgDczy5QD3swsUw54M7NMOeDNzDLlgDczy5QD3swsUw54M7NMOeDNzDLlgDczy1SVv8m6gaR5pduLkr5SVXtmZtZdZT/4ERH3ANMAJI0CHgcuqKo9MzPrrlVdNNOBByLikRa1Z2Y24rUq4PcGZjWaIWmGpA5JHV1dXS0qx8wsf5UHvKSVgF2B/200PyJmRkR7RLS3tbVVXY6Z2YjRiiP4HYGbI+KpFrRlZmZJKwJ+H3ronjEzs+pUGvCSVgW2B86vsh0zM1taZZdJAkTEy8A7q2zDzMwa8zdZzcwy5YA3M8uUA97MLFMOeDOzTDngzcwy5YA3M8uUA97MLFMOeDOzTDngzcwy5YA3M8uUA97MLFMOeDOzTDngzcwy5YA3M8uUA97MLFNV/+DHeEnnSbpb0l2SPlRle2ZmtkSlP/gBnABcERF7pR/fHlNxe2ZmllQW8JJWB7YF9geIiNeB16tqz8zMuquyi+bdQBdwhqRbJJ2afqPVzMxaoMqAXwHYHDg5IjYDXgYOr19I0gxJHZI6urq6KizHzGxkqTLgFwALIuKGdP88isDvJiJmRkR7RLS3tbVVWI6Z2chSWR98RHRKekzSBhFxDzAduLOq9i6YPp1FnZ1Vrb7PRk+YwB6zZw92GWY2glV9Fc2/AmenK2geBD5XVUOLOjuZdPLJVa2+zxYccMBgl2BmI1ylAR8R84D2KtswM7PG/E1WM7NMOeDNzDLlgDczy5QD3swsUw54M7NMOeDNzDLlgDczy5QD3swsUw54M7NMOeDNzDLlgDczy5QD3swsUw54M7NMOeDNzDLlgDczy5QD3swsU5X+4Iekh4GFwFvAmxHhH/8wM2uRqn+yD+CjEfFMC9oxM7MSd9GYmWWq6oAP4EpJcyXNaLSApBmSOiR1dHV1VVyOmdnIUXXAfzgiNgd2BL4sadv6BSJiZkS0R0R7W1tbxeWYmY0clQZ8RDye/n0auADYssr2zMxsicoCXtKqksbV/gb+DrijqvbMzKy7Kq+iWRu4QFKtnV9GxBUVtmdmZiVNA17SahHxYg/zJkfEoz09NiIeBDZdzvrMzKyfejuCnwNsDiBpdkRML827sDbP+ueC6dNZ1Nk52GUAMHrCBPaYPXuwyzCzAdRbwKv095pN5lk/LOrsZNLJJw92GQAsOOCAwS7BzAZYbydZo4e/G903M7MhpLcj+HdJ+irF0Xrtb9J9X7RuZjaE9RbwpwDjGvwNcGolFZmZ2YBoGvARcWRP8yRtMfDlmJnZQOnTdfCSNgT2SbcXAA//a2Y2RPUa8JKmsiTU3wCmAO0R8XCVhZmZ2fJpehWNpOuASyneCPaMiA8ACx3uZmZDX2+XST5FcWJ1bZZcNePLI83MhoGmAR8RuwObAHOBIyQ9BKwhyaNCmpkNcb32wUfEX4AzgDMkrQ18Ajg+jUWzbtUFmplZ//RpuOCIeCoi/jMitgE+XFFNZmY2AHobTfKiXh6/6wDWYmZmA6i3LpoPAY8Bs4Ab8ABjZmbDRm8BPwHYnuIa+E9RXDI5KyLmL2sDkkYBHcDjEbFLfws1M7O+6e0qmrci4oqI2A/4IHA/MEfSgX1o42DgruWo0czM+qHXk6ySVpb0j8BZwJeBEyl+QLtXkiYBO+OByczMWq63k6w/BzYGLgOOjIi+/mj2T4DD6D4KZX0bM4AZAJMnT+7j6s3MrCe9HcF/GngPRTfLtZJeTLeFkhr+VmuNpF2ApyNibrPlImJmRLRHRHtbm4eYNzMbKL0NF9yn6+TrbAPsKmknYBVgNUlnRcSnl2OdZma2jJYnwJuKiG9GxKSImArsDfze4W5m1jqVBbyZmQ2uPv3gR39FxBxgTivaMjOzgo/gzcwy5YA3M8uUA97MLFMOeDOzTDngzcwy5YA3M8uUA97MLFMOeDOzTDngzcwy5YA3M8uUA97MLFMOeDOzTDngzcwy5YA3M8uUA97MLFMOeDOzTFUW8JJWkXSjpFslzZd0ZFVtmZnZ0qr8RafXgO0i4iVJKwJ/knR5RFxfYZtmZpZUFvAREcBL6e6K6RZVtWdmZt1V2gcvaZSkecDTwFURcUODZWZI6pDU0dXVVWU5ZmYjSqUBHxFvRcQ0YBKwpaSNGywzMyLaI6K9ra2tynLMzEaUllxFExEvAH8AdmhFe2ZmVu1VNG2Sxqe/RwPbA3dX1Z6ZmXVX5VU0fwX8j6RRFG8k50bEJRW2Z2ZmJVVeRXMbsFlV6zczs+b8TVYzs0w54M3MMuWANzPLlAPezCxTDngzs0w54M3MMuWANzPLlAPezCxTDngzs0w54M3MMuWANzPLlAPezCxTDngzs0w54M3MMuWANzPLVJW/6LSupD9IulPSfEkHV9WWmZktrcpfdHoTODQibpY0Dpgr6aqIuLPCNs3MLKnsCD4inoyIm9PfC4G7gHWqas/MzLprSR+8pKkUP993Q4N5MyR1SOro6upqRTlmZiNC5QEvaSzwa+ArEfFi/fyImBkR7RHR3tbWVnU5ZmYjRqUBL2lFinA/OyLOr7ItMzPrrsqraAScBtwVEf9RVTtmZtZYlUfw2wCfAbaTNC/ddqqwPTMzK6nsMsmI+BOgqtZvZmbN+ZusZmaZcsCbmWXKAW9mlikHvJlZphzwZmaZcsCbmWXKAW9mlikHvJlZphzwZmaZcsCbmWXKAW9mlikHvJlZphzwZmaZcsCbmWXKAW9mlqkqf9HpdElPS7qjqjbMzKxnVR7BnwnsUOH6zcysicoCPiKuBp6rav1mZtbcoPfBS5ohqUNSR1dX12CXY2aWjUEP+IiYGRHtEdHe1tY22OWYmWVj0APezMyq4YA3M8tUlZdJzgKuAzaQtEDSF6pqy8zMlrZCVSuOiH2qWreZmfXOXTRmZplywJuZZcoBb2aWKQe8mVmmHPBmZplywJuZZcoBb2aWKQe8mVmmHPBmZplywJuZZaqyoQosPxdMn86izs7BLmOx0RMmsMfs2YNdhtmQ5YC3Zbaos5NJJ5882GUstuCAAwa7BBumRsrBigPezEackXKw4oA3s+U2lI6I3XW3hAPebIgZSmEJyxaYQ+mI2F13SzjgzYaYoRSW4MAcziq9TFLSDpLukXS/pMOrbMvMzLqr8if7RgE/BXYENgT2kbRhVe2ZmVl3VR7BbwncHxEPRsTrwDnAbhW2Z2ZmJYqIalYs7QXsEBH/lO5/BtgqIg6sW24GMCPd3QC4p5KClt1awDODXENfDLd6wTW3ynCrebjVC0Oj5ikR0dZoxqCfZI2ImcDMwa6jRlJHRLQPdh3LarjVC665VYZbzcOtXhj6NVfZRfM4sG7p/qQ0zczMWqDKgL8JeI+kd0taCdgbuKjC9szMrKSyLpqIeFPSgcBvgVHA6RExv6r2BtCQ6S5aRsOtXnDNrTLcah5u9cIQr7myk6xmZja4PB68mVmmHPBmZpnKPuAlTZL0G0n3SXpA0gmSVpL0EUmXNFh+F0m3SLpV0p2SvpimHyHpcUnz0vR9BmFb3krt3yHpYknj0/SpkhaVavu5pBVbXV8jdTX/r6QxDaYv3pYW1RSSzirdX0FSV21/kLS/pJMaPO5hSbdLuk3SlZImNJj+R0lTWrANL5X+3knSvZKmNNtPJZ0p6aE071ZJ06uus67mZdl/a7eV0uvQle7fLemQiut7qe5+t/1A0qfTazw/PX+nlrZhThqWZZ6ku9L3e2qPa/n+UZN1wEsScD5wYUS8B3gvMBb4QQ/Lr0hx0uQfImJTYDNgTmmR4yNiGsU3cv97EEJ0UURMi4iNgeeAL5fmPZBq24TiktRPtLi2npRrfh34UoPp9dtStZeBjSWNTve3Z9kv4f1oRLwf6AC+1WD6HOA7A1Vob1JInwjsGBGPpMnN9tOvp3lfAX7WqjqTXvff0u31NP1Xqd5tgG9LWrd+pa0gaQfgEIrneSNgc+BaYO3SYvuWaj0mXT1YMyj7R9YBD2wHvBoRZwBExFsUL9LngTENlh9HcWXRs2n51yJiqW/WRsR9wCvAGhXVvSyuA9apn5i28cZG84aAa4D1G0xvuC0VuwzYOf29DzCrj4+/mkHeFknbAqcAu0TEA/Xze9lPB+M573f7EfEscD/wV5VV1Ny3ga9FxOOpnrci4vRG+UBxEPky8FaDeS193nMP+I2AueUJEfEi8CgN/nNGxHMU1+o/ImmWpH0lLfUcSdocuC8inq6m7OZUDOQ2nQbfK5C0CrAVcEWr62pG0goUA8/dXje9x22p2DnA3un5ej9wQx8fvwt125LsAFy4nLUti5VTO7tHxN2NFuhlP21VnUvp4TVfr9Q989MGj5kMrALcVmFpo8vdRMBRpXkbATf38vizJd1GMdzK99LBVr2WPu+5B3yfpbFzplMcBX8NOL00+xBJ8ynCoGE3T8VGpx2vk+Kj4VWleeuleU8BT0ZElf8R+qJWcwfFG+tpddMbbUvl0vMzleLo/bI+PPQPqe7VgKPrpj9O8SbW108D/fEGRRfBFxrMa7afHivpXuCXwDHVlriUZq95uYum3HXzyRSa9wP/FRGvVljfolIN04B/b7SQpE3Sm8ADkj5ZmrVv6oaZDHytrq+91fsHkH/A3wl8oDxB0moUL8D9PT0oIm6PiOMp+mb3LM06PvW/7Qmclo7+WmlR2vGmAKJxH/x6wAck7dri2npS/k/zr6W+1Wbb0ioXAcfRt/9wH03b8tmIeKE8nWJb5gFHDmCNPXmb4jzLlpK+VTev2X769Yh4L/ANuh+8tEJ/XvNfpdDcGvhR7cT2IJhP0e9ey4dpwOXA6PoFI6KL4mh/q9LkVu8fQP4BPxsYI+mzsPij4Y+BMyn6JruRNFbSR0qTpgGP1C8XERdRHJHuN/Al9y4iXgEOAg5NXR/lec8AhwPfHIza+qrZtrTA6cCREdGoq6XPIuJNipOXn5W05kCss5f2XqE4j7CvpKWO5HvZT08C3iHp76utcmn9ec0jogP4BXBwlbU1cTRwnKRJpWlLhTuAiivFNgO6nRdp9f4BmQd8FF/T3QP4uKT7gHuBV1ly9cN0SQtqN4oX5bDa5U4U77T797D6o4CvNuqjb4WIuIWiP7LR5ZoXUryx/W1rq+qfXralynYXRMSJPczev7xv1P3HbrbOJyk+EbTkE0k6b7QD8J0ePrU13E/T/43vA4dVX+XS+vmaHwN8TtK4aqrqWURcRnG10uXp8tNrKU6i/ra02NkpN+YCZ0bE3Abraen+4aEKzMwylfURvJnZSOaANzPLlAPezCxTDngzs0w54M3MMuWAt2GtNEJh7XZ4k2V3l7Rh6f5Rkj42ADWMl/Qvy7ses4HmyyRtWJP0UkSMXcZlzwQuiYjzBriGqWm9G/fhMSukL76YVcZH8JYlST9KX0i5TdJxkrYGdqUYi2WepPVUjI++V1r+YUlHp3kdkjaX9Ns03siX0jJjJc2WdHMa33u31NyPWDJY1rEqHKti3PPba+OVqPgNgmskXQTcKWlVSZeqGFv8jrpxTcyWW6u/Gm420GoDWNUcDfyO4hvM74uIkDQ+Il5Iwbr4CF5S/boejYhpko6nGM5iG4oRDO+gGDv9VWCPiHhR0lrA9WmdhwMbp/FJkLQnxTAXmwJrATdJujq1sXla9qG03BMRsXN63OoD+LyYOeBt2KsNYLVYGt/kVYqBti4Blvrlrh7Uhq+9HRgbEQuBhZJeU/HLPS8DP1QxDvvbFON6r91gPR8GZqXhYp+S9EdgC+BF4MaIeKjUzo8lHUPxxnPNMtZptkzcRWPZSX3bWwLnUYzbvqxj47+W/n279Hft/grAvkAb8IH0pvIUxRF+X7xcqvNeiiP624HvS2o4PK1ZfzngLTuSxgKrpwGiDqHoKgFYSPGrXf21OvB0RLwhqTb8a6P1XkMxjvkoSW3AthS/L1Bf50TglYg4CziWNByt2UBxF40Nd/V98FcAJwC/SeOgC/hqmncOcIqkg4C9+tHW2cDFkm6nGIb3bih+Tk7SnyXdQTFG+GHAh4BbgQAOi4hOSe+rW98mFCd936b4AY8D+lGTWY98maSZWabcRWNmlikHvJlZphzwZmaZcsCbmWXKAW9mlikHvJlZphzwZmaZ+j98eGvrfL/QgwAAAABJRU5ErkJggg==\n",
            "text/plain": [
              "<Figure size 432x288 with 1 Axes>"
            ]
          },
          "metadata": {
            "tags": [],
            "needs_background": "light"
          }
        }
      ]
    },
    {
      "cell_type": "markdown",
      "metadata": {
        "id": "TotFsbKLb1Ex"
      },
      "source": [
        "In general, we observe that after fine tuning all the results regarding the median absolute error metric improved. Specifically for the regressors selected:\n",
        "\n",
        "**Ordinary Least Square Regressor**: Initially, we noticed an error value: 7.47 and finally we reached out 0.55\n",
        "\n",
        "**Ridge Regressor**: Initially, we noticed an error value: 5.86 and finally we reached out 0.37\n",
        "\n",
        "**Elastic Net Regressor**: Initially, we noticed an error value: 9.55 and finally we reached out 0.36\n",
        "\n",
        "**Multi Layer Perceptron Regressor**: Initially, we noticed an error value: 7.87 and finally we reached out 0.038\n",
        "\n",
        "**Kernel Ridge Regressor**: Initially, we noticed an error value: 5.71 and finally we reached out 0.01\n",
        "\n",
        "**Random Forest Regressor**: Initially, we noticed an error value: 0.2 and finally we reached out 0.013\n",
        "\n",
        "**Hist Gradient Boosting Regressor**: Initially, we noticed an error value: 0.2 and finally we reached out 0.013\n",
        "\n",
        "\n"
      ]
    },
    {
      "cell_type": "markdown",
      "metadata": {
        "id": "ildzbK1sEIq-"
      },
      "source": [
        "# **Aggregated Results for Accuracy Metrics**"
      ]
    },
    {
      "cell_type": "markdown",
      "metadata": {
        "id": "DZsJz0klBVBz"
      },
      "source": [
        "\r\n",
        "## **Aggregated Results for Mean Squared Error**\r\n"
      ]
    },
    {
      "cell_type": "code",
      "metadata": {
        "id": "IparTWUzwpFv",
        "colab": {
          "base_uri": "https://localhost:8080/"
        },
        "outputId": "d3dcb7f4-a860-4341-a5a2-2d79f5bde09a"
      },
      "source": [
        "MSE_Final=pd.DataFrame()\n",
        "\n",
        "Estimators=pd.DataFrame(estimators)\n",
        "\n",
        "MSE_before=pd.DataFrame(mse_score1)\n",
        "\n",
        "MSE_after=pd.DataFrame(mse_score)\n",
        "\n",
        "diff=(MSE_before-MSE_after)*100\n",
        "\n",
        "final_mse=pd.concat([Estimators,MSE_before,MSE_after,diff], axis=1)\n",
        "\n",
        "final_mse.columns=['Estimators','Before','After','Diff%']\n",
        "\n",
        "final_mse.set_index('Estimators', inplace=True)\n",
        "\n",
        "print(final_mse)"
      ],
      "execution_count": null,
      "outputs": [
        {
          "output_type": "stream",
          "text": [
            "                Before      After         Diff%\n",
            "Estimators                                     \n",
            "OLSR         94.882579  94.882579 -2.842171e-12\n",
            "RR          126.617971  96.053283  3.056469e+03\n",
            "PR           22.360571   0.571421  2.178915e+03\n",
            "MLPR        281.428590   7.425725  2.740029e+04\n",
            "KRR         126.426291   0.706067  1.257202e+04\n",
            "RFR           2.423541   2.440645 -1.710410e+00\n",
            "HGBR         20.172557  19.439346  7.332109e+01\n"
          ],
          "name": "stdout"
        }
      ]
    },
    {
      "cell_type": "markdown",
      "metadata": {
        "id": "WH7y5nVjBrS6"
      },
      "source": [
        "## **Aggregated Results for R²**"
      ]
    },
    {
      "cell_type": "code",
      "metadata": {
        "id": "COiUpKEGBvn1",
        "colab": {
          "base_uri": "https://localhost:8080/"
        },
        "outputId": "520d5d85-4cd3-4065-ef50-0d44498b6bc6"
      },
      "source": [
        "R2_Final=pd.DataFrame()\r\n",
        "\r\n",
        "Estimators=pd.DataFrame(estimators)\r\n",
        "\r\n",
        "R2_before=pd.DataFrame(r2_score1)\r\n",
        "\r\n",
        "R2_after=pd.DataFrame(r2_score)\r\n",
        "\r\n",
        "diff=(R2_after-R2_before)*100\r\n",
        "\r\n",
        "final_r2=pd.concat([Estimators,R2_before,R2_after,diff], axis=1)\r\n",
        "\r\n",
        "final_r2.columns=['Estimators','Before','After','Diff%']\r\n",
        "\r\n",
        "final_r2.set_index('Estimators', inplace=True)\r\n",
        "\r\n",
        "print(final_r2)"
      ],
      "execution_count": null,
      "outputs": [
        {
          "output_type": "stream",
          "text": [
            "              Before     After         Diff%\n",
            "Estimators                                  \n",
            "OLSR        0.654952  0.654952 -2.220446e-14\n",
            "RR          0.539544  0.628519  8.897490e+00\n",
            "PR          0.918684  0.997922  7.923795e+00\n",
            "MLPR       -0.023437  0.982170  1.005607e+02\n",
            "KRR         0.540241  0.997432  4.571914e+01\n",
            "RFR         0.991187  0.991107 -7.933972e-03\n",
            "HGBR        0.926641  0.927854  1.213494e-01\n"
          ],
          "name": "stdout"
        }
      ]
    },
    {
      "cell_type": "markdown",
      "metadata": {
        "id": "d6weVIq2CRpg"
      },
      "source": [
        "## **Aggregated Results for Median Absolute Error**"
      ]
    },
    {
      "cell_type": "code",
      "metadata": {
        "id": "uMZnRZipCTLb",
        "colab": {
          "base_uri": "https://localhost:8080/"
        },
        "outputId": "297cc90f-aaeb-4613-88d1-44f44cf46e22"
      },
      "source": [
        "MAE_Final=pd.DataFrame()\r\n",
        "\r\n",
        "Estimators=pd.DataFrame(estimators)\r\n",
        "\r\n",
        "MAE_before=pd.DataFrame(mae_score1)\r\n",
        "\r\n",
        "MAE_after=pd.DataFrame(mae_score)\r\n",
        "\r\n",
        "diff=(MAE_before-MAE_after)*100\r\n",
        "\r\n",
        "final_mae=pd.concat([Estimators,MAE_before,MAE_after,diff], axis=1)\r\n",
        "\r\n",
        "final_mae.columns=['Estimators','Before','After','Diff%']\r\n",
        "\r\n",
        "final_mae.set_index('Estimators', inplace=True)\r\n",
        "\r\n",
        "print(final_mae)"
      ],
      "execution_count": null,
      "outputs": [
        {
          "output_type": "stream",
          "text": [
            "              Before     After         Diff%\n",
            "Estimators                                  \n",
            "OLSR        5.895931  5.895931  1.598721e-12\n",
            "RR          4.855861  4.771608  8.425344e+00\n",
            "PR          3.275781  0.351475  2.924307e+02\n",
            "MLPR        7.780191  8.497366 -7.171757e+01\n",
            "KRR         4.712480  0.185388  4.527092e+02\n",
            "RFR         0.218400  0.232735 -1.433529e+00\n",
            "HGBR        0.260299  0.322387 -6.208779e+00\n"
          ],
          "name": "stdout"
        }
      ]
    },
    {
      "cell_type": "markdown",
      "metadata": {
        "id": "ofbjNeSacxOY"
      },
      "source": [
        "# **Aggregated Results for Time**"
      ]
    },
    {
      "cell_type": "markdown",
      "metadata": {
        "id": "LREON-3Uc39u"
      },
      "source": [
        "## **Before Fine Tuning**\r\n",
        "\r\n",
        "\r\n",
        "\r\n",
        "\r\n"
      ]
    },
    {
      "cell_type": "code",
      "metadata": {
        "id": "GwXYpyEwW7kI",
        "colab": {
          "base_uri": "https://localhost:8080/"
        },
        "outputId": "fe68a401-e1fa-4b92-9dd7-23b99cd801b4"
      },
      "source": [
        "times_train_before=pd.DataFrame([times_train_bef])\r\n",
        "times_test_before=pd.DataFrame([times_test_bef])\r\n",
        "\r\n",
        "times_test_before=times_test_before.T\r\n",
        "times_train_before=times_train_before.T\r\n",
        "\r\n",
        "final_times_before=pd.concat([times_train_before,times_test_before], axis=1)\r\n",
        "\r\n",
        "final_times_before.columns=['Train','Test']\r\n",
        "\r\n",
        "print(final_times_before)"
      ],
      "execution_count": null,
      "outputs": [
        {
          "output_type": "stream",
          "text": [
            "         Train      Test\n",
            "olsr  0.016841  0.001347\n",
            "rr    0.003373  0.002602\n",
            "pr    0.003439  0.003231\n",
            "mlpr  0.242181  0.002219\n",
            "krr   0.013557  0.002054\n",
            "rfr   0.157595  0.008438\n",
            "hgbr  0.075769  0.003544\n"
          ],
          "name": "stdout"
        }
      ]
    },
    {
      "cell_type": "markdown",
      "metadata": {
        "id": "LAS8UrSgdZJz"
      },
      "source": [
        "## **After Fine Tuning**\r\n",
        "\r\n"
      ]
    },
    {
      "cell_type": "code",
      "metadata": {
        "id": "KndGiAz_dqxd",
        "colab": {
          "base_uri": "https://localhost:8080/"
        },
        "outputId": "ee8a3957-04a8-4774-dcb3-353cfca472ee"
      },
      "source": [
        "times_train_after=pd.DataFrame([times_train_aft])\r\n",
        "times_test_after=pd.DataFrame([times_test_aft])\r\n",
        "\r\n",
        "times_test_after=times_test_after.T\r\n",
        "times_train_after=times_train_after.T\r\n",
        "\r\n",
        "final_times_after=pd.concat([times_train_after,times_test_after], axis=1)\r\n",
        "\r\n",
        "final_times_after.columns=['Train','Test']\r\n",
        "\r\n",
        "print(final_times_after)"
      ],
      "execution_count": null,
      "outputs": [
        {
          "output_type": "stream",
          "text": [
            "                Train      Test\n",
            "olsr_scaled  0.001138  0.000141\n",
            "rr_mse       0.001856  0.000717\n",
            "rr_r2        0.001727  0.000209\n",
            "rr_mae       0.001278  0.000195\n",
            "pr_mse       0.001545  0.000798\n",
            "pr_r2        0.001206  0.000826\n",
            "pr_mae       0.000988  0.000719\n",
            "mlpr_mse     0.031661  0.000223\n",
            "mlpr_r2      0.058249  0.000211\n",
            "mlpr_mae     0.037923  0.002141\n",
            "krr_mse      0.013541  0.002672\n",
            "krr_r2       0.013074  0.005682\n",
            "krr_mae      0.006330  0.002965\n",
            "rfr_mse      0.131243  0.007446\n",
            "rfr_r2       0.057574  0.001969\n",
            "rfr_mae      0.461269  0.013030\n",
            "hgbr_mse     0.021894  0.000785\n",
            "hgbr_r2      0.069030  0.002023\n",
            "hgbr_mae     0.076300  0.002105\n"
          ],
          "name": "stdout"
        }
      ]
    },
    {
      "cell_type": "markdown",
      "metadata": {
        "id": "XQesxP1dM1Zu"
      },
      "source": [
        "Due to preprocessing time periods have been decreased in both Train and Test sets."
      ]
    }
  ]
}
